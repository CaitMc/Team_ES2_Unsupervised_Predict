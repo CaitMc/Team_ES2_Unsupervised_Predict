{
 "cells": [
  {
   "cell_type": "markdown",
   "metadata": {},
   "source": [
    "# **Overview: Movie Recommendation** \n",
    "\n",
    "![](https://about.netflix.com/images/meta/netflix-symbol-black.png)"
   ]
  },
  {
   "cell_type": "markdown",
   "metadata": {},
   "source": [
    "#### In today’s technology driven world, recommender systems are socially and economically critical for ensuring that individuals can make appropriate choices surrounding the content they engage with on a daily basis. One application where this is especially true surrounds movie content recommendations; where intelligent algorithms can help viewers find great titles from tens of thousands of options.…ever wondered how Netflix, Amazon Prime, Showmax, Disney and the likes somehow know what to recommend to you?\n",
    "\n",
    "#### …it's not just a guess drawn out of the hat. There is an algorithm behind it.\n"
   ]
  },
  {
   "cell_type": "markdown",
   "metadata": {},
   "source": [
    "# **Problem Statement**"
   ]
  },
  {
   "cell_type": "markdown",
   "metadata": {},
   "source": [
    "#### With this context, EDSA is challenging you to construct a recommendation algorithm based on content or collaborative filtering, capable of accurately predicting how a user will rate a movie they have not yet viewed based on their historical preferences.\n",
    "\n",
    "#### What value is achieved through building a functional recommender system?Providing an accurate and robust solution to this challenge has immense economic potential, with users of the system being exposed to content they would like to view or purchase - generating revenue and platform affinity.\n",
    "\n",
    "\n",
    "#### This dataset consists of several million 5-star ratings obtained from users of the online MovieLens movie recommendation service. The MovieLens dataset has long been used by industry and academic researchers to improve the performance of explicitly-based recommender systems, and now you get to as well!\n",
    "\n",
    "#### For this Predict, we'll be using a special version of the MovieLens dataset which has enriched with additional data, and resampled for fair evaluation purposes."
   ]
  },
  {
   "cell_type": "markdown",
   "metadata": {},
   "source": [
    "<a id=\"cont\"></a>\n",
    "\n",
    "# **Table of Contents**\n",
    "\n",
    "<details>\n",
    "<summary><a href=#one>1. Importing Packages</a></summary>\n",
    "<br>\n",
    "<a href=#one.one>1.1 Importing python packages that will be used in the notebook </a>\n",
    "</details>\n",
    "\n",
    "<br>\n",
    "\n",
    "<details>\n",
    "<summary><a href=#two>2. Loading Data</a></summary>\n",
    "<br>\n",
    "<a href=#two.one>2.1 Loading the Train and Test datasets</a>\n",
    "</details>\n",
    "\n",
    "<br>\n",
    "\n",
    "<details>\n",
    "<summary><a href=#three>3. Exploratory Data Analysis (EDA)</a></summary>\n",
    "<br>\n",
    "<a href=#three.one>3.1 Why is EDA important?</a>\n",
    "<br>\n",
    "<a href=#three.two>3.2 Pandas profiling model</a>\n",
    "<br>\n",
    "<a href=#three.three>3.3 Generating a word cloud</a>\n",
    "<br>\n",
    "<a href=#three.four>3.4 Looking at the data types of the Train and Test datasets</a>\n",
    "<br>\n",
    "<a href=#three.five>3.5 Looking for null values in the Train and Test datasets</a>\n",
    "<br>\n",
    "<a href=#three.six>3.6 Investigating the distribution of categorical values</a>\n",
    "<br>\n",
    "<a href=#three.seven> 3.7  Hashtags for each sentiment</a>\n",
    "</details>\n",
    "\n",
    "<br>\n",
    "\n",
    "<details>\n",
    "<summary><a href=#four>4. Data Engineering</a></summary>\n",
    "<br>\n",
    "<a href=#four.one>4.1 A copy of each dataset </a>\n",
    "<br>\n",
    "<a href=#four.two>4.2 Function to make all text lowercase </a>\n",
    "<br>\n",
    "<a href=#four.three>4.3 Function to remove URLs </a>\n",
    "<br>\n",
    "<a href=#four.four>4.4 Removing special characters </a>\n",
    "<br>\n",
    "<a href=#four.five>4.5 Removing punctuation </a>\n",
    "<br>\n",
    "<a href=#four.six>4.6 Removing digits</a>\n",
    "<br>\n",
    "<a href=#four.seven>4.7 Removing stopwords </a>\n",
    "<br>\n",
    "<a href=#four.eight>4.8 Tokenization </a>\n",
    "<br>\n",
    "<a href=#four.nine>4.9 Lemmatization </a>\n",
    "<br>\n",
    "<a href=#four.ten>4.10 Datasets after cleaning </a>\n",
    "<br>\n",
    "<a href=#four.eleven>4.11 Analysis of data after cleaning </a>\n",
    "</details>\n",
    "\n",
    "<br>\n",
    "\n",
    "<details>\n",
    "<summary><a href=#four>5. Modeling</a></summary>\n",
    "<br>\n",
    "<a href=#five.one>5.1 Splitting the x variable from the tartget variable </a>\n",
    "<br>\n",
    "<a href=#five.two>5.2 Turning text into something the model can read </a>\n",
    "<br>\n",
    "<a href=#five.three>5.3 Splitting the data into Train and validation set </a>\n",
    "<br>\n",
    "<a href=#four.four>4.4 Training the model and evaluating the model with the validation set </a>\n",
    "<br>\n",
    "<a href=#five.five>5.5 Logistic Regression model </a>\n",
    "<br>\n",
    "<a href=#five.six>5.6 Random Forest model </a>\n",
    "<br>\n",
    "<a href=#five.seven>5.7 Naive model</a>\n",
    "<br>\n",
    "<a href=#five.eight>5.8 SVC model </a>\n",
    "<br>\n",
    "<a href=#five.nine>5.9 KNN model </a>\n",
    "<br>\n",
    "<a href=#five.ten>5.10 Test set preperation and saving the best model </a>\n",
    "<br>\n",
    "<a href=#five.eleven>5.11 Test predicitions </a>\n",
    "<br>\n",
    "<a href=#five.twelve>5.12 CSV conversion </a>\n",
    "</details>\n",
    "\n",
    "<br>\n",
    "\n",
    "<details>\n",
    "<summary><a href=#six>6. Model performance</a></summary>\n",
    "<br>\n",
    "<a href=#six.one>6.1 What is performance analysis in machine learning</a>\n",
    "<br>\n",
    "<a href=#six.two>6.2 Evaluation of model</a>\n",
    "<br>\n",
    "<a href=#six.three>6.3 Assesment of the F-1 score according to both Train and Test sets </a>\n",
    "<br>\n",
    "<a href=#six.four>6.4 Analysing the dataframe</a>\n",
    "<br>\n",
    "<a href=#six.five>6.5 Plotting the F-1 Test performance from the Test data </a>\n",
    "<br>\n",
    "<a href=#six.six>6.6 Confusion matrix of the various models </a>\n",
    "</details>\n",
    "\n",
    "<br>\n",
    "\n",
    "<details>\n",
    "<summary><a href=#six>7. Model Explanations</a></summary>\n",
    "<br>\n",
    "<a href=#seven.one>7.1 Best performing model</a>\n",
    "<br>\n",
    "<a href=#seven.two>7.2 Conclusion</a>"
   ]
  },
  {
   "cell_type": "markdown",
   "metadata": {},
   "source": [
    " \n",
    " <a id=\"one\"></a>\n",
    " \n",
    " # **1.Importing Packages**\n",
    "<a href=#cont>Back to Table of Contents</a>\n",
    "\n",
    "---\n",
    "    \n",
    "| *Description: Importing Packages*|\n",
    "| :--------------------------- |\n",
    ">In this section all the packages that may be needed during our analysis and the libraries that will be used throughout the analysis and modelling will be imported. \n",
    " |\n",
    "\n",
    "---"
   ]
  },
  {
   "cell_type": "markdown",
   "metadata": {},
   "source": [
    "### <a id=\"one.one\"></a>1.1 *Importing python packages that will be used in the notebook.*"
   ]
  },
  {
   "cell_type": "code",
   "execution_count": 190,
   "metadata": {},
   "outputs": [
    {
     "name": "stderr",
     "output_type": "stream",
     "text": [
      "[nltk_data] Downloading package punkt to\n",
      "[nltk_data]     /Users/caitlinmclaren/nltk_data...\n",
      "[nltk_data]   Package punkt is already up-to-date!\n",
      "[nltk_data] Downloading package stopwords to\n",
      "[nltk_data]     /Users/caitlinmclaren/nltk_data...\n",
      "[nltk_data]   Package stopwords is already up-to-date!\n",
      "[nltk_data] Downloading package wordnet to\n",
      "[nltk_data]     /Users/caitlinmclaren/nltk_data...\n",
      "[nltk_data]   Package wordnet is already up-to-date!\n",
      "[nltk_data] Downloading package wordnet to\n",
      "[nltk_data]     /Users/caitlinmclaren/nltk_data...\n",
      "[nltk_data]   Package wordnet is already up-to-date!\n",
      "[nltk_data] Downloading package stopwords to\n",
      "[nltk_data]     /Users/caitlinmclaren/nltk_data...\n",
      "[nltk_data]   Package stopwords is already up-to-date!\n",
      "[nltk_data] Downloading package omw-1.4 to\n",
      "[nltk_data]     /Users/caitlinmclaren/nltk_data...\n",
      "[nltk_data]   Package omw-1.4 is already up-to-date!\n"
     ]
    },
    {
     "data": {
      "text/html": [
       "        <script type=\"text/javascript\">\n",
       "        window.PlotlyConfig = {MathJaxConfig: 'local'};\n",
       "        if (window.MathJax) {MathJax.Hub.Config({SVG: {font: \"STIX-Web\"}});}\n",
       "        if (typeof require !== 'undefined') {\n",
       "        require.undef(\"plotly\");\n",
       "        requirejs.config({\n",
       "            paths: {\n",
       "                'plotly': ['https://cdn.plot.ly/plotly-2.9.0.min']\n",
       "            }\n",
       "        });\n",
       "        require(['plotly'], function(Plotly) {\n",
       "            window._Plotly = Plotly;\n",
       "        });\n",
       "        }\n",
       "        </script>\n",
       "        "
      ]
     },
     "metadata": {},
     "output_type": "display_data"
    }
   ],
   "source": [
    "# Libraries for data loading, data manipulation and data visulisation\n",
    "import warnings\n",
    "import numpy as np\n",
    "import pandas as pd\n",
    "import seaborn as sns\n",
    "import matplotlib.pyplot as plt\n",
    "from mpl_toolkits.mplot3d import Axes3D\n",
    "from pandas_profiling import ProfileReport\n",
    "\n",
    "\n",
    "# Libraries for data preparation and model building\n",
    "from sklearn.linear_model import LogisticRegression\n",
    "from sklearn.naive_bayes import MultinomialNB\n",
    "from sklearn.ensemble import RandomForestClassifier, AdaBoostClassifier\n",
    "from sklearn.svm import LinearSVC\n",
    "from sklearn.model_selection import train_test_split\n",
    "from sklearn.feature_extraction.text import TfidfVectorizer\n",
    "from sklearn.metrics import f1_score, precision_score, recall_score,accuracy_score, confusion_matrix,classification_report\n",
    "from mpl_toolkits.mplot3d import Axes3D\n",
    "from IPython.display import Image, HTML\n",
    "from surprise import Reader, Dataset\n",
    "from surprise import SVD, NormalPredictor, BaselineOnly, NMF, SlopeOne, CoClustering\n",
    "from sklearn.metrics.pairwise import cosine_similarity\n",
    "from sklearn.feature_extraction.text import CountVectorizer\n",
    "import json\n",
    "import datetime\n",
    "\n",
    "import nltk\n",
    "nltk.download([\"punkt\",\"stopwords\",\"wordnet\"])\n",
    "from nltk.stem import WordNetLemmatizer\n",
    "from wordcloud import WordCloud, STOPWORDS\n",
    "import re\n",
    "\n",
    "\n",
    "import nltk\n",
    "from nltk import TreebankWordTokenizer, SnowballStemmer\n",
    "from nltk.stem import WordNetLemmatizer\n",
    "from nltk.corpus import stopwords\n",
    "import re\n",
    "import string\n",
    "import urllib\n",
    "import spellchecker\n",
    "from textblob import TextBlob\n",
    "import autocorrect\n",
    "from textblob import TextBlob\n",
    "from nltk.tokenize import  TweetTokenizer\n",
    "STOPWORDS = set(stopwords.words('english'))\n",
    "\n",
    "\n",
    "nltk.download('wordnet')\n",
    "nltk.download('stopwords')\n",
    "nltk.download('omw-1.4')\n",
    "\n",
    "pd.set_option('display.max_rows', 1000)\n",
    "pd.set_option('Max_colwidth', 400)\n",
    "\n",
    "# suppress cell warnings\n",
    "warnings.filterwarnings(\"ignore\")\n",
    "\n",
    "# Ignore warnings\n",
    "import warnings\n",
    "warnings.simplefilter(action='ignore')\n",
    "\n",
    "\n",
    "# Data Preprocessing\n",
    "import random\n",
    "from time import time\n",
    "import cufflinks as cf\n",
    "from sklearn.manifold import TSNE\n",
    "from sklearn.cluster import KMeans\n",
    "from sklearn.decomposition import PCA\n",
    "from mpl_toolkits.mplot3d import Axes3D\n",
    "from matplotlib.ticker import NullFormatter\n",
    "from sklearn.preprocessing import StandardScaler\n",
    "from plotly.offline import download_plotlyjs, init_notebook_mode, plot, iplot\n",
    "init_notebook_mode(connected=True)\n",
    "\n",
    "# Models\n",
    "from surprise import Reader, Dataset\n",
    "from surprise import SVD, NormalPredictor, BaselineOnly, NMF, SlopeOne, CoClustering\n",
    "from sklearn.metrics.pairwise import cosine_similarity\n",
    "from sklearn.feature_extraction.text import CountVectorizer\n",
    "\n",
    "# Performance Evaluation\n",
    "from surprise import accuracy\n",
    "from sklearn.metrics import mean_squared_error\n",
    "from surprise.model_selection import GridSearchCV, cross_validate, train_test_split\n",
    "\n",
    "# Display\n",
    "%matplotlib inline\n",
    "sns.set(font_scale=1)\n",
    "sns.set_style(\"white\")\n",
    "pd.set_option('display.max_columns', 37)\n",
    "\n",
    "# Setting global constants to ensure notebook results are reproducible\n",
    "# PARAMETER_CONSTANT = ###"
   ]
  },
  {
   "cell_type": "markdown",
   "metadata": {},
   "source": [
    "<a id=\"two\"></a>\n",
    "\n",
    " # **2. Loading the Data**\n",
    "<a class=\"anchor\" id=\"1.1\"></a>\n",
    "<a href=#cont>Back to Table of Contents</a>\n",
    "\n",
    "---\n",
    "    \n",
    "| *Description: Loading the data*  |\n",
    "| :--------------------------- |\n",
    "|\n",
    ">In this section the  `train.csv` and `test_with_no_lable.csv` will be loaded into the notebook.\n",
    " |"
   ]
  },
  {
   "cell_type": "markdown",
   "metadata": {},
   "source": [
    "### <a id=\"two.one\"></a> 2.1 *Loading all 8 data sets.*"
   ]
  },
  {
   "cell_type": "code",
   "execution_count": 191,
   "metadata": {},
   "outputs": [
    {
     "name": "stdout",
     "output_type": "stream",
     "text": [
      "   userId  movieId  rating   timestamp\n",
      "0    5163    57669     4.0  1518349992\n",
      "1  106343        5     4.5  1206238739\n",
      "2  146790     5459     5.0  1076215539\n",
      "3  106362    32296     2.0  1423042565\n",
      "4    9041      366     3.0   833375837\n"
     ]
    },
    {
     "data": {
      "text/plain": [
       "(10000038, 4)"
      ]
     },
     "execution_count": 191,
     "metadata": {},
     "output_type": "execute_result"
    }
   ],
   "source": [
    "# Loading the Train dataset\n",
    "df_train = pd.read_csv(\"https://media.githubusercontent.com/media/LPTsilo/Team_ES2_Unsupervised_Predict/main/train.csv\")\n",
    "\n",
    "# Looking at the first 5 rows of the dataset\n",
    "print (df_train.head())\n",
    "\n",
    "# Looking at how many rows and columns are in the dataset\n",
    "df_train.shape"
   ]
  },
  {
   "cell_type": "code",
   "execution_count": 192,
   "metadata": {},
   "outputs": [
    {
     "name": "stdout",
     "output_type": "stream",
     "text": [
      "   userId  movieId\n",
      "0       1     2011\n",
      "1       1     4144\n",
      "2       1     5767\n",
      "3       1     6711\n",
      "4       1     7318\n"
     ]
    },
    {
     "data": {
      "text/plain": [
       "(5000019, 2)"
      ]
     },
     "execution_count": 192,
     "metadata": {},
     "output_type": "execute_result"
    }
   ],
   "source": [
    "# Loading Test dataset\n",
    "df_test = pd.read_csv(\"https://media.githubusercontent.com/media/LPTsilo/Team_ES2_Unsupervised_Predict/main/test.csv\")\n",
    "\n",
    "# Looking at the first 5 rows of the dataset\n",
    "print(df_test.head())\n",
    "\n",
    "# Looking at how many rows and columns are in the dataset\n",
    "df_test.shape"
   ]
  },
  {
   "cell_type": "code",
   "execution_count": 193,
   "metadata": {},
   "outputs": [
    {
     "name": "stdout",
     "output_type": "stream",
     "text": [
      "   movieId  tagId  relevance\n",
      "0        1      1    0.02875\n",
      "1        1      2    0.02375\n",
      "2        1      3    0.06250\n",
      "3        1      4    0.07575\n",
      "4        1      5    0.14075\n"
     ]
    },
    {
     "data": {
      "text/plain": [
       "(15584448, 3)"
      ]
     },
     "execution_count": 193,
     "metadata": {},
     "output_type": "execute_result"
    }
   ],
   "source": [
    "# Loading Genome_Scores dataset\n",
    "df_genome_score = pd.read_csv('https://media.githubusercontent.com/media/LPTsilo/Team_ES2_Unsupervised_Predict/main/genome_scores.csv')\n",
    "\n",
    "# Looking at the first 5 rows of the dataset\n",
    "print(df_genome_score.head())\n",
    "\n",
    "# Looking at how many rows and columns are in the dataset\n",
    "df_genome_score.shape"
   ]
  },
  {
   "cell_type": "code",
   "execution_count": 194,
   "metadata": {},
   "outputs": [
    {
     "name": "stdout",
     "output_type": "stream",
     "text": [
      "   tagId           tag\n",
      "0      1           007\n",
      "1      2  007 (series)\n",
      "2      3  18th century\n",
      "3      4         1920s\n",
      "4      5         1930s\n"
     ]
    },
    {
     "data": {
      "text/plain": [
       "(1128, 2)"
      ]
     },
     "execution_count": 194,
     "metadata": {},
     "output_type": "execute_result"
    }
   ],
   "source": [
    "# Loading Genome_Tags dataset\n",
    "df_genome_tags = pd.read_csv(\"https://media.githubusercontent.com/media/LPTsilo/Team_ES2_Unsupervised_Predict/main/genome_tags.csv\")\n",
    "\n",
    "# Looking at the first 5 rows of the dataset\n",
    "print(df_genome_tags.head())\n",
    "\n",
    "# Looking at how many rows and columns are in the dataset\n",
    "df_genome_tags.shape"
   ]
  },
  {
   "cell_type": "code",
   "execution_count": 195,
   "metadata": {},
   "outputs": [
    {
     "name": "stdout",
     "output_type": "stream",
     "text": [
      "   movieId  \\\n",
      "0        1   \n",
      "1        2   \n",
      "2        3   \n",
      "3        4   \n",
      "4        5   \n",
      "\n",
      "                                                                                                                                                                                                                          title_cast  \\\n",
      "0                                 Tom Hanks|Tim Allen|Don Rickles|Jim Varney|Wallace Shawn|John Ratzenberger|Annie Potts|John Morris|Erik von Detten|Laurie Metcalf|R. Lee Ermey|Sarah Freeman|Penn Jillette|Jack Angel|Spencer Aste   \n",
      "1  Robin Williams|Jonathan Hyde|Kirsten Dunst|Bradley Pierce|Bonnie Hunt|Bebe Neuwirth|David Alan Grier|Patricia Clarkson|Adam Hann-Byrd|Laura Bell Bundy|James Handy|Gillian Barber|Brandon Obray|Cyrus Thiedeke|Gary Joseph Thorup   \n",
      "2                Walter Matthau|Jack Lemmon|Sophia Loren|Ann-Margret|Burgess Meredith|Daryl Hannah|Kevin Pollak|Katie Sagona|Ann Morgan Guilbert|James Andelin|Marcus Klemp|Max Wright|Cheryl Hawker|Wayne A. Evenson|Allison Levine   \n",
      "3                Whitney Houston|Angela Bassett|Loretta Devine|Lela Rochon|Gregory Hines|Dennis Haysbert|Mykelti Williamson|Michael Beach|Leon|Wendell Pierce|Donald Faison|Jeffrey D. Sams|Jazz Raycole|Brandon Hammond|Kenya Moore   \n",
      "4     Steve Martin|Diane Keaton|Martin Short|Kimberly Williams-Paisley|George Newbern|Kieran Culkin|BD Wong|Peter Michael Goetz|Kate McGregor-Stewart|Jane Adams|Eugene Levy|Rebecca Chambers|April Ortiz|Dulcy Rogers|Kathy Anthony   \n",
      "\n",
      "              director  runtime       budget  \\\n",
      "0        John Lasseter     81.0  $30,000,000   \n",
      "1   Jonathan Hensleigh    104.0  $65,000,000   \n",
      "2  Mark Steven Johnson    101.0  $25,000,000   \n",
      "3       Terry McMillan    124.0  $16,000,000   \n",
      "4       Albert Hackett    106.0  $30,000,000   \n",
      "\n",
      "                                                               plot_keywords  \n",
      "0                                           toy|rivalry|cowboy|cgi animation  \n",
      "1                                           board game|adventurer|fight|game  \n",
      "2                                                 boat|lake|neighbor|rivalry  \n",
      "3  black american|husband wife relationship|betrayal|mother son relationship  \n",
      "4                                            fatherhood|doberman|dog|mansion  \n"
     ]
    },
    {
     "data": {
      "text/plain": [
       "(27278, 6)"
      ]
     },
     "execution_count": 195,
     "metadata": {},
     "output_type": "execute_result"
    }
   ],
   "source": [
    "# Loading imdb_data dataset\n",
    "df_imdb_data = pd.read_csv(\"https://media.githubusercontent.com/media/LPTsilo/Team_ES2_Unsupervised_Predict/main/imdb_data.csv\")\n",
    "\n",
    "# Looking at the first 5 rows of the dataset\n",
    "print(df_imdb_data .head())\n",
    "\n",
    "# Looking at how many rows and columns are in the dataset\n",
    "df_imdb_data.shape"
   ]
  },
  {
   "cell_type": "code",
   "execution_count": 196,
   "metadata": {},
   "outputs": [
    {
     "name": "stdout",
     "output_type": "stream",
     "text": [
      "   movieId  imdbId   tmdbId\n",
      "0        1  114709    862.0\n",
      "1        2  113497   8844.0\n",
      "2        3  113228  15602.0\n",
      "3        4  114885  31357.0\n",
      "4        5  113041  11862.0\n"
     ]
    },
    {
     "data": {
      "text/plain": [
       "(62423, 3)"
      ]
     },
     "execution_count": 196,
     "metadata": {},
     "output_type": "execute_result"
    }
   ],
   "source": [
    "# Loading Links dataset\n",
    "df_links = pd.read_csv(\"https://media.githubusercontent.com/media/LPTsilo/Team_ES2_Unsupervised_Predict/main/links.csv\")\n",
    "\n",
    "# Looking at the first 5 rows of the dataset\n",
    "print(df_links .head())\n",
    "\n",
    "# Looking at how many rows and columns are in the dataset\n",
    "df_links.shape"
   ]
  },
  {
   "cell_type": "code",
   "execution_count": 197,
   "metadata": {},
   "outputs": [
    {
     "name": "stdout",
     "output_type": "stream",
     "text": [
      "   movieId                               title  \\\n",
      "0        1                    Toy Story (1995)   \n",
      "1        2                      Jumanji (1995)   \n",
      "2        3             Grumpier Old Men (1995)   \n",
      "3        4            Waiting to Exhale (1995)   \n",
      "4        5  Father of the Bride Part II (1995)   \n",
      "\n",
      "                                        genres  \n",
      "0  Adventure|Animation|Children|Comedy|Fantasy  \n",
      "1                   Adventure|Children|Fantasy  \n",
      "2                               Comedy|Romance  \n",
      "3                         Comedy|Drama|Romance  \n",
      "4                                       Comedy  \n"
     ]
    },
    {
     "data": {
      "text/plain": [
       "(62423, 3)"
      ]
     },
     "execution_count": 197,
     "metadata": {},
     "output_type": "execute_result"
    }
   ],
   "source": [
    "# Loading Movies dataset\n",
    "df_movies  = pd.read_csv('https://media.githubusercontent.com/media/LPTsilo/Team_ES2_Unsupervised_Predict/main/movies.csv')\n",
    "\n",
    "# Looking at the first 5 rows of the dataset\n",
    "print(df_movies .head())\n",
    "\n",
    "# Looking at how many rows and columns are in the dataset\n",
    "df_movies.shape"
   ]
  },
  {
   "cell_type": "code",
   "execution_count": 198,
   "metadata": {},
   "outputs": [
    {
     "name": "stdout",
     "output_type": "stream",
     "text": [
      "   userId  movieId               tag   timestamp\n",
      "0       3      260           classic  1439472355\n",
      "1       3      260            sci-fi  1439472256\n",
      "2       4     1732       dark comedy  1573943598\n",
      "3       4     1732    great dialogue  1573943604\n",
      "4       4     7569  so bad it's good  1573943455\n"
     ]
    },
    {
     "data": {
      "text/plain": [
       "(1093360, 4)"
      ]
     },
     "execution_count": 198,
     "metadata": {},
     "output_type": "execute_result"
    }
   ],
   "source": [
    "# Loading Tags dataset\n",
    "df_tags  = pd.read_csv('https://media.githubusercontent.com/media/LPTsilo/Team_ES2_Unsupervised_Predict/main/tags.csv')\n",
    "\n",
    "# Looking at the first 5 rows of the dataset\n",
    "print(df_tags .head())\n",
    "\n",
    "# Looking at how many rows and columns are in the dataset\n",
    "df_tags.shape"
   ]
  },
  {
   "cell_type": "markdown",
   "metadata": {},
   "source": [
    "<a id=\"three\"></a>\n",
    "\n",
    "# **3. Exploratory Data Analysis (EDA)**\n",
    "<a class=\"anchor\" id=\"1.1\"></a>\n",
    "<a href=#cont>Back to Table of Contents</a>\n",
    "\n",
    "---\n",
    "    \n",
    "|  *Description: Exploratory data analysis* |\n",
    "| :--------------------------- |\n",
    "| \n",
    ">In this section, there will be an in-depth analysis of all the variables in the dataframe. |\n",
    "\n",
    "---"
   ]
  },
  {
   "cell_type": "markdown",
   "metadata": {},
   "source": [
    "### <a id=\"three.one\"></a> 3.1 *Why is EDA important?* \n",
    "\n",
    "&#10148; It helps to prepare the dataset for analysis. </br>\n",
    "&#10148; It allows a machine learning model to predict the dataset better. </br>\n",
    "&#10148; It gives more accurate results.  </br>\n",
    "&#10148; It also helps with choosing a better machine learning model. </br>"
   ]
  },
  {
   "cell_type": "markdown",
   "metadata": {},
   "source": [
    "### <a id=\"three.two\"></a> 3.2  *Looking at the data types that are in the dataframes.* \n",
    ">*It can be seen there is int64, float64 and object type data*"
   ]
  },
  {
   "cell_type": "code",
   "execution_count": 199,
   "metadata": {},
   "outputs": [
    {
     "name": "stdout",
     "output_type": "stream",
     "text": [
      "<class 'pandas.core.frame.DataFrame'>\n",
      "RangeIndex: 10000038 entries, 0 to 10000037\n",
      "Data columns (total 4 columns):\n",
      " #   Column     Dtype  \n",
      "---  ------     -----  \n",
      " 0   userId     int64  \n",
      " 1   movieId    int64  \n",
      " 2   rating     float64\n",
      " 3   timestamp  int64  \n",
      "dtypes: float64(1), int64(3)\n",
      "memory usage: 305.2 MB\n"
     ]
    }
   ],
   "source": [
    "# Train dataset\n",
    "df_train.info()"
   ]
  },
  {
   "cell_type": "code",
   "execution_count": 200,
   "metadata": {},
   "outputs": [
    {
     "name": "stdout",
     "output_type": "stream",
     "text": [
      "<class 'pandas.core.frame.DataFrame'>\n",
      "RangeIndex: 5000019 entries, 0 to 5000018\n",
      "Data columns (total 2 columns):\n",
      " #   Column   Dtype\n",
      "---  ------   -----\n",
      " 0   userId   int64\n",
      " 1   movieId  int64\n",
      "dtypes: int64(2)\n",
      "memory usage: 76.3 MB\n"
     ]
    }
   ],
   "source": [
    "# Test dataset\n",
    "df_test.info()"
   ]
  },
  {
   "cell_type": "code",
   "execution_count": 201,
   "metadata": {},
   "outputs": [
    {
     "name": "stdout",
     "output_type": "stream",
     "text": [
      "<class 'pandas.core.frame.DataFrame'>\n",
      "RangeIndex: 15584448 entries, 0 to 15584447\n",
      "Data columns (total 3 columns):\n",
      " #   Column     Dtype  \n",
      "---  ------     -----  \n",
      " 0   movieId    int64  \n",
      " 1   tagId      int64  \n",
      " 2   relevance  float64\n",
      "dtypes: float64(1), int64(2)\n",
      "memory usage: 356.7 MB\n"
     ]
    }
   ],
   "source": [
    "# Genome Score dataset\n",
    "df_genome_score.info()"
   ]
  },
  {
   "cell_type": "code",
   "execution_count": 202,
   "metadata": {},
   "outputs": [
    {
     "name": "stdout",
     "output_type": "stream",
     "text": [
      "<class 'pandas.core.frame.DataFrame'>\n",
      "RangeIndex: 1128 entries, 0 to 1127\n",
      "Data columns (total 2 columns):\n",
      " #   Column  Non-Null Count  Dtype \n",
      "---  ------  --------------  ----- \n",
      " 0   tagId   1128 non-null   int64 \n",
      " 1   tag     1128 non-null   object\n",
      "dtypes: int64(1), object(1)\n",
      "memory usage: 17.8+ KB\n"
     ]
    }
   ],
   "source": [
    "# Genome Tags dataset\n",
    "df_genome_tags.info()"
   ]
  },
  {
   "cell_type": "code",
   "execution_count": 203,
   "metadata": {},
   "outputs": [
    {
     "name": "stdout",
     "output_type": "stream",
     "text": [
      "<class 'pandas.core.frame.DataFrame'>\n",
      "RangeIndex: 27278 entries, 0 to 27277\n",
      "Data columns (total 6 columns):\n",
      " #   Column         Non-Null Count  Dtype  \n",
      "---  ------         --------------  -----  \n",
      " 0   movieId        27278 non-null  int64  \n",
      " 1   title_cast     17210 non-null  object \n",
      " 2   director       17404 non-null  object \n",
      " 3   runtime        15189 non-null  float64\n",
      " 4   budget         7906 non-null   object \n",
      " 5   plot_keywords  16200 non-null  object \n",
      "dtypes: float64(1), int64(1), object(4)\n",
      "memory usage: 1.2+ MB\n"
     ]
    }
   ],
   "source": [
    "# imdb dataset\n",
    "df_imdb_data.info()"
   ]
  },
  {
   "cell_type": "code",
   "execution_count": 204,
   "metadata": {},
   "outputs": [
    {
     "name": "stdout",
     "output_type": "stream",
     "text": [
      "<class 'pandas.core.frame.DataFrame'>\n",
      "RangeIndex: 62423 entries, 0 to 62422\n",
      "Data columns (total 3 columns):\n",
      " #   Column   Non-Null Count  Dtype  \n",
      "---  ------   --------------  -----  \n",
      " 0   movieId  62423 non-null  int64  \n",
      " 1   imdbId   62423 non-null  int64  \n",
      " 2   tmdbId   62316 non-null  float64\n",
      "dtypes: float64(1), int64(2)\n",
      "memory usage: 1.4 MB\n"
     ]
    }
   ],
   "source": [
    "# Links dataset\n",
    "df_links.info()"
   ]
  },
  {
   "cell_type": "code",
   "execution_count": 205,
   "metadata": {},
   "outputs": [
    {
     "name": "stdout",
     "output_type": "stream",
     "text": [
      "<class 'pandas.core.frame.DataFrame'>\n",
      "RangeIndex: 62423 entries, 0 to 62422\n",
      "Data columns (total 3 columns):\n",
      " #   Column   Non-Null Count  Dtype \n",
      "---  ------   --------------  ----- \n",
      " 0   movieId  62423 non-null  int64 \n",
      " 1   title    62423 non-null  object\n",
      " 2   genres   62423 non-null  object\n",
      "dtypes: int64(1), object(2)\n",
      "memory usage: 1.4+ MB\n"
     ]
    }
   ],
   "source": [
    "# Movies dataset\n",
    "df_movies.info()"
   ]
  },
  {
   "cell_type": "code",
   "execution_count": 206,
   "metadata": {},
   "outputs": [
    {
     "name": "stdout",
     "output_type": "stream",
     "text": [
      "<class 'pandas.core.frame.DataFrame'>\n",
      "RangeIndex: 1093360 entries, 0 to 1093359\n",
      "Data columns (total 4 columns):\n",
      " #   Column     Non-Null Count    Dtype \n",
      "---  ------     --------------    ----- \n",
      " 0   userId     1093360 non-null  int64 \n",
      " 1   movieId    1093360 non-null  int64 \n",
      " 2   tag        1093344 non-null  object\n",
      " 3   timestamp  1093360 non-null  int64 \n",
      "dtypes: int64(3), object(1)\n",
      "memory usage: 33.4+ MB\n"
     ]
    }
   ],
   "source": [
    "# Tags dataset\n",
    "df_tags.info()"
   ]
  },
  {
   "cell_type": "markdown",
   "metadata": {},
   "source": [
    "### <a id=\"three.four\"></a> 3.4 *Looking for null values in the datasets.*\n",
    ">It can be seen that there are null values in the imdb,links and tags data sets"
   ]
  },
  {
   "cell_type": "code",
   "execution_count": 207,
   "metadata": {},
   "outputs": [
    {
     "data": {
      "text/plain": [
       "userId       0\n",
       "movieId      0\n",
       "rating       0\n",
       "timestamp    0\n",
       "dtype: int64"
      ]
     },
     "execution_count": 207,
     "metadata": {},
     "output_type": "execute_result"
    }
   ],
   "source": [
    "# Train dataset\n",
    "df_train.isnull().sum()"
   ]
  },
  {
   "cell_type": "code",
   "execution_count": 208,
   "metadata": {},
   "outputs": [
    {
     "data": {
      "text/plain": [
       "userId     0\n",
       "movieId    0\n",
       "dtype: int64"
      ]
     },
     "execution_count": 208,
     "metadata": {},
     "output_type": "execute_result"
    }
   ],
   "source": [
    "df_test.isnull().sum()"
   ]
  },
  {
   "cell_type": "code",
   "execution_count": 209,
   "metadata": {},
   "outputs": [
    {
     "data": {
      "text/plain": [
       "movieId      0\n",
       "tagId        0\n",
       "relevance    0\n",
       "dtype: int64"
      ]
     },
     "execution_count": 209,
     "metadata": {},
     "output_type": "execute_result"
    }
   ],
   "source": [
    "df_genome_score.isnull().sum()"
   ]
  },
  {
   "cell_type": "code",
   "execution_count": 210,
   "metadata": {},
   "outputs": [
    {
     "data": {
      "text/plain": [
       "tagId    0\n",
       "tag      0\n",
       "dtype: int64"
      ]
     },
     "execution_count": 210,
     "metadata": {},
     "output_type": "execute_result"
    }
   ],
   "source": [
    "df_genome_tags.isnull().sum()"
   ]
  },
  {
   "cell_type": "code",
   "execution_count": 211,
   "metadata": {},
   "outputs": [
    {
     "data": {
      "text/plain": [
       "movieId              0\n",
       "title_cast       10068\n",
       "director          9874\n",
       "runtime          12089\n",
       "budget           19372\n",
       "plot_keywords    11078\n",
       "dtype: int64"
      ]
     },
     "execution_count": 211,
     "metadata": {},
     "output_type": "execute_result"
    }
   ],
   "source": [
    "df_imdb_data.isnull().sum()"
   ]
  },
  {
   "cell_type": "code",
   "execution_count": 212,
   "metadata": {},
   "outputs": [
    {
     "data": {
      "text/plain": [
       "movieId      0\n",
       "imdbId       0\n",
       "tmdbId     107\n",
       "dtype: int64"
      ]
     },
     "execution_count": 212,
     "metadata": {},
     "output_type": "execute_result"
    }
   ],
   "source": [
    "df_links.isnull().sum()"
   ]
  },
  {
   "cell_type": "code",
   "execution_count": 213,
   "metadata": {},
   "outputs": [
    {
     "data": {
      "text/plain": [
       "movieId    0\n",
       "title      0\n",
       "genres     0\n",
       "dtype: int64"
      ]
     },
     "execution_count": 213,
     "metadata": {},
     "output_type": "execute_result"
    }
   ],
   "source": [
    "df_movies.isnull().sum()"
   ]
  },
  {
   "cell_type": "code",
   "execution_count": 214,
   "metadata": {},
   "outputs": [
    {
     "data": {
      "text/plain": [
       "userId        0\n",
       "movieId       0\n",
       "tag          16\n",
       "timestamp     0\n",
       "dtype: int64"
      ]
     },
     "execution_count": 214,
     "metadata": {},
     "output_type": "execute_result"
    }
   ],
   "source": [
    "df_tags.isnull().sum()"
   ]
  },
  {
   "cell_type": "markdown",
   "metadata": {},
   "source": [
    "### <a id=\"three.fiver\"></a> 3.5 *Looking how many movies and users are in the train dataset.*\n",
    ">It can be seen that there are 162 541 users and 48 213 Movies in the train dataset\n"
   ]
  },
  {
   "cell_type": "code",
   "execution_count": 215,
   "metadata": {},
   "outputs": [
    {
     "name": "stdout",
     "output_type": "stream",
     "text": [
      "There are  162541 users and 48213 movies in the database/dataframe\n"
     ]
    }
   ],
   "source": [
    "print('There are ',df_train[\"userId\"].nunique(), 'users and',df_train.movieId.nunique(),'movies in the database/dataframe')"
   ]
  },
  {
   "cell_type": "code",
   "execution_count": 216,
   "metadata": {},
   "outputs": [
    {
     "data": {
      "text/html": [
       "<div>\n",
       "<style scoped>\n",
       "    .dataframe tbody tr th:only-of-type {\n",
       "        vertical-align: middle;\n",
       "    }\n",
       "\n",
       "    .dataframe tbody tr th {\n",
       "        vertical-align: top;\n",
       "    }\n",
       "\n",
       "    .dataframe thead th {\n",
       "        text-align: right;\n",
       "    }\n",
       "</style>\n",
       "<table border=\"1\" class=\"dataframe\">\n",
       "  <thead>\n",
       "    <tr style=\"text-align: right;\">\n",
       "      <th></th>\n",
       "      <th>userId</th>\n",
       "      <th>Average_rating</th>\n",
       "      <th>number_of_movies</th>\n",
       "    </tr>\n",
       "  </thead>\n",
       "  <tbody>\n",
       "    <tr>\n",
       "      <th>72314</th>\n",
       "      <td>72315</td>\n",
       "      <td>3.092380</td>\n",
       "      <td>12952</td>\n",
       "    </tr>\n",
       "    <tr>\n",
       "      <th>80973</th>\n",
       "      <td>80974</td>\n",
       "      <td>3.277582</td>\n",
       "      <td>3680</td>\n",
       "    </tr>\n",
       "    <tr>\n",
       "      <th>137292</th>\n",
       "      <td>137293</td>\n",
       "      <td>3.192168</td>\n",
       "      <td>3588</td>\n",
       "    </tr>\n",
       "    <tr>\n",
       "      <th>33843</th>\n",
       "      <td>33844</td>\n",
       "      <td>2.583853</td>\n",
       "      <td>3208</td>\n",
       "    </tr>\n",
       "    <tr>\n",
       "      <th>20054</th>\n",
       "      <td>20055</td>\n",
       "      <td>3.179016</td>\n",
       "      <td>3050</td>\n",
       "    </tr>\n",
       "  </tbody>\n",
       "</table>\n",
       "</div>"
      ],
      "text/plain": [
       "        userId  Average_rating  number_of_movies\n",
       "72314    72315        3.092380             12952\n",
       "80973    80974        3.277582              3680\n",
       "137292  137293        3.192168              3588\n",
       "33843    33844        2.583853              3208\n",
       "20054    20055        3.179016              3050"
      ]
     },
     "execution_count": 216,
     "metadata": {},
     "output_type": "execute_result"
    }
   ],
   "source": [
    "# Create a Dataframe consisting of the users average rating the give per user and number of times they have rated movies\n",
    "train1 = pd.DataFrame(df_train.groupby('userId')['rating'].agg('mean').reset_index())\n",
    "train1_2 = pd.DataFrame(df_train.groupby('userId')['rating'].count().reset_index())\n",
    "# Merge the above to dataframe \n",
    "train1 = train1.merge(train1_2,on='userId',how = 'left')\n",
    "# Rename the columns respectively\n",
    "train1.rename(columns={'rating_x':'Average_rating','rating_y':'number_of_movies'},inplace = True)\n",
    "\n",
    "# Sort the data in descending of the number of movies the user has rated\n",
    "train1 = train1.sort_values('number_of_movies', ascending = False)\n",
    "\n",
    "# Looking at the first 5 rows of the new dataset\n",
    "train1.head()"
   ]
  },
  {
   "cell_type": "code",
   "execution_count": 217,
   "metadata": {},
   "outputs": [
    {
     "ename": "ValueError",
     "evalue": "Could not interpret value `avg_rating` for parameter `x`",
     "output_type": "error",
     "traceback": [
      "\u001b[0;31m---------------------------------------------------------------------------\u001b[0m",
      "\u001b[0;31mValueError\u001b[0m                                Traceback (most recent call last)",
      "\u001b[1;32m/Users/caitlinmclaren/Documents/GitHub/Team_ES2_Unsupervised_Predict/Team ES2 Unsupervised Predict.ipynb Cell 42\u001b[0m in \u001b[0;36m<cell line: 5>\u001b[0;34m()\u001b[0m\n\u001b[1;32m      <a href='vscode-notebook-cell:/Users/caitlinmclaren/Documents/GitHub/Team_ES2_Unsupervised_Predict/Team%20ES2%20Unsupervised%20Predict.ipynb#Y226sZmlsZQ%3D%3D?line=1'>2</a>\u001b[0m fig, ax \u001b[39m=\u001b[39m plt\u001b[39m.\u001b[39msubplots(\u001b[39m1\u001b[39m,\u001b[39m2\u001b[39m,figsize\u001b[39m=\u001b[39m(\u001b[39m20\u001b[39m, \u001b[39m10\u001b[39m)) \n\u001b[1;32m      <a href='vscode-notebook-cell:/Users/caitlinmclaren/Documents/GitHub/Team_ES2_Unsupervised_Predict/Team%20ES2%20Unsupervised%20Predict.ipynb#Y226sZmlsZQ%3D%3D?line=3'>4</a>\u001b[0m \u001b[39m# Create a densityplot to visualise the density of the ratings per users\u001b[39;00m\n\u001b[0;32m----> <a href='vscode-notebook-cell:/Users/caitlinmclaren/Documents/GitHub/Team_ES2_Unsupervised_Predict/Team%20ES2%20Unsupervised%20Predict.ipynb#Y226sZmlsZQ%3D%3D?line=4'>5</a>\u001b[0m sns\u001b[39m.\u001b[39;49mkdeplot(ax\u001b[39m=\u001b[39;49max[\u001b[39m0\u001b[39;49m], x\u001b[39m=\u001b[39;49m\u001b[39m'\u001b[39;49m\u001b[39mavg_rating\u001b[39;49m\u001b[39m'\u001b[39;49m, data\u001b[39m=\u001b[39;49mtrain1) \n\u001b[1;32m      <a href='vscode-notebook-cell:/Users/caitlinmclaren/Documents/GitHub/Team_ES2_Unsupervised_Predict/Team%20ES2%20Unsupervised%20Predict.ipynb#Y226sZmlsZQ%3D%3D?line=5'>6</a>\u001b[0m ax[\u001b[39m0\u001b[39m]\u001b[39m.\u001b[39mset_title(\u001b[39m\"\u001b[39m\u001b[39mThe average rating of users\u001b[39m\u001b[39m\"\u001b[39m,fontsize \u001b[39m=\u001b[39m \u001b[39m20\u001b[39m)\n\u001b[1;32m      <a href='vscode-notebook-cell:/Users/caitlinmclaren/Documents/GitHub/Team_ES2_Unsupervised_Predict/Team%20ES2%20Unsupervised%20Predict.ipynb#Y226sZmlsZQ%3D%3D?line=7'>8</a>\u001b[0m \u001b[39m# Set the tick labels to appear in non-scientific form\u001b[39;00m\n",
      "File \u001b[0;32m~/opt/anaconda3/lib/python3.9/site-packages/seaborn/_decorators.py:46\u001b[0m, in \u001b[0;36m_deprecate_positional_args.<locals>.inner_f\u001b[0;34m(*args, **kwargs)\u001b[0m\n\u001b[1;32m     36\u001b[0m     warnings\u001b[39m.\u001b[39mwarn(\n\u001b[1;32m     37\u001b[0m         \u001b[39m\"\u001b[39m\u001b[39mPass the following variable\u001b[39m\u001b[39m{}\u001b[39;00m\u001b[39m as \u001b[39m\u001b[39m{}\u001b[39;00m\u001b[39mkeyword arg\u001b[39m\u001b[39m{}\u001b[39;00m\u001b[39m: \u001b[39m\u001b[39m{}\u001b[39;00m\u001b[39m. \u001b[39m\u001b[39m\"\u001b[39m\n\u001b[1;32m     38\u001b[0m         \u001b[39m\"\u001b[39m\u001b[39mFrom version 0.12, the only valid positional argument \u001b[39m\u001b[39m\"\u001b[39m\n\u001b[0;32m   (...)\u001b[0m\n\u001b[1;32m     43\u001b[0m         \u001b[39mFutureWarning\u001b[39;00m\n\u001b[1;32m     44\u001b[0m     )\n\u001b[1;32m     45\u001b[0m kwargs\u001b[39m.\u001b[39mupdate({k: arg \u001b[39mfor\u001b[39;00m k, arg \u001b[39min\u001b[39;00m \u001b[39mzip\u001b[39m(sig\u001b[39m.\u001b[39mparameters, args)})\n\u001b[0;32m---> 46\u001b[0m \u001b[39mreturn\u001b[39;00m f(\u001b[39m*\u001b[39;49m\u001b[39m*\u001b[39;49mkwargs)\n",
      "File \u001b[0;32m~/opt/anaconda3/lib/python3.9/site-packages/seaborn/distributions.py:1738\u001b[0m, in \u001b[0;36mkdeplot\u001b[0;34m(x, y, shade, vertical, kernel, bw, gridsize, cut, clip, legend, cumulative, shade_lowest, cbar, cbar_ax, cbar_kws, ax, weights, hue, palette, hue_order, hue_norm, multiple, common_norm, common_grid, levels, thresh, bw_method, bw_adjust, log_scale, color, fill, data, data2, warn_singular, **kwargs)\u001b[0m\n\u001b[1;32m   1734\u001b[0m     fill \u001b[39m=\u001b[39m shade\n\u001b[1;32m   1736\u001b[0m \u001b[39m# - - - - - - - - - - - - - - - - - - - - - - - - - - - - - - - - - - - - #\u001b[39;00m\n\u001b[0;32m-> 1738\u001b[0m p \u001b[39m=\u001b[39m _DistributionPlotter(\n\u001b[1;32m   1739\u001b[0m     data\u001b[39m=\u001b[39;49mdata,\n\u001b[1;32m   1740\u001b[0m     variables\u001b[39m=\u001b[39;49m_DistributionPlotter\u001b[39m.\u001b[39;49mget_semantics(\u001b[39mlocals\u001b[39;49m()),\n\u001b[1;32m   1741\u001b[0m )\n\u001b[1;32m   1743\u001b[0m p\u001b[39m.\u001b[39mmap_hue(palette\u001b[39m=\u001b[39mpalette, order\u001b[39m=\u001b[39mhue_order, norm\u001b[39m=\u001b[39mhue_norm)\n\u001b[1;32m   1745\u001b[0m \u001b[39mif\u001b[39;00m ax \u001b[39mis\u001b[39;00m \u001b[39mNone\u001b[39;00m:\n",
      "File \u001b[0;32m~/opt/anaconda3/lib/python3.9/site-packages/seaborn/distributions.py:111\u001b[0m, in \u001b[0;36m_DistributionPlotter.__init__\u001b[0;34m(self, data, variables)\u001b[0m\n\u001b[1;32m    105\u001b[0m \u001b[39mdef\u001b[39;00m \u001b[39m__init__\u001b[39m(\n\u001b[1;32m    106\u001b[0m     \u001b[39mself\u001b[39m,\n\u001b[1;32m    107\u001b[0m     data\u001b[39m=\u001b[39m\u001b[39mNone\u001b[39;00m,\n\u001b[1;32m    108\u001b[0m     variables\u001b[39m=\u001b[39m{},\n\u001b[1;32m    109\u001b[0m ):\n\u001b[0;32m--> 111\u001b[0m     \u001b[39msuper\u001b[39;49m()\u001b[39m.\u001b[39;49m\u001b[39m__init__\u001b[39;49m(data\u001b[39m=\u001b[39;49mdata, variables\u001b[39m=\u001b[39;49mvariables)\n",
      "File \u001b[0;32m~/opt/anaconda3/lib/python3.9/site-packages/seaborn/_core.py:605\u001b[0m, in \u001b[0;36mVectorPlotter.__init__\u001b[0;34m(self, data, variables)\u001b[0m\n\u001b[1;32m    603\u001b[0m \u001b[39mdef\u001b[39;00m \u001b[39m__init__\u001b[39m(\u001b[39mself\u001b[39m, data\u001b[39m=\u001b[39m\u001b[39mNone\u001b[39;00m, variables\u001b[39m=\u001b[39m{}):\n\u001b[0;32m--> 605\u001b[0m     \u001b[39mself\u001b[39;49m\u001b[39m.\u001b[39;49massign_variables(data, variables)\n\u001b[1;32m    607\u001b[0m     \u001b[39mfor\u001b[39;00m var, \u001b[39mcls\u001b[39m \u001b[39min\u001b[39;00m \u001b[39mself\u001b[39m\u001b[39m.\u001b[39m_semantic_mappings\u001b[39m.\u001b[39mitems():\n\u001b[1;32m    608\u001b[0m \n\u001b[1;32m    609\u001b[0m         \u001b[39m# Create the mapping function\u001b[39;00m\n\u001b[1;32m    610\u001b[0m         map_func \u001b[39m=\u001b[39m partial(\u001b[39mcls\u001b[39m\u001b[39m.\u001b[39mmap, plotter\u001b[39m=\u001b[39m\u001b[39mself\u001b[39m)\n",
      "File \u001b[0;32m~/opt/anaconda3/lib/python3.9/site-packages/seaborn/_core.py:668\u001b[0m, in \u001b[0;36mVectorPlotter.assign_variables\u001b[0;34m(self, data, variables)\u001b[0m\n\u001b[1;32m    666\u001b[0m \u001b[39melse\u001b[39;00m:\n\u001b[1;32m    667\u001b[0m     \u001b[39mself\u001b[39m\u001b[39m.\u001b[39minput_format \u001b[39m=\u001b[39m \u001b[39m\"\u001b[39m\u001b[39mlong\u001b[39m\u001b[39m\"\u001b[39m\n\u001b[0;32m--> 668\u001b[0m     plot_data, variables \u001b[39m=\u001b[39m \u001b[39mself\u001b[39;49m\u001b[39m.\u001b[39;49m_assign_variables_longform(\n\u001b[1;32m    669\u001b[0m         data, \u001b[39m*\u001b[39;49m\u001b[39m*\u001b[39;49mvariables,\n\u001b[1;32m    670\u001b[0m     )\n\u001b[1;32m    672\u001b[0m \u001b[39mself\u001b[39m\u001b[39m.\u001b[39mplot_data \u001b[39m=\u001b[39m plot_data\n\u001b[1;32m    673\u001b[0m \u001b[39mself\u001b[39m\u001b[39m.\u001b[39mvariables \u001b[39m=\u001b[39m variables\n",
      "File \u001b[0;32m~/opt/anaconda3/lib/python3.9/site-packages/seaborn/_core.py:903\u001b[0m, in \u001b[0;36mVectorPlotter._assign_variables_longform\u001b[0;34m(self, data, **kwargs)\u001b[0m\n\u001b[1;32m    898\u001b[0m \u001b[39melif\u001b[39;00m \u001b[39misinstance\u001b[39m(val, (\u001b[39mstr\u001b[39m, \u001b[39mbytes\u001b[39m)):\n\u001b[1;32m    899\u001b[0m \n\u001b[1;32m    900\u001b[0m     \u001b[39m# This looks like a column name but we don't know what it means!\u001b[39;00m\n\u001b[1;32m    902\u001b[0m     err \u001b[39m=\u001b[39m \u001b[39mf\u001b[39m\u001b[39m\"\u001b[39m\u001b[39mCould not interpret value `\u001b[39m\u001b[39m{\u001b[39;00mval\u001b[39m}\u001b[39;00m\u001b[39m` for parameter `\u001b[39m\u001b[39m{\u001b[39;00mkey\u001b[39m}\u001b[39;00m\u001b[39m`\u001b[39m\u001b[39m\"\u001b[39m\n\u001b[0;32m--> 903\u001b[0m     \u001b[39mraise\u001b[39;00m \u001b[39mValueError\u001b[39;00m(err)\n\u001b[1;32m    905\u001b[0m \u001b[39melse\u001b[39;00m:\n\u001b[1;32m    906\u001b[0m \n\u001b[1;32m    907\u001b[0m     \u001b[39m# Otherwise, assume the value is itself data\u001b[39;00m\n\u001b[1;32m    908\u001b[0m \n\u001b[1;32m    909\u001b[0m     \u001b[39m# Raise when data object is present and a vector can't matched\u001b[39;00m\n\u001b[1;32m    910\u001b[0m     \u001b[39mif\u001b[39;00m \u001b[39misinstance\u001b[39m(data, pd\u001b[39m.\u001b[39mDataFrame) \u001b[39mand\u001b[39;00m \u001b[39mnot\u001b[39;00m \u001b[39misinstance\u001b[39m(val, pd\u001b[39m.\u001b[39mSeries):\n",
      "\u001b[0;31mValueError\u001b[0m: Could not interpret value `avg_rating` for parameter `x`"
     ]
    },
    {
     "data": {
      "image/png": "[encoded data removed]",
      "text/plain": [
       "<Figure size 1440x720 with 2 Axes>"
      ]
     },
     "metadata": {},
     "output_type": "display_data"
    }
   ],
   "source": [
    "# Initialize the plot with set figure size\n",
    "fig, ax = plt.subplots(1,2,figsize=(20, 10)) \n",
    "\n",
    "# Create a densityplot to visualise the density of the ratings per users\n",
    "sns.kdeplot(ax=ax[0], x='avg_rating', data=train1) \n",
    "ax[0].set_title(\"The average rating of users\",fontsize = 20)\n",
    "\n",
    "# Set the tick labels to appear in non-scientific form\n",
    "plt.ticklabel_format(style='plain', axis='y', useOffset=False) \n",
    "\n",
    "# Create a KDE plot of the rating the users \n",
    "sns.kdeplot(ax=ax[1], x='number_of_movies', data=train1[1:]) \n",
    "ax[1].set_title(\"A Density plot showing the average number of movies watched by the users\",fontsize = 20)\n",
    "    \n",
    "# Show density plot\n",
    "plt.show()"
   ]
  },
  {
   "cell_type": "markdown",
   "metadata": {},
   "source": [
    "<a id=\"four\"></a>\n",
    "\n",
    "# **4. Data Engineering**\n",
    "<a class=\"anchor\" id=\"1.1\"></a>\n",
    "<a href=#cont>Back to Table of Contents</a>\n",
    "\n",
    "---\n",
    "    \n",
    "|  *Description: Data engineering*  |\n",
    "| :--------------------------- |\n",
    "| \n",
    ">In this section the dataset will be cleaned and possible new new features created - as identified in the EDA phase. |\n",
    "\n",
    "---\n"
   ]
  },
  {
   "cell_type": "markdown",
   "metadata": {},
   "source": [
    "### <a id=\"four.one\"></a> 4.1 *Removing Null values from imbd,links and tags datasets.*"
   ]
  },
  {
   "cell_type": "code",
   "execution_count": null,
   "metadata": {},
   "outputs": [],
   "source": [
    "\n",
    "# Removing Null values from Tags datasets\n",
    "df_tags = df_tags.dropna()\n",
    "\n",
    "# Removing Null values from imbd datasets\n",
    "df_links = df_links.dropna()\n",
    "\n",
    "# Removing Null values from links datasets\n",
    "df_imdb_data = df_imdb_data.dropna()"
   ]
  },
  {
   "cell_type": "code",
   "execution_count": null,
   "metadata": {},
   "outputs": [
    {
     "data": {
      "text/plain": [
       "userId       0\n",
       "movieId      0\n",
       "tag          0\n",
       "timestamp    0\n",
       "dtype: int64"
      ]
     },
     "execution_count": 64,
     "metadata": {},
     "output_type": "execute_result"
    }
   ],
   "source": [
    "\n",
    "# Checking to see if Null values have been removed from tags dataset\n",
    "df_tags.isnull().sum()\n"
   ]
  },
  {
   "cell_type": "code",
   "execution_count": null,
   "metadata": {},
   "outputs": [
    {
     "data": {
      "text/plain": [
       "movieId    0\n",
       "imdbId     0\n",
       "tmdbId     0\n",
       "dtype: int64"
      ]
     },
     "execution_count": 65,
     "metadata": {},
     "output_type": "execute_result"
    }
   ],
   "source": [
    "# Checking to see if Null values have been removed from links dataset\n",
    "df_links.isnull().sum()\n"
   ]
  },
  {
   "cell_type": "code",
   "execution_count": null,
   "metadata": {},
   "outputs": [
    {
     "data": {
      "text/plain": [
       "movieId          0\n",
       "title_cast       0\n",
       "director         0\n",
       "runtime          0\n",
       "budget           0\n",
       "plot_keywords    0\n",
       "dtype: int64"
      ]
     },
     "execution_count": 66,
     "metadata": {},
     "output_type": "execute_result"
    }
   ],
   "source": [
    "\n",
    "# Checking to see if Null values have been removed from imdb dataset\n",
    "df_imdb_data.isnull().sum()"
   ]
  },
  {
   "cell_type": "markdown",
   "metadata": {},
   "source": [
    "### <a id=\"four.two\"></a> 4.2 *The train dataset gives an overview of how each user rated each movie. What was observed that each user can rate a movie from 0.5 (Worst) to 5.0 (Best). Here is the full detailed scale:*\n",
    "\n",
    "- 0.5 - Very Bad\n",
    "- 1.0 - Bad\n",
    "- 1.5 - Moderately Bad\n",
    "- 2.0 - Not that Bad\n",
    "- 2.5 - Less than average\n",
    "- 3.0 - Average\n",
    "- 3.5 - Above than average\n",
    "- 4.0 - Good\n",
    "- 4.5 - Very Good\n"
   ]
  },
  {
   "cell_type": "code",
   "execution_count": null,
   "metadata": {},
   "outputs": [
    {
     "data": {
      "text/plain": [
       "4.0    2652977\n",
       "3.0    1959759\n",
       "5.0    1445230\n",
       "3.5    1270642\n",
       "4.5     880516\n",
       "2.0     656821\n",
       "2.5     505578\n",
       "1.0     311213\n",
       "1.5     159731\n",
       "0.5     157571\n",
       "Name: rating, dtype: int64"
      ]
     },
     "execution_count": 130,
     "metadata": {},
     "output_type": "execute_result"
    }
   ],
   "source": [
    "# Looking at the count for each rating in the train dataset\n",
    "df_train.rating.value_counts()"
   ]
  },
  {
   "cell_type": "code",
   "execution_count": null,
   "metadata": {},
   "outputs": [
    {
     "data": {
      "image/png": "[encoded data removed]",
      "text/plain": [
       "<Figure size 1440x720 with 1 Axes>"
      ]
     },
     "metadata": {},
     "output_type": "display_data"
    }
   ],
   "source": [
    "# Plotting the graph\n",
    "fig, ax = plt.subplots(figsize=(20, 10)) # Initialize the plot with set figure size\n",
    "\n",
    "sns.countplot(ax=ax, x='rating', data=df_train) # Create a countplot to visualise the number of movies per category\n",
    "ax.set_title(\"The number of movies for each ratings\")\n",
    "plt.ticklabel_format(style='plain', axis='y', useOffset=False) # Set the tick labels to appear in non-scientific form\n",
    "\n",
    "# Make the counts appear on the different\n",
    "for p in ax.patches:\n",
    "    ax.annotate('{:.1f}'.format(p.get_height()), (p.get_x()+0.1, p.get_height()+50))\n",
    "    \n",
    "# Show the countplot\n",
    "plt.show()\n"
   ]
  },
  {
   "cell_type": "markdown",
   "metadata": {},
   "source": [
    ">From the countplot, 60579966 movies in the dataset where rated 3.0 or above where most were rated given the rating of 4.0. Most of the movies in the data were very good considering the amount of movies that were rated 4.0 or above. With further scrutiny of the data, the observations acquired from the above chart will be explained in the next incoming sections."
   ]
  },
  {
   "cell_type": "markdown",
   "metadata": {},
   "source": [
    "### <a id=\"four.three\"></a> 4.3 *Creating a new dataset of average rating and number of times the users have rated movies*"
   ]
  },
  {
   "cell_type": "code",
   "execution_count": null,
   "metadata": {},
   "outputs": [
    {
     "data": {
      "text/html": [
       "<div>\n",
       "<style scoped>\n",
       "    .dataframe tbody tr th:only-of-type {\n",
       "        vertical-align: middle;\n",
       "    }\n",
       "\n",
       "    .dataframe tbody tr th {\n",
       "        vertical-align: top;\n",
       "    }\n",
       "\n",
       "    .dataframe thead th {\n",
       "        text-align: right;\n",
       "    }\n",
       "</style>\n",
       "<table border=\"1\" class=\"dataframe\">\n",
       "  <thead>\n",
       "    <tr style=\"text-align: right;\">\n",
       "      <th></th>\n",
       "      <th>avg_rating</th>\n",
       "      <th>number_of_movies</th>\n",
       "    </tr>\n",
       "    <tr>\n",
       "      <th>userId</th>\n",
       "      <th></th>\n",
       "      <th></th>\n",
       "    </tr>\n",
       "  </thead>\n",
       "  <tbody>\n",
       "    <tr>\n",
       "      <th>72315</th>\n",
       "      <td>3.092380</td>\n",
       "      <td>12952</td>\n",
       "    </tr>\n",
       "    <tr>\n",
       "      <th>80974</th>\n",
       "      <td>3.277582</td>\n",
       "      <td>3680</td>\n",
       "    </tr>\n",
       "    <tr>\n",
       "      <th>137293</th>\n",
       "      <td>3.192168</td>\n",
       "      <td>3588</td>\n",
       "    </tr>\n",
       "    <tr>\n",
       "      <th>33844</th>\n",
       "      <td>2.583853</td>\n",
       "      <td>3208</td>\n",
       "    </tr>\n",
       "    <tr>\n",
       "      <th>20055</th>\n",
       "      <td>3.179016</td>\n",
       "      <td>3050</td>\n",
       "    </tr>\n",
       "  </tbody>\n",
       "</table>\n",
       "</div>"
      ],
      "text/plain": [
       "        avg_rating  number_of_movies\n",
       "userId                              \n",
       "72315     3.092380             12952\n",
       "80974     3.277582              3680\n",
       "137293    3.192168              3588\n",
       "33844     2.583853              3208\n",
       "20055     3.179016              3050"
      ]
     },
     "execution_count": 171,
     "metadata": {},
     "output_type": "execute_result"
    }
   ],
   "source": [
    "# Create a Dataframe consisting of the users average rating the give per user and number of times they have rated movies\n",
    "train1 = pd.DataFrame(df_train.groupby('userId')['rating'].agg('mean').reset_index())\n",
    "train2 = pd.DataFrame(df_train.groupby('userId')['rating'].count().reset_index())\n",
    "# Merge the above to dataframe \n",
    "train1 = train1.merge(train2,on='userId',how = 'left')\n",
    "# Rename the columns respectively\n",
    "train1.rename(columns={'rating_x':'avg_rating','rating_y':'number_of_movies'},inplace = True)\n",
    "\n",
    "# Sort the data in descending of the number of movies the user has rated\n",
    "train1 = train1.sort_values('number_of_movies', ascending = False)\n",
    "\n",
    "#setting the userID as the index\n",
    "train1 = train1.set_index('userId')\n",
    "\n",
    "# Looking at the first 5 rows \n",
    "train1.head()"
   ]
  },
  {
   "cell_type": "code",
   "execution_count": null,
   "metadata": {},
   "outputs": [
    {
     "data": {
      "text/plain": [
       "Text(0.5, 1.0, 'A Density plot showing the average number of movies watched by the users')"
      ]
     },
     "execution_count": 172,
     "metadata": {},
     "output_type": "execute_result"
    },
    {
     "data": {
      "image/png": "[encoded data removed]",
      "text/plain": [
       "<Figure size 1440x720 with 2 Axes>"
      ]
     },
     "metadata": {},
     "output_type": "display_data"
    }
   ],
   "source": [
    "# Initialize the plot with set figure size\n",
    "fig, ax = plt.subplots(1,2,figsize=(20, 10)) \n",
    "\n",
    "# Create a densityplot to visualise the density of the ratings per users\n",
    "sns.kdeplot(ax=ax[0], x='avg_rating', data=train1) \n",
    "ax[0].set_title(\"The average rating of users\",fontsize = 20)\n",
    "\n",
    "# Set the tick labels to appear in non-scientific form\n",
    "plt.ticklabel_format(style='plain', axis='y', useOffset=False) \n",
    "\n",
    "# Create a KDE plot of the rating the users \n",
    "sns.kdeplot(ax=ax[1], x='number_of_movies', data=train1[1:]) \n",
    "ax[1].set_title(\"A Density plot showing the average number of movies watched by the users\",fontsize = 20)\n",
    "    \n",
    "# Show density plot"
   ]
  },
  {
   "cell_type": "markdown",
   "metadata": {},
   "source": [
    ">The density plots explain the general trend or behaivior of the users. Two features that were observed displayed that most users(80%) give an average rating of 3.5 for a movie that the user has watched. "
   ]
  },
  {
   "cell_type": "markdown",
   "metadata": {},
   "source": [
    "### <a id=\"four.three\"></a> 4.3 *Making a new dataframe with train dataset and the movies data set*"
   ]
  },
  {
   "cell_type": "code",
   "execution_count": 229,
   "metadata": {},
   "outputs": [
    {
     "data": {
      "text/html": [
       "<div>\n",
       "<style scoped>\n",
       "    .dataframe tbody tr th:only-of-type {\n",
       "        vertical-align: middle;\n",
       "    }\n",
       "\n",
       "    .dataframe tbody tr th {\n",
       "        vertical-align: top;\n",
       "    }\n",
       "\n",
       "    .dataframe thead th {\n",
       "        text-align: right;\n",
       "    }\n",
       "</style>\n",
       "<table border=\"1\" class=\"dataframe\">\n",
       "  <thead>\n",
       "    <tr style=\"text-align: right;\">\n",
       "      <th></th>\n",
       "      <th>userId</th>\n",
       "      <th>movieId</th>\n",
       "      <th>rating</th>\n",
       "      <th>timestamp</th>\n",
       "      <th>title</th>\n",
       "      <th>genres</th>\n",
       "    </tr>\n",
       "  </thead>\n",
       "  <tbody>\n",
       "    <tr>\n",
       "      <th>0</th>\n",
       "      <td>5163</td>\n",
       "      <td>57669</td>\n",
       "      <td>4.0</td>\n",
       "      <td>1518349992</td>\n",
       "      <td>In Bruges (2008)</td>\n",
       "      <td>Comedy|Crime|Drama|Thriller</td>\n",
       "    </tr>\n",
       "    <tr>\n",
       "      <th>4253</th>\n",
       "      <td>106343</td>\n",
       "      <td>5</td>\n",
       "      <td>4.5</td>\n",
       "      <td>1206238739</td>\n",
       "      <td>Father of the Bride Part II (1995)</td>\n",
       "      <td>Comedy</td>\n",
       "    </tr>\n",
       "    <tr>\n",
       "      <th>8901</th>\n",
       "      <td>146790</td>\n",
       "      <td>5459</td>\n",
       "      <td>5.0</td>\n",
       "      <td>1076215539</td>\n",
       "      <td>Men in Black II (a.k.a. MIIB) (a.k.a. MIB 2) (2002)</td>\n",
       "      <td>Action|Comedy|Sci-Fi</td>\n",
       "    </tr>\n",
       "    <tr>\n",
       "      <th>14631</th>\n",
       "      <td>106362</td>\n",
       "      <td>32296</td>\n",
       "      <td>2.0</td>\n",
       "      <td>1423042565</td>\n",
       "      <td>Miss Congeniality 2: Armed and Fabulous (2005)</td>\n",
       "      <td>Adventure|Comedy|Crime</td>\n",
       "    </tr>\n",
       "    <tr>\n",
       "      <th>15289</th>\n",
       "      <td>9041</td>\n",
       "      <td>366</td>\n",
       "      <td>3.0</td>\n",
       "      <td>833375837</td>\n",
       "      <td>Wes Craven's New Nightmare (Nightmare on Elm Street Part 7: Freddy's Finale, A) (1994)</td>\n",
       "      <td>Drama|Horror|Mystery|Thriller</td>\n",
       "    </tr>\n",
       "  </tbody>\n",
       "</table>\n",
       "</div>"
      ],
      "text/plain": [
       "       userId  movieId  rating   timestamp  \\\n",
       "0        5163    57669     4.0  1518349992   \n",
       "4253   106343        5     4.5  1206238739   \n",
       "8901   146790     5459     5.0  1076215539   \n",
       "14631  106362    32296     2.0  1423042565   \n",
       "15289    9041      366     3.0   833375837   \n",
       "\n",
       "                                                                                        title  \\\n",
       "0                                                                            In Bruges (2008)   \n",
       "4253                                                       Father of the Bride Part II (1995)   \n",
       "8901                                      Men in Black II (a.k.a. MIIB) (a.k.a. MIB 2) (2002)   \n",
       "14631                                          Miss Congeniality 2: Armed and Fabulous (2005)   \n",
       "15289  Wes Craven's New Nightmare (Nightmare on Elm Street Part 7: Freddy's Finale, A) (1994)   \n",
       "\n",
       "                              genres  \n",
       "0        Comedy|Crime|Drama|Thriller  \n",
       "4253                          Comedy  \n",
       "8901            Action|Comedy|Sci-Fi  \n",
       "14631         Adventure|Comedy|Crime  \n",
       "15289  Drama|Horror|Mystery|Thriller  "
      ]
     },
     "execution_count": 229,
     "metadata": {},
     "output_type": "execute_result"
    }
   ],
   "source": [
    "# Merges the movie and train datasets\n",
    "train_movies = df_train.merge(df_movies,on = 'movieId') \n",
    "\n",
    "# Drop any duplicated information \n",
    "train_movies.drop_duplicates(['title','genres'],inplace = True)\n",
    "\n",
    "# Looking at the forst 5 rows\n",
    "train_movies.head()"
   ]
  },
  {
   "cell_type": "code",
   "execution_count": 230,
   "metadata": {},
   "outputs": [
    {
     "data": {
      "text/html": [
       "<div>\n",
       "<style scoped>\n",
       "    .dataframe tbody tr th:only-of-type {\n",
       "        vertical-align: middle;\n",
       "    }\n",
       "\n",
       "    .dataframe tbody tr th {\n",
       "        vertical-align: top;\n",
       "    }\n",
       "\n",
       "    .dataframe thead th {\n",
       "        text-align: right;\n",
       "    }\n",
       "</style>\n",
       "<table border=\"1\" class=\"dataframe\">\n",
       "  <thead>\n",
       "    <tr style=\"text-align: right;\">\n",
       "      <th></th>\n",
       "      <th>movieId</th>\n",
       "      <th>title</th>\n",
       "      <th>genres</th>\n",
       "      <th>rating</th>\n",
       "    </tr>\n",
       "  </thead>\n",
       "  <tbody>\n",
       "    <tr>\n",
       "      <th>0</th>\n",
       "      <td>57669</td>\n",
       "      <td>In Bruges (2008)</td>\n",
       "      <td>Comedy|Crime|Drama|Thriller</td>\n",
       "      <td>4.0</td>\n",
       "    </tr>\n",
       "    <tr>\n",
       "      <th>1</th>\n",
       "      <td>5</td>\n",
       "      <td>Father of the Bride Part II (1995)</td>\n",
       "      <td>Comedy</td>\n",
       "      <td>4.5</td>\n",
       "    </tr>\n",
       "    <tr>\n",
       "      <th>2</th>\n",
       "      <td>5459</td>\n",
       "      <td>Men in Black II (a.k.a. MIIB) (a.k.a. MIB 2) (2002)</td>\n",
       "      <td>Action|Comedy|Sci-Fi</td>\n",
       "      <td>5.0</td>\n",
       "    </tr>\n",
       "    <tr>\n",
       "      <th>3</th>\n",
       "      <td>32296</td>\n",
       "      <td>Miss Congeniality 2: Armed and Fabulous (2005)</td>\n",
       "      <td>Adventure|Comedy|Crime</td>\n",
       "      <td>2.0</td>\n",
       "    </tr>\n",
       "    <tr>\n",
       "      <th>4</th>\n",
       "      <td>366</td>\n",
       "      <td>Wes Craven's New Nightmare (Nightmare on Elm Street Part 7: Freddy's Finale, A) (1994)</td>\n",
       "      <td>Drama|Horror|Mystery|Thriller</td>\n",
       "      <td>3.0</td>\n",
       "    </tr>\n",
       "  </tbody>\n",
       "</table>\n",
       "</div>"
      ],
      "text/plain": [
       "   movieId  \\\n",
       "0    57669   \n",
       "1        5   \n",
       "2     5459   \n",
       "3    32296   \n",
       "4      366   \n",
       "\n",
       "                                                                                    title  \\\n",
       "0                                                                        In Bruges (2008)   \n",
       "1                                                      Father of the Bride Part II (1995)   \n",
       "2                                     Men in Black II (a.k.a. MIIB) (a.k.a. MIB 2) (2002)   \n",
       "3                                          Miss Congeniality 2: Armed and Fabulous (2005)   \n",
       "4  Wes Craven's New Nightmare (Nightmare on Elm Street Part 7: Freddy's Finale, A) (1994)   \n",
       "\n",
       "                          genres  rating  \n",
       "0    Comedy|Crime|Drama|Thriller     4.0  \n",
       "1                         Comedy     4.5  \n",
       "2           Action|Comedy|Sci-Fi     5.0  \n",
       "3         Adventure|Comedy|Crime     2.0  \n",
       "4  Drama|Horror|Mystery|Thriller     3.0  "
      ]
     },
     "execution_count": 230,
     "metadata": {},
     "output_type": "execute_result"
    }
   ],
   "source": [
    "# Create a new dataframe from the train_movies dataframe to get the average rating  \n",
    "train3 = train_movies.copy()\n",
    "\n",
    "# Get the  avarage rating for each movie in the data \n",
    "total_ratings = train_movies.groupby(['movieId','genres']).mean()['rating'].reset_index()\n",
    "\n",
    "# Merge the the train2 and the total_ratings to create a new data \n",
    "train3 = train3.merge(total_ratings, on = 'movieId')\n",
    "\n",
    "train3.drop(columns=['userId','rating_x','genres_y'],inplace=True) # Delete the duplicated columns\n",
    "\n",
    "train3.rename(columns={'genres_x':'genres','rating_y':'rating'},inplace=True) # Rename the columns\n",
    "\n",
    "# Dropping the timestamp column\n",
    "train3.drop(columns=['timestamp'],inplace=True) \n",
    "\n",
    "# Show the  first 5 observations\n",
    "train3.head()"
   ]
  },
  {
   "cell_type": "code",
   "execution_count": 231,
   "metadata": {},
   "outputs": [
    {
     "data": {
      "text/html": [
       "<div>\n",
       "<style scoped>\n",
       "    .dataframe tbody tr th:only-of-type {\n",
       "        vertical-align: middle;\n",
       "    }\n",
       "\n",
       "    .dataframe tbody tr th {\n",
       "        vertical-align: top;\n",
       "    }\n",
       "\n",
       "    .dataframe thead th {\n",
       "        text-align: right;\n",
       "    }\n",
       "</style>\n",
       "<table border=\"1\" class=\"dataframe\">\n",
       "  <thead>\n",
       "    <tr style=\"text-align: right;\">\n",
       "      <th></th>\n",
       "      <th>movieId</th>\n",
       "      <th>title</th>\n",
       "      <th>genres</th>\n",
       "      <th>rating</th>\n",
       "      <th>voted</th>\n",
       "    </tr>\n",
       "  </thead>\n",
       "  <tbody>\n",
       "    <tr>\n",
       "      <th>38711</th>\n",
       "      <td>143547</td>\n",
       "      <td>The Phantom of the Opera at the Royal Albert Hall (2011)</td>\n",
       "      <td>Drama|Romance</td>\n",
       "      <td>5.0</td>\n",
       "      <td>11</td>\n",
       "    </tr>\n",
       "    <tr>\n",
       "      <th>12392</th>\n",
       "      <td>757</td>\n",
       "      <td>Ashes of Time (Dung che sai duk) (1994)</td>\n",
       "      <td>Drama</td>\n",
       "      <td>5.0</td>\n",
       "      <td>99</td>\n",
       "    </tr>\n",
       "    <tr>\n",
       "      <th>2459</th>\n",
       "      <td>2289</td>\n",
       "      <td>Player, The (1992)</td>\n",
       "      <td>Comedy|Crime|Drama</td>\n",
       "      <td>5.0</td>\n",
       "      <td>2959</td>\n",
       "    </tr>\n",
       "    <tr>\n",
       "      <th>12423</th>\n",
       "      <td>53024</td>\n",
       "      <td>Jonestown: The Life and Death of Peoples Temple (2006)</td>\n",
       "      <td>Documentary</td>\n",
       "      <td>5.0</td>\n",
       "      <td>136</td>\n",
       "    </tr>\n",
       "    <tr>\n",
       "      <th>2465</th>\n",
       "      <td>55094</td>\n",
       "      <td>In the Valley of Elah (2007)</td>\n",
       "      <td>Drama|Mystery</td>\n",
       "      <td>5.0</td>\n",
       "      <td>387</td>\n",
       "    </tr>\n",
       "  </tbody>\n",
       "</table>\n",
       "</div>"
      ],
      "text/plain": [
       "       movieId                                                     title  \\\n",
       "38711   143547  The Phantom of the Opera at the Royal Albert Hall (2011)   \n",
       "12392      757                   Ashes of Time (Dung che sai duk) (1994)   \n",
       "2459      2289                                        Player, The (1992)   \n",
       "12423    53024    Jonestown: The Life and Death of Peoples Temple (2006)   \n",
       "2465     55094                              In the Valley of Elah (2007)   \n",
       "\n",
       "                   genres  rating  voted  \n",
       "38711       Drama|Romance     5.0     11  \n",
       "12392               Drama     5.0     99  \n",
       "2459   Comedy|Crime|Drama     5.0   2959  \n",
       "12423         Documentary     5.0    136  \n",
       "2465        Drama|Mystery     5.0    387  "
      ]
     },
     "execution_count": 231,
     "metadata": {},
     "output_type": "execute_result"
    }
   ],
   "source": [
    "# Make a copy of the Train2 dataset\n",
    "train4 = train3.copy() # Make a copy of the Train2 dataset\n",
    "\n",
    "# Create a user dataset to check how many time it has been voted for using groupby function\n",
    "user_rated = pd.DataFrame(df_train['movieId'].value_counts().reset_index()) \n",
    "\n",
    "# Rename the columns \n",
    "user_rated.rename(columns = {'index':'movieId','movieId':'voted'},inplace = True) # Rename the columns \n",
    "\n",
    "# Combine the train3 dataset with the User_rated data\n",
    "train4 = train4.merge(user_rated, on ='movieId') \n",
    "\n",
    "# Filter the data \n",
    "train4 = train4[train4['voted'] > 10] # Find the movies which have the us voted for more than 50 \n",
    "\n",
    "# Sort the values by the rating feature\n",
    "train4 = train4.sort_values('rating',ascending=False) # Sort the values by the rating feature\n",
    "\n",
    "# Looking at the first 5 rows\n",
    "train4.head() "
   ]
  },
  {
   "cell_type": "code",
   "execution_count": 244,
   "metadata": {},
   "outputs": [
    {
     "data": {
      "image/png": "[encoded data removed]",
      "text/plain": [
       "<Figure size 1440x720 with 2 Axes>"
      ]
     },
     "metadata": {},
     "output_type": "display_data"
    }
   ],
   "source": [
    "fig, ax  = plt.subplots(1,2,figsize=(20,10))\n",
    "\n",
    "\n",
    "sns.barplot(ax=ax[0], x='rating',y = 'title', data=train3.head(20)) \n",
    "ax[0].set_title('The top 10 best rated movies ') \n",
    "\n",
    "# Create a bar plot of the top 10 worst rated movies\n",
    "sns.barplot(ax=ax[1],x = 'rating',y = 'title', data = train3.tail(20))\n",
    "ax[1].set_title('The top 10 worst rated movies') \n",
    "\n",
    "fig.tight_layout() \n",
    "plt.show() "
   ]
  },
  {
   "cell_type": "markdown",
   "metadata": {},
   "source": [
    "### <a id=\"four.two\"></a> 4.2 *Looking at the unique currencies for the budget column from imdb dataset*"
   ]
  },
  {
   "cell_type": "code",
   "execution_count": null,
   "metadata": {},
   "outputs": [
    {
     "name": "stdout",
     "output_type": "stream",
     "text": [
      "23579      VEB4,273,248\n",
      "24673     TWD50,000,000\n",
      "13436      TRL1,200,000\n",
      "7136     THB400,000,000\n",
      "13548    THB300,000,000\n",
      "              ...      \n",
      "3822         $1,000,000\n",
      "1328         $1,000,000\n",
      "26286        $1,000,000\n",
      "25021        $1,000,000\n",
      "19564            $1,000\n",
      "Name: budget, Length: 6963, dtype: object\n"
     ]
    }
   ],
   "source": [
    "# Looking at the budget column in the imdb dataset\n",
    "df_budget= df_imdb_data.sort_values(by='budget',ascending=False)\n",
    "print(df_budget.budget)"
   ]
  },
  {
   "cell_type": "code",
   "execution_count": null,
   "metadata": {},
   "outputs": [
    {
     "name": "stdout",
     "output_type": "stream",
     "text": [
      "['VEB' 'TWD' 'TRL' 'THB' 'SGD' 'SEK' 'RUR' 'PTE' 'PLN' 'PHP' 'NZD' 'NOK'\n",
      " 'NLG' 'NGN' 'MYR' 'MXN' 'LVL' 'KRW' 'JPY' 'ITL' 'ISK' 'INR' 'ILS' 'IDR'\n",
      " 'HUF' 'HKD' 'GBP' 'FRF' 'FIM' 'EUR' 'ESP' 'DKK' 'DEM' 'CZK' 'CNY' 'CLP'\n",
      " 'CHF' 'CAD' 'BRL' 'BND' 'BGL' 'BEF' 'AUD' 'ATS' 'ARS' '$99' '$98' '$95'\n",
      " '$94' '$93' '$92' '$90' '$9,' '$88' '$87' '$86' '$85' '$84' '$83' '$82'\n",
      " '$81' '$80' '$8,' '$79' '$78' '$76' '$75' '$74' '$73' '$72' '$71' '$70'\n",
      " '$7,' '$69' '$68' '$67' '$66' '$65' '$64' '$63' '$62' '$61' '$60' '$6,'\n",
      " '$6' '$59' '$58' '$57' '$56' '$55' '$54' '$53' '$52' '$51' '$50' '$5,'\n",
      " '$5' '$49' '$48' '$47' '$46' '$45' '$44' '$43' '$42' '$41' '$40' '$4,'\n",
      " '$4' '$39' '$38' '$37' '$36' '$35' '$34' '$33' '$32' '$31' '$30' '$3,'\n",
      " '$29' '$28' '$27' '$26' '$25' '$24' '$23' '$22' '$21' '$20' '$2,' '$19'\n",
      " '$18' '$17' '$16' '$15' '$14' '$13' '$12' '$11' '$10' '$1,']\n"
     ]
    }
   ],
   "source": [
    "# Lookign at unique values in the budget colum\n",
    "budget_movies= df_imdb_data.sort_values(by='budget',ascending =False)\n",
    "print(budget_movies.budget.str[0:3].unique())"
   ]
  },
  {
   "cell_type": "markdown",
   "metadata": {},
   "source": [
    "> We can see that there are different currencies in the budget column"
   ]
  },
  {
   "cell_type": "code",
   "execution_count": null,
   "metadata": {},
   "outputs": [
    {
     "ename": "ValueError",
     "evalue": "not enough values to unpack (expected 2, got 1)",
     "output_type": "error",
     "traceback": [
      "\u001b[0;31m---------------------------------------------------------------------------\u001b[0m",
      "\u001b[0;31mValueError\u001b[0m                                Traceback (most recent call last)",
      "\u001b[1;32m/Users/caitlinmclaren/Documents/GitHub/Team_ES2_Unsupervised_Predict/Team ES2 Unsupervised Predict.ipynb Cell 49\u001b[0m in \u001b[0;36m<cell line: 20>\u001b[0;34m()\u001b[0m\n\u001b[1;32m     <a href='vscode-notebook-cell:/Users/caitlinmclaren/Documents/GitHub/Team_ES2_Unsupervised_Predict/Team%20ES2%20Unsupervised%20Predict.ipynb#X66sZmlsZQ%3D%3D?line=16'>17</a>\u001b[0m           \u001b[39mprint\u001b[39m(currency \u001b[39m+\u001b[39m \u001b[39m\"\u001b[39m\u001b[39m is unsupported\u001b[39m\u001b[39m\"\u001b[39m)\n\u001b[1;32m     <a href='vscode-notebook-cell:/Users/caitlinmclaren/Documents/GitHub/Team_ES2_Unsupervised_Predict/Team%20ES2%20Unsupervised%20Predict.ipynb#X66sZmlsZQ%3D%3D?line=17'>18</a>\u001b[0m           \u001b[39mreturn\u001b[39;00m value\n\u001b[0;32m---> <a href='vscode-notebook-cell:/Users/caitlinmclaren/Documents/GitHub/Team_ES2_Unsupervised_Predict/Team%20ES2%20Unsupervised%20Predict.ipynb#X66sZmlsZQ%3D%3D?line=19'>20</a>\u001b[0m df_imdb_data[\u001b[39m\"\u001b[39m\u001b[39mbudget\u001b[39m\u001b[39m\"\u001b[39m] \u001b[39m=\u001b[39m df_imdb_data[\u001b[39m\"\u001b[39;49m\u001b[39mbudget\u001b[39;49m\u001b[39m\"\u001b[39;49m]\u001b[39m.\u001b[39;49mapply(convert)\n",
      "File \u001b[0;32m~/opt/anaconda3/lib/python3.9/site-packages/pandas/core/series.py:4771\u001b[0m, in \u001b[0;36mSeries.apply\u001b[0;34m(self, func, convert_dtype, args, **kwargs)\u001b[0m\n\u001b[1;32m   4661\u001b[0m \u001b[39mdef\u001b[39;00m \u001b[39mapply\u001b[39m(\n\u001b[1;32m   4662\u001b[0m     \u001b[39mself\u001b[39m,\n\u001b[1;32m   4663\u001b[0m     func: AggFuncType,\n\u001b[0;32m   (...)\u001b[0m\n\u001b[1;32m   4666\u001b[0m     \u001b[39m*\u001b[39m\u001b[39m*\u001b[39mkwargs,\n\u001b[1;32m   4667\u001b[0m ) \u001b[39m-\u001b[39m\u001b[39m>\u001b[39m DataFrame \u001b[39m|\u001b[39m Series:\n\u001b[1;32m   4668\u001b[0m     \u001b[39m\"\"\"\u001b[39;00m\n\u001b[1;32m   4669\u001b[0m \u001b[39m    Invoke function on values of Series.\u001b[39;00m\n\u001b[1;32m   4670\u001b[0m \n\u001b[0;32m   (...)\u001b[0m\n\u001b[1;32m   4769\u001b[0m \u001b[39m    dtype: float64\u001b[39;00m\n\u001b[1;32m   4770\u001b[0m \u001b[39m    \"\"\"\u001b[39;00m\n\u001b[0;32m-> 4771\u001b[0m     \u001b[39mreturn\u001b[39;00m SeriesApply(\u001b[39mself\u001b[39;49m, func, convert_dtype, args, kwargs)\u001b[39m.\u001b[39;49mapply()\n",
      "File \u001b[0;32m~/opt/anaconda3/lib/python3.9/site-packages/pandas/core/apply.py:1105\u001b[0m, in \u001b[0;36mSeriesApply.apply\u001b[0;34m(self)\u001b[0m\n\u001b[1;32m   1102\u001b[0m     \u001b[39mreturn\u001b[39;00m \u001b[39mself\u001b[39m\u001b[39m.\u001b[39mapply_str()\n\u001b[1;32m   1104\u001b[0m \u001b[39m# self.f is Callable\u001b[39;00m\n\u001b[0;32m-> 1105\u001b[0m \u001b[39mreturn\u001b[39;00m \u001b[39mself\u001b[39;49m\u001b[39m.\u001b[39;49mapply_standard()\n",
      "File \u001b[0;32m~/opt/anaconda3/lib/python3.9/site-packages/pandas/core/apply.py:1156\u001b[0m, in \u001b[0;36mSeriesApply.apply_standard\u001b[0;34m(self)\u001b[0m\n\u001b[1;32m   1154\u001b[0m     \u001b[39melse\u001b[39;00m:\n\u001b[1;32m   1155\u001b[0m         values \u001b[39m=\u001b[39m obj\u001b[39m.\u001b[39mastype(\u001b[39mobject\u001b[39m)\u001b[39m.\u001b[39m_values\n\u001b[0;32m-> 1156\u001b[0m         mapped \u001b[39m=\u001b[39m lib\u001b[39m.\u001b[39;49mmap_infer(\n\u001b[1;32m   1157\u001b[0m             values,\n\u001b[1;32m   1158\u001b[0m             f,\n\u001b[1;32m   1159\u001b[0m             convert\u001b[39m=\u001b[39;49m\u001b[39mself\u001b[39;49m\u001b[39m.\u001b[39;49mconvert_dtype,\n\u001b[1;32m   1160\u001b[0m         )\n\u001b[1;32m   1162\u001b[0m \u001b[39mif\u001b[39;00m \u001b[39mlen\u001b[39m(mapped) \u001b[39mand\u001b[39;00m \u001b[39misinstance\u001b[39m(mapped[\u001b[39m0\u001b[39m], ABCSeries):\n\u001b[1;32m   1163\u001b[0m     \u001b[39m# GH#43986 Need to do list(mapped) in order to get treated as nested\u001b[39;00m\n\u001b[1;32m   1164\u001b[0m     \u001b[39m#  See also GH#25959 regarding EA support\u001b[39;00m\n\u001b[1;32m   1165\u001b[0m     \u001b[39mreturn\u001b[39;00m obj\u001b[39m.\u001b[39m_constructor_expanddim(\u001b[39mlist\u001b[39m(mapped), index\u001b[39m=\u001b[39mobj\u001b[39m.\u001b[39mindex)\n",
      "File \u001b[0;32m~/opt/anaconda3/lib/python3.9/site-packages/pandas/_libs/lib.pyx:2918\u001b[0m, in \u001b[0;36mpandas._libs.lib.map_infer\u001b[0;34m()\u001b[0m\n",
      "\u001b[1;32m/Users/caitlinmclaren/Documents/GitHub/Team_ES2_Unsupervised_Predict/Team ES2 Unsupervised Predict.ipynb Cell 49\u001b[0m in \u001b[0;36mconvert\u001b[0;34m(value)\u001b[0m\n\u001b[1;32m      <a href='vscode-notebook-cell:/Users/caitlinmclaren/Documents/GitHub/Team_ES2_Unsupervised_Predict/Team%20ES2%20Unsupervised%20Predict.ipynb#X66sZmlsZQ%3D%3D?line=2'>3</a>\u001b[0m \u001b[39mdef\u001b[39;00m \u001b[39mconvert\u001b[39m(value):\n\u001b[1;32m      <a href='vscode-notebook-cell:/Users/caitlinmclaren/Documents/GitHub/Team_ES2_Unsupervised_Predict/Team%20ES2%20Unsupervised%20Predict.ipynb#X66sZmlsZQ%3D%3D?line=3'>4</a>\u001b[0m     \u001b[39m#SPLIT VALUES\u001b[39;00m\n\u001b[0;32m----> <a href='vscode-notebook-cell:/Users/caitlinmclaren/Documents/GitHub/Team_ES2_Unsupervised_Predict/Team%20ES2%20Unsupervised%20Predict.ipynb#X66sZmlsZQ%3D%3D?line=4'>5</a>\u001b[0m     currency, money \u001b[39m=\u001b[39m value\u001b[39m.\u001b[39msplit(\u001b[39m\"\u001b[39m\u001b[39m \u001b[39m\u001b[39m\"\u001b[39m)\n\u001b[1;32m      <a href='vscode-notebook-cell:/Users/caitlinmclaren/Documents/GitHub/Team_ES2_Unsupervised_Predict/Team%20ES2%20Unsupervised%20Predict.ipynb#X66sZmlsZQ%3D%3D?line=5'>6</a>\u001b[0m     money \u001b[39m=\u001b[39m \u001b[39mint\u001b[39m(money)\n\u001b[1;32m      <a href='vscode-notebook-cell:/Users/caitlinmclaren/Documents/GitHub/Team_ES2_Unsupervised_Predict/Team%20ES2%20Unsupervised%20Predict.ipynb#X66sZmlsZQ%3D%3D?line=7'>8</a>\u001b[0m     ret \u001b[39m=\u001b[39m \u001b[39m\"\u001b[39m\u001b[39m\"\u001b[39m\n",
      "\u001b[0;31mValueError\u001b[0m: not enough values to unpack (expected 2, got 1)"
     ]
    }
   ],
   "source": [
    "### TRYING TO CONVERT ALL CURRENCIES\n",
    "\n",
    "def convert(value):\n",
    "    #SPLIT VALUES\n",
    "    currency, money = value.split(\" \")\n",
    "    money = int(money)\n",
    "\n",
    "    ret = \"\"\n",
    "    #Don't do anyhting if its already in USD \n",
    "    if currency == \"$\":\n",
    "        return value\n",
    "    else:\n",
    "        try:\n",
    "          money = c.convert(money, currency, 'USD', date=date(2023, 11, 20))\n",
    "          return \"$ \" + str(money)\n",
    "        except:\n",
    "          print(currency + \" is unsupported\")\n",
    "          return value\n",
    "\n",
    "df_imdb_data[\"budget\"] = df_imdb_data[\"budget\"].apply(convert)"
   ]
  },
  {
   "cell_type": "markdown",
   "metadata": {},
   "source": [
    "### <a id=\"four.three\"></a> 4.3 *Removing the \"|\" between words in the genres column in the movie dataset and then extracting the year from the title column*"
   ]
  },
  {
   "cell_type": "code",
   "execution_count": null,
   "metadata": {},
   "outputs": [],
   "source": [
    "# Removing \"|\" in the genres column from movie dataset\n",
    "lemmatizer = WordNetLemmatizer()\n",
    "genres = df_movies[\"genres\"]\n",
    "li=[]\n",
    "for i in range(len(genres)):\n",
    "    temp = genres[i].lower()\n",
    "    temp = temp.split(\"|\")\n",
    "    temp = [lemmatizer.lemmatize(word) for word in temp]\n",
    "    li.append(\" \".join(temp))"
   ]
  },
  {
   "cell_type": "code",
   "execution_count": null,
   "metadata": {},
   "outputs": [],
   "source": [
    "# Creating a new dataset \n",
    "df_movies_data = pd.DataFrame(li,columns=[\"genres\"],index=df_movies[\"title\"])"
   ]
  },
  {
   "cell_type": "code",
   "execution_count": null,
   "metadata": {},
   "outputs": [
    {
     "data": {
      "text/html": [
       "<div>\n",
       "<style scoped>\n",
       "    .dataframe tbody tr th:only-of-type {\n",
       "        vertical-align: middle;\n",
       "    }\n",
       "\n",
       "    .dataframe tbody tr th {\n",
       "        vertical-align: top;\n",
       "    }\n",
       "\n",
       "    .dataframe thead th {\n",
       "        text-align: right;\n",
       "    }\n",
       "</style>\n",
       "<table border=\"1\" class=\"dataframe\">\n",
       "  <thead>\n",
       "    <tr style=\"text-align: right;\">\n",
       "      <th></th>\n",
       "      <th>genres</th>\n",
       "    </tr>\n",
       "    <tr>\n",
       "      <th>title</th>\n",
       "      <th></th>\n",
       "    </tr>\n",
       "  </thead>\n",
       "  <tbody>\n",
       "    <tr>\n",
       "      <th>Toy Story (1995)</th>\n",
       "      <td>adventure animation child comedy fantasy</td>\n",
       "    </tr>\n",
       "    <tr>\n",
       "      <th>Jumanji (1995)</th>\n",
       "      <td>adventure child fantasy</td>\n",
       "    </tr>\n",
       "    <tr>\n",
       "      <th>Grumpier Old Men (1995)</th>\n",
       "      <td>comedy romance</td>\n",
       "    </tr>\n",
       "    <tr>\n",
       "      <th>Waiting to Exhale (1995)</th>\n",
       "      <td>comedy drama romance</td>\n",
       "    </tr>\n",
       "    <tr>\n",
       "      <th>Father of the Bride Part II (1995)</th>\n",
       "      <td>comedy</td>\n",
       "    </tr>\n",
       "  </tbody>\n",
       "</table>\n",
       "</div>"
      ],
      "text/plain": [
       "                                                                      genres\n",
       "title                                                                       \n",
       "Toy Story (1995)                    adventure animation child comedy fantasy\n",
       "Jumanji (1995)                                       adventure child fantasy\n",
       "Grumpier Old Men (1995)                                       comedy romance\n",
       "Waiting to Exhale (1995)                                comedy drama romance\n",
       "Father of the Bride Part II (1995)                                    comedy"
      ]
     },
     "execution_count": 72,
     "metadata": {},
     "output_type": "execute_result"
    }
   ],
   "source": [
    "# Checking to see the \"|\" has been removed from the genres column\n",
    "df_movies_data.head()"
   ]
  },
  {
   "cell_type": "code",
   "execution_count": null,
   "metadata": {},
   "outputs": [
    {
     "data": {
      "text/html": [
       "<div>\n",
       "<style scoped>\n",
       "    .dataframe tbody tr th:only-of-type {\n",
       "        vertical-align: middle;\n",
       "    }\n",
       "\n",
       "    .dataframe tbody tr th {\n",
       "        vertical-align: top;\n",
       "    }\n",
       "\n",
       "    .dataframe thead th {\n",
       "        text-align: right;\n",
       "    }\n",
       "</style>\n",
       "<table border=\"1\" class=\"dataframe\">\n",
       "  <thead>\n",
       "    <tr style=\"text-align: right;\">\n",
       "      <th></th>\n",
       "      <th>movieId</th>\n",
       "      <th>title</th>\n",
       "      <th>genres</th>\n",
       "    </tr>\n",
       "  </thead>\n",
       "  <tbody>\n",
       "    <tr>\n",
       "      <th>0</th>\n",
       "      <td>1</td>\n",
       "      <td>Toy Story (1995)</td>\n",
       "      <td>adventure animation child comedy fantasy</td>\n",
       "    </tr>\n",
       "    <tr>\n",
       "      <th>1</th>\n",
       "      <td>2</td>\n",
       "      <td>Jumanji (1995)</td>\n",
       "      <td>adventure child fantasy</td>\n",
       "    </tr>\n",
       "    <tr>\n",
       "      <th>2</th>\n",
       "      <td>3</td>\n",
       "      <td>Grumpier Old Men (1995)</td>\n",
       "      <td>comedy romance</td>\n",
       "    </tr>\n",
       "    <tr>\n",
       "      <th>3</th>\n",
       "      <td>4</td>\n",
       "      <td>Waiting to Exhale (1995)</td>\n",
       "      <td>comedy drama romance</td>\n",
       "    </tr>\n",
       "    <tr>\n",
       "      <th>4</th>\n",
       "      <td>5</td>\n",
       "      <td>Father of the Bride Part II (1995)</td>\n",
       "      <td>comedy</td>\n",
       "    </tr>\n",
       "  </tbody>\n",
       "</table>\n",
       "</div>"
      ],
      "text/plain": [
       "   movieId                               title  \\\n",
       "0        1                    Toy Story (1995)   \n",
       "1        2                      Jumanji (1995)   \n",
       "2        3             Grumpier Old Men (1995)   \n",
       "3        4            Waiting to Exhale (1995)   \n",
       "4        5  Father of the Bride Part II (1995)   \n",
       "\n",
       "                                     genres  \n",
       "0  adventure animation child comedy fantasy  \n",
       "1                   adventure child fantasy  \n",
       "2                            comedy romance  \n",
       "3                      comedy drama romance  \n",
       "4                                    comedy  "
      ]
     },
     "execution_count": 73,
     "metadata": {},
     "output_type": "execute_result"
    }
   ],
   "source": [
    "# Droping genre column from movies dataset\n",
    "df_movies = df_movies.drop('genres',axis=1)\n",
    "\n",
    "# Creatig new data frame by joining origional movies dataset to the movies dataset created above\n",
    "movies = pd.merge(df_movies,df_movies_data,on='title', how = 'inner')\n",
    "\n",
    "# Checking the first 5 rows of the dataset\n",
    "movies.head()"
   ]
  },
  {
   "cell_type": "code",
   "execution_count": null,
   "metadata": {},
   "outputs": [],
   "source": [
    "# Function to extract year from tilte column\n",
    "def extract_year(string):\n",
    "    string = string.strip()\n",
    "    year = re.findall(r'\\s?\\((\\d{4})\\)$', string)\n",
    "    \n",
    "    try :\n",
    "        return year[0]\n",
    "    except IndexError:\n",
    "        return \"0\"\n"
   ]
  },
  {
   "cell_type": "code",
   "execution_count": null,
   "metadata": {},
   "outputs": [],
   "source": [
    "# Applying the function to the movies dataset\n",
    "movies[\"year\"] = movies[\"title\"].apply(extract_year)\n",
    "movies[\"year\"] = movies[\"year\"].astype(\"int64\")\n",
    "movies['title'] = movies.title.str.replace('(\\(\\d\\d\\d\\d\\))', '')"
   ]
  },
  {
   "cell_type": "code",
   "execution_count": null,
   "metadata": {},
   "outputs": [
    {
     "data": {
      "text/html": [
       "<div>\n",
       "<style scoped>\n",
       "    .dataframe tbody tr th:only-of-type {\n",
       "        vertical-align: middle;\n",
       "    }\n",
       "\n",
       "    .dataframe tbody tr th {\n",
       "        vertical-align: top;\n",
       "    }\n",
       "\n",
       "    .dataframe thead th {\n",
       "        text-align: right;\n",
       "    }\n",
       "</style>\n",
       "<table border=\"1\" class=\"dataframe\">\n",
       "  <thead>\n",
       "    <tr style=\"text-align: right;\">\n",
       "      <th></th>\n",
       "      <th>movieId</th>\n",
       "      <th>title</th>\n",
       "      <th>genres</th>\n",
       "      <th>year</th>\n",
       "    </tr>\n",
       "  </thead>\n",
       "  <tbody>\n",
       "    <tr>\n",
       "      <th>0</th>\n",
       "      <td>1</td>\n",
       "      <td>Toy Story</td>\n",
       "      <td>adventure animation child comedy fantasy</td>\n",
       "      <td>1995</td>\n",
       "    </tr>\n",
       "    <tr>\n",
       "      <th>1</th>\n",
       "      <td>2</td>\n",
       "      <td>Jumanji</td>\n",
       "      <td>adventure child fantasy</td>\n",
       "      <td>1995</td>\n",
       "    </tr>\n",
       "    <tr>\n",
       "      <th>2</th>\n",
       "      <td>3</td>\n",
       "      <td>Grumpier Old Men</td>\n",
       "      <td>comedy romance</td>\n",
       "      <td>1995</td>\n",
       "    </tr>\n",
       "    <tr>\n",
       "      <th>3</th>\n",
       "      <td>4</td>\n",
       "      <td>Waiting to Exhale</td>\n",
       "      <td>comedy drama romance</td>\n",
       "      <td>1995</td>\n",
       "    </tr>\n",
       "    <tr>\n",
       "      <th>4</th>\n",
       "      <td>5</td>\n",
       "      <td>Father of the Bride Part II</td>\n",
       "      <td>comedy</td>\n",
       "      <td>1995</td>\n",
       "    </tr>\n",
       "  </tbody>\n",
       "</table>\n",
       "</div>"
      ],
      "text/plain": [
       "   movieId                         title  \\\n",
       "0        1                    Toy Story    \n",
       "1        2                      Jumanji    \n",
       "2        3             Grumpier Old Men    \n",
       "3        4            Waiting to Exhale    \n",
       "4        5  Father of the Bride Part II    \n",
       "\n",
       "                                     genres  year  \n",
       "0  adventure animation child comedy fantasy  1995  \n",
       "1                   adventure child fantasy  1995  \n",
       "2                            comedy romance  1995  \n",
       "3                      comedy drama romance  1995  \n",
       "4                                    comedy  1995  "
      ]
     },
     "execution_count": 76,
     "metadata": {},
     "output_type": "execute_result"
    }
   ],
   "source": [
    "# Checking the first 5 rows of the dataset after extracting the year from the title and adding year as a seperate column\n",
    "movies.head()"
   ]
  },
  {
   "cell_type": "code",
   "execution_count": 247,
   "metadata": {},
   "outputs": [],
   "source": [
    "def get_Decade_df():\n",
    "    \"\"\"\n",
    "    \"\"\"\n",
    "    count1 = 0\n",
    "    count2 = 0\n",
    "    count3 = 0\n",
    "    count4 = 0\n",
    "    count5 = 0\n",
    "    count6 = 0\n",
    "    count7 = 0\n",
    "    count8 = 0\n",
    "    count9 = 0\n",
    "    count10 = 0\n",
    "    count11 = 0\n",
    "    counts = []\n",
    "    # Create a for loop access every row we can divide the data accordingly.\n",
    "    for i in range(len(train3)) :\n",
    "        if (movies.loc[i,'year'] >= 1800 and movies.loc[i,'year'] < 1900):\n",
    "            count1 = count1 + 1\n",
    "        elif (movies.loc[i,'year'] >= 1900 and movies.loc[i,'year'] < 1920):\n",
    "            count2 = count2 +1\n",
    "        elif (movies.loc[i,'year'] >= 1920 and movies.loc[i,'year'] < 1940):\n",
    "            count3 = count3 + 1\n",
    "        elif (movies.loc[i,'year'] >= 1940 and movies.loc[i,'year'] < 1960):\n",
    "            count4 = count4 + 1\n",
    "        elif (movies.loc[i,'year'] >= 1960 and movies.loc[i,'year'] < 1970):\n",
    "            count5 = count5 + 1\n",
    "        elif (movies.loc[i,'year'] >= 1970 and movies.loc[i,'year'] < 1980):\n",
    "            count6 = count6 + 1\n",
    "        elif (movies.loc[i,'year'] >= 1980 and movies.loc[i,'year'] < 1990):\n",
    "            count7 = count7 + 1\n",
    "        elif (movies.loc[i,'year'] >= 1990 and movies.loc[i,'year'] < 2000):\n",
    "            count8 = count8 + 1\n",
    "        elif (movies.loc[i,'year'] >= 2000 and movies.loc[i,'year'] < 2010):\n",
    "            count9 = count9 + 1  \n",
    "        else:\n",
    "            count10 = count10 + 1\n",
    "#counts.extend([count1,count11])\n",
    "    counts.extend([count1,count2,count3,count4,count5,count6,count7,count8,count9,count10])\n",
    "    return counts\n",
    "\n",
    "counts = get_Decade_df()"
   ]
  },
  {
   "cell_type": "code",
   "execution_count": 248,
   "metadata": {},
   "outputs": [
    {
     "data": {
      "text/html": [
       "<div>\n",
       "<style scoped>\n",
       "    .dataframe tbody tr th:only-of-type {\n",
       "        vertical-align: middle;\n",
       "    }\n",
       "\n",
       "    .dataframe tbody tr th {\n",
       "        vertical-align: top;\n",
       "    }\n",
       "\n",
       "    .dataframe thead th {\n",
       "        text-align: right;\n",
       "    }\n",
       "</style>\n",
       "<table border=\"1\" class=\"dataframe\">\n",
       "  <thead>\n",
       "    <tr style=\"text-align: right;\">\n",
       "      <th></th>\n",
       "      <th>era</th>\n",
       "      <th>count</th>\n",
       "    </tr>\n",
       "  </thead>\n",
       "  <tbody>\n",
       "    <tr>\n",
       "      <th>0</th>\n",
       "      <td>1800 - 1899</td>\n",
       "      <td>73</td>\n",
       "    </tr>\n",
       "    <tr>\n",
       "      <th>1</th>\n",
       "      <td>1900 - 1919</td>\n",
       "      <td>304</td>\n",
       "    </tr>\n",
       "    <tr>\n",
       "      <th>2</th>\n",
       "      <td>1920 - 1939</td>\n",
       "      <td>2264</td>\n",
       "    </tr>\n",
       "    <tr>\n",
       "      <th>3</th>\n",
       "      <td>1940 - 1959</td>\n",
       "      <td>4544</td>\n",
       "    </tr>\n",
       "    <tr>\n",
       "      <th>4</th>\n",
       "      <td>1960 - 1969</td>\n",
       "      <td>3075</td>\n",
       "    </tr>\n",
       "    <tr>\n",
       "      <th>5</th>\n",
       "      <td>1970 - 1979</td>\n",
       "      <td>4233</td>\n",
       "    </tr>\n",
       "    <tr>\n",
       "      <th>6</th>\n",
       "      <td>1980 - 1989</td>\n",
       "      <td>4193</td>\n",
       "    </tr>\n",
       "    <tr>\n",
       "      <th>7</th>\n",
       "      <td>1990 - 1999</td>\n",
       "      <td>5708</td>\n",
       "    </tr>\n",
       "    <tr>\n",
       "      <th>8</th>\n",
       "      <td>2000 - 2009</td>\n",
       "      <td>10860</td>\n",
       "    </tr>\n",
       "    <tr>\n",
       "      <th>9</th>\n",
       "      <td>2010 - till date</td>\n",
       "      <td>12949</td>\n",
       "    </tr>\n",
       "  </tbody>\n",
       "</table>\n",
       "</div>"
      ],
      "text/plain": [
       "                era  count\n",
       "0       1800 - 1899     73\n",
       "1       1900 - 1919    304\n",
       "2       1920 - 1939   2264\n",
       "3       1940 - 1959   4544\n",
       "4       1960 - 1969   3075\n",
       "5       1970 - 1979   4233\n",
       "6       1980 - 1989   4193\n",
       "7       1990 - 1999   5708\n",
       "8       2000 - 2009  10860\n",
       "9  2010 - till date  12949"
      ]
     },
     "execution_count": 248,
     "metadata": {},
     "output_type": "execute_result"
    }
   ],
   "source": [
    "years  = [     '1800 - 1899',\n",
    "               '1900 - 1919',\n",
    "               '1920 - 1939',\n",
    "               '1940 - 1959',\n",
    "               '1960 - 1969',\n",
    "               '1970 - 1979',\n",
    "               '1980 - 1989',\n",
    "               '1990 - 1999',\n",
    "               '2000 - 2009',\n",
    "               '2010 - till date']\n",
    "\n",
    "\n",
    "counts_dict = {'era':years,\n",
    "                'count':counts}\n",
    "counts_df = pd.DataFrame(counts_dict)\n",
    "counts_df "
   ]
  },
  {
   "cell_type": "code",
   "execution_count": 249,
   "metadata": {},
   "outputs": [
    {
     "data": {
      "image/png": "[encoded data removed]",
      "text/plain": [
       "<Figure size 1440x720 with 2 Axes>"
      ]
     },
     "metadata": {},
     "output_type": "display_data"
    }
   ],
   "source": [
    "# Plotting the graph\n",
    "fig, ax = plt.subplots(1,2,figsize=(20, 10)) # Initialize the plot with set figure size\n",
    "\n",
    "# Create a lineplot to visualise the trend per 10 year period\n",
    "sns.lineplot(ax=ax[0], x='era',y = 'count',data=counts_df)\n",
    "\n",
    "# Fix x tick labels for readability  \n",
    "ax[0].set_xticklabels(years,rotation = 20, ha=\"right\")\n",
    "\n",
    "# Create a barplot to visualise the how many movies were released per 10 year period \n",
    "sns.barplot(ax=ax[1], y = 'era',x = 'count', data = counts_df)\n",
    "# Labeling the bars on the bar plot\n",
    "for container in ax[1].containers:\n",
    "    ax[1].bar_label(container)\n",
    "\n",
    "# Show the barplot\n",
    "plt.show()"
   ]
  },
  {
   "cell_type": "markdown",
   "metadata": {},
   "source": [
    "### <a id=\"four.four\"></a> 4.4 *Removing the \"|\" between words in the title cast and plot keywords columns in the imdb dataset*"
   ]
  },
  {
   "cell_type": "code",
   "execution_count": null,
   "metadata": {},
   "outputs": [],
   "source": [
    "# Removing \"|\" in the title_cast column from imdb dataset\n",
    "lemmatizer = WordNetLemmatizer()\n",
    "title_cast = df_imdb_data[\"title_cast\"]\n",
    "li=[]\n",
    "for i in range(len(title_cast)):\n",
    "    temp = genres[i].lower()\n",
    "    temp = temp.split(\"|\")\n",
    "    temp = [lemmatizer.lemmatize(word) for word in temp]\n",
    "    li.append(\" \".join(temp))"
   ]
  },
  {
   "cell_type": "code",
   "execution_count": null,
   "metadata": {},
   "outputs": [],
   "source": [
    "# Removing \"|\" in the plot_keywords column from imdb dataset\n",
    "lemmatizer = WordNetLemmatizer()\n",
    "plot_keywords = df_imdb_data[\"plot_keywords\"]\n",
    "lis=[]\n",
    "for i in range(len(plot_keywords)):\n",
    "    temp = genres[i].lower()\n",
    "    temp = temp.split(\"|\")\n",
    "    temp = [lemmatizer.lemmatize(word) for word in temp]\n",
    "    lis.append(\" \".join(temp))"
   ]
  },
  {
   "cell_type": "code",
   "execution_count": null,
   "metadata": {},
   "outputs": [],
   "source": [
    "# Creating a new dataset \n",
    "df_imdb_data_ne = pd.DataFrame(li,columns=[\"tilte_cast\"],index=df_imdb_data[\"movieId\"])\n",
    "df_imdb_data_new=pd.DataFrame(lis,columns=[\"plot_keywords\"],index=df_imdb_data[\"movieId\"])"
   ]
  },
  {
   "cell_type": "code",
   "execution_count": null,
   "metadata": {},
   "outputs": [
    {
     "name": "stdout",
     "output_type": "stream",
     "text": [
      "                                       tilte_cast\n",
      "movieId                                          \n",
      "1        adventure animation child comedy fantasy\n",
      "2                         adventure child fantasy\n",
      "3                                  comedy romance\n",
      "4                            comedy drama romance\n",
      "5                                          comedy\n",
      "                                    plot_keywords\n",
      "movieId                                          \n",
      "1        adventure animation child comedy fantasy\n",
      "2                         adventure child fantasy\n",
      "3                                  comedy romance\n",
      "4                            comedy drama romance\n",
      "5                                          comedy\n"
     ]
    }
   ],
   "source": [
    "# Checking to see the \"|\" has been removed from the title cast column\n",
    "print(df_imdb_data_ne.head())\n",
    "print(df_imdb_data_new.head())"
   ]
  },
  {
   "cell_type": "code",
   "execution_count": null,
   "metadata": {},
   "outputs": [
    {
     "data": {
      "text/html": [
       "<div>\n",
       "<style scoped>\n",
       "    .dataframe tbody tr th:only-of-type {\n",
       "        vertical-align: middle;\n",
       "    }\n",
       "\n",
       "    .dataframe tbody tr th {\n",
       "        vertical-align: top;\n",
       "    }\n",
       "\n",
       "    .dataframe thead th {\n",
       "        text-align: right;\n",
       "    }\n",
       "</style>\n",
       "<table border=\"1\" class=\"dataframe\">\n",
       "  <thead>\n",
       "    <tr style=\"text-align: right;\">\n",
       "      <th></th>\n",
       "      <th>movieId</th>\n",
       "      <th>tilte_cast</th>\n",
       "      <th>plot_keywords</th>\n",
       "      <th>director</th>\n",
       "      <th>runtime</th>\n",
       "    </tr>\n",
       "  </thead>\n",
       "  <tbody>\n",
       "    <tr>\n",
       "      <th>0</th>\n",
       "      <td>1</td>\n",
       "      <td>adventure animation child comedy fantasy</td>\n",
       "      <td>adventure animation child comedy fantasy</td>\n",
       "      <td>John Lasseter</td>\n",
       "      <td>81.0</td>\n",
       "    </tr>\n",
       "    <tr>\n",
       "      <th>1</th>\n",
       "      <td>2</td>\n",
       "      <td>adventure child fantasy</td>\n",
       "      <td>adventure child fantasy</td>\n",
       "      <td>Jonathan Hensleigh</td>\n",
       "      <td>104.0</td>\n",
       "    </tr>\n",
       "    <tr>\n",
       "      <th>2</th>\n",
       "      <td>3</td>\n",
       "      <td>comedy romance</td>\n",
       "      <td>comedy romance</td>\n",
       "      <td>Mark Steven Johnson</td>\n",
       "      <td>101.0</td>\n",
       "    </tr>\n",
       "    <tr>\n",
       "      <th>3</th>\n",
       "      <td>4</td>\n",
       "      <td>comedy drama romance</td>\n",
       "      <td>comedy drama romance</td>\n",
       "      <td>Terry McMillan</td>\n",
       "      <td>124.0</td>\n",
       "    </tr>\n",
       "    <tr>\n",
       "      <th>4</th>\n",
       "      <td>5</td>\n",
       "      <td>comedy</td>\n",
       "      <td>comedy</td>\n",
       "      <td>Albert Hackett</td>\n",
       "      <td>106.0</td>\n",
       "    </tr>\n",
       "  </tbody>\n",
       "</table>\n",
       "</div>"
      ],
      "text/plain": [
       "   movieId                                tilte_cast  \\\n",
       "0        1  adventure animation child comedy fantasy   \n",
       "1        2                   adventure child fantasy   \n",
       "2        3                            comedy romance   \n",
       "3        4                      comedy drama romance   \n",
       "4        5                                    comedy   \n",
       "\n",
       "                              plot_keywords             director  runtime  \n",
       "0  adventure animation child comedy fantasy        John Lasseter     81.0  \n",
       "1                   adventure child fantasy   Jonathan Hensleigh    104.0  \n",
       "2                            comedy romance  Mark Steven Johnson    101.0  \n",
       "3                      comedy drama romance       Terry McMillan    124.0  \n",
       "4                                    comedy       Albert Hackett    106.0  "
      ]
     },
     "execution_count": 81,
     "metadata": {},
     "output_type": "execute_result"
    }
   ],
   "source": [
    "# Droping title_cast, plot_keywords and budget columns from imdb dataset\n",
    "df_imdb_data = df_imdb_data.drop('title_cast',axis=1)\n",
    "df_imdb_data = df_imdb_data.drop('plot_keywords',axis=1)\n",
    "df_imdb_data = df_imdb_data.drop('budget',axis=1)\n",
    "\n",
    "# Creatig new data frame by joining origional movies data frame to the movies dataset created above\n",
    "imdb= pd.merge(pd.merge(df_imdb_data_ne,df_imdb_data_new,on='movieId'), df_imdb_data, on = 'movieId')\n",
    "\n",
    "# Checking the first 5 rows of the dataset\n",
    "imdb.head()"
   ]
  },
  {
   "cell_type": "code",
   "execution_count": null,
   "metadata": {},
   "outputs": [],
   "source": []
  },
  {
   "cell_type": "code",
   "execution_count": null,
   "metadata": {},
   "outputs": [
    {
     "name": "stdout",
     "output_type": "stream",
     "text": [
      "   movieId  userId       title  year  \\\n",
      "0        1  158849  Toy Story   1995   \n",
      "1        1   97203  Toy Story   1995   \n",
      "2        1  161871  Toy Story   1995   \n",
      "3        1   45117  Toy Story   1995   \n",
      "4        1   27431  Toy Story   1995   \n",
      "\n",
      "                                     genres  rating  \n",
      "0  adventure animation child comedy fantasy     5.0  \n",
      "1  adventure animation child comedy fantasy     5.0  \n",
      "2  adventure animation child comedy fantasy     3.0  \n",
      "3  adventure animation child comedy fantasy     4.0  \n",
      "4  adventure animation child comedy fantasy     5.0  \n"
     ]
    }
   ],
   "source": [
    "# Creating new column for movies and their ratings by combining movie dataset and train dataset\n",
    "df_movie_R = pd.merge(movies,df_train,on='movieId', how = 'inner')\n",
    "\n",
    "# Droping the time stamp column from the dataset\n",
    "df_movie_R = df_movie_R.drop('timestamp', axis = 1)\n",
    "\n",
    "# Ordering the columns\n",
    "df_movie_R = df_movie_R[['movieId','userId','title','year','genres','rating']]\n",
    "\n",
    "# Checking first 5 rows of dataset\n",
    "print(df_movie_R.head() )\n",
    "\n"
   ]
  },
  {
   "cell_type": "markdown",
   "metadata": {},
   "source": [
    "### <a id=\"four.five\"></a> 4.5  *Finding the mean rating for each title*"
   ]
  },
  {
   "cell_type": "code",
   "execution_count": null,
   "metadata": {},
   "outputs": [
    {
     "data": {
      "text/plain": [
       "title\n",
       "\"BLOW THE NIGHT!\" Let's Spend the Night Together     3.000000\n",
       "\"Great Performances\" Cats                            2.753731\n",
       "#1 Cheerleader Camp                                  1.900000\n",
       "#Female Pleasure                                     4.000000\n",
       "#FollowMe                                            2.400000\n",
       "                                                       ...   \n",
       "به نام پدر                                           3.250000\n",
       "…And the Fifth Horseman Is Fear                      3.000000\n",
       "チェブラーシカ                                              2.000000\n",
       "貞子3D                                                 2.562500\n",
       "줄탁동시                                                 3.000000\n",
       "Name: rating, Length: 45634, dtype: float64"
      ]
     },
     "execution_count": 128,
     "metadata": {},
     "output_type": "execute_result"
    }
   ],
   "source": [
    "# This would produce means of all the ratings related to a specific title.\n",
    "df_movie_R.groupby('title')['rating'].mean()\n",
    "\n"
   ]
  },
  {
   "cell_type": "code",
   "execution_count": null,
   "metadata": {},
   "outputs": [
    {
     "data": {
      "text/html": [
       "<div>\n",
       "<style scoped>\n",
       "    .dataframe tbody tr th:only-of-type {\n",
       "        vertical-align: middle;\n",
       "    }\n",
       "\n",
       "    .dataframe tbody tr th {\n",
       "        vertical-align: top;\n",
       "    }\n",
       "\n",
       "    .dataframe thead th {\n",
       "        text-align: right;\n",
       "    }\n",
       "</style>\n",
       "<table border=\"1\" class=\"dataframe\">\n",
       "  <thead>\n",
       "    <tr style=\"text-align: right;\">\n",
       "      <th></th>\n",
       "      <th>movieId</th>\n",
       "      <th>userId</th>\n",
       "      <th>title</th>\n",
       "      <th>year</th>\n",
       "      <th>genres</th>\n",
       "      <th>rating</th>\n",
       "    </tr>\n",
       "  </thead>\n",
       "  <tbody>\n",
       "    <tr>\n",
       "      <th>0</th>\n",
       "      <td>1</td>\n",
       "      <td>158849</td>\n",
       "      <td>Toy Story</td>\n",
       "      <td>1995</td>\n",
       "      <td>adventure animation child comedy fantasy</td>\n",
       "      <td>5.0</td>\n",
       "    </tr>\n",
       "    <tr>\n",
       "      <th>3191108</th>\n",
       "      <td>1391</td>\n",
       "      <td>116590</td>\n",
       "      <td>Mars Attacks!</td>\n",
       "      <td>1996</td>\n",
       "      <td>action comedy sci-fi</td>\n",
       "      <td>5.0</td>\n",
       "    </tr>\n",
       "    <tr>\n",
       "      <th>3191124</th>\n",
       "      <td>1391</td>\n",
       "      <td>41027</td>\n",
       "      <td>Mars Attacks!</td>\n",
       "      <td>1996</td>\n",
       "      <td>action comedy sci-fi</td>\n",
       "      <td>5.0</td>\n",
       "    </tr>\n",
       "    <tr>\n",
       "      <th>3191153</th>\n",
       "      <td>1391</td>\n",
       "      <td>73392</td>\n",
       "      <td>Mars Attacks!</td>\n",
       "      <td>1996</td>\n",
       "      <td>action comedy sci-fi</td>\n",
       "      <td>5.0</td>\n",
       "    </tr>\n",
       "    <tr>\n",
       "      <th>3191171</th>\n",
       "      <td>1391</td>\n",
       "      <td>18872</td>\n",
       "      <td>Mars Attacks!</td>\n",
       "      <td>1996</td>\n",
       "      <td>action comedy sci-fi</td>\n",
       "      <td>5.0</td>\n",
       "    </tr>\n",
       "    <tr>\n",
       "      <th>...</th>\n",
       "      <td>...</td>\n",
       "      <td>...</td>\n",
       "      <td>...</td>\n",
       "      <td>...</td>\n",
       "      <td>...</td>\n",
       "      <td>...</td>\n",
       "    </tr>\n",
       "    <tr>\n",
       "      <th>9352827</th>\n",
       "      <td>99912</td>\n",
       "      <td>5848</td>\n",
       "      <td>Mama</td>\n",
       "      <td>2013</td>\n",
       "      <td>horror</td>\n",
       "      <td>0.5</td>\n",
       "    </tr>\n",
       "    <tr>\n",
       "      <th>9352820</th>\n",
       "      <td>99912</td>\n",
       "      <td>112667</td>\n",
       "      <td>Mama</td>\n",
       "      <td>2013</td>\n",
       "      <td>horror</td>\n",
       "      <td>0.5</td>\n",
       "    </tr>\n",
       "    <tr>\n",
       "      <th>6690443</th>\n",
       "      <td>5502</td>\n",
       "      <td>82876</td>\n",
       "      <td>Signs</td>\n",
       "      <td>2002</td>\n",
       "      <td>horror sci-fi thriller</td>\n",
       "      <td>0.5</td>\n",
       "    </tr>\n",
       "    <tr>\n",
       "      <th>490012</th>\n",
       "      <td>168</td>\n",
       "      <td>69798</td>\n",
       "      <td>First Knight</td>\n",
       "      <td>1995</td>\n",
       "      <td>action drama romance</td>\n",
       "      <td>0.5</td>\n",
       "    </tr>\n",
       "    <tr>\n",
       "      <th>7514236</th>\n",
       "      <td>8601</td>\n",
       "      <td>14955</td>\n",
       "      <td>Zero de conduite (Zero for Conduct) (Zéro de conduite: Jeunes diables au collège)</td>\n",
       "      <td>1933</td>\n",
       "      <td>comedy drama</td>\n",
       "      <td>0.5</td>\n",
       "    </tr>\n",
       "  </tbody>\n",
       "</table>\n",
       "<p>10031668 rows × 6 columns</p>\n",
       "</div>"
      ],
      "text/plain": [
       "         movieId  userId  \\\n",
       "0              1  158849   \n",
       "3191108     1391  116590   \n",
       "3191124     1391   41027   \n",
       "3191153     1391   73392   \n",
       "3191171     1391   18872   \n",
       "...          ...     ...   \n",
       "9352827    99912    5848   \n",
       "9352820    99912  112667   \n",
       "6690443     5502   82876   \n",
       "490012       168   69798   \n",
       "7514236     8601   14955   \n",
       "\n",
       "                                                                                      title  \\\n",
       "0                                                                                Toy Story    \n",
       "3191108                                                                      Mars Attacks!    \n",
       "3191124                                                                      Mars Attacks!    \n",
       "3191153                                                                      Mars Attacks!    \n",
       "3191171                                                                      Mars Attacks!    \n",
       "...                                                                                     ...   \n",
       "9352827                                                                               Mama    \n",
       "9352820                                                                               Mama    \n",
       "6690443                                                                              Signs    \n",
       "490012                                                                        First Knight    \n",
       "7514236  Zero de conduite (Zero for Conduct) (Zéro de conduite: Jeunes diables au collège)    \n",
       "\n",
       "         year                                    genres  rating  \n",
       "0        1995  adventure animation child comedy fantasy     5.0  \n",
       "3191108  1996                      action comedy sci-fi     5.0  \n",
       "3191124  1996                      action comedy sci-fi     5.0  \n",
       "3191153  1996                      action comedy sci-fi     5.0  \n",
       "3191171  1996                      action comedy sci-fi     5.0  \n",
       "...       ...                                       ...     ...  \n",
       "9352827  2013                                    horror     0.5  \n",
       "9352820  2013                                    horror     0.5  \n",
       "6690443  2002                    horror sci-fi thriller     0.5  \n",
       "490012   1995                      action drama romance     0.5  \n",
       "7514236  1933                              comedy drama     0.5  \n",
       "\n",
       "[10031668 rows x 6 columns]"
      ]
     },
     "execution_count": 129,
     "metadata": {},
     "output_type": "execute_result"
    }
   ],
   "source": [
    "df_movie_R.sort_values(by= [\"rating\"], ascending=False)"
   ]
  },
  {
   "cell_type": "code",
   "execution_count": null,
   "metadata": {},
   "outputs": [],
   "source": [
    "#the top 5\n",
    "df2 = df_R[:5].copy()\n",
    "\n",
    "\n",
    "\n",
    "#plotting -- for comparison left all countries and right \n",
    "#the others combined\n",
    "fig, axes = plt.subplots(nrows = 1, ncols = 2, figsize = (9,4))\n",
    "df_R.plot(kind = 'pie', y = 'rating', labels = df_R['genres'], ax = axes[0])\n",
    "df2.plot(kind = 'pie', y = 'rating', labels = df2['genres'], ax = axes[1])\n",
    "axes[0].set_title('all genres')\n",
    "axes[1].set_title('top 10')\n",
    "plt.show()"
   ]
  },
  {
   "cell_type": "markdown",
   "metadata": {},
   "source": [
    "### <a id=\"four.six\"></a> 4.6  *Number of people who rated a specific movie*"
   ]
  },
  {
   "cell_type": "code",
   "execution_count": null,
   "metadata": {},
   "outputs": [
    {
     "data": {
      "text/plain": [
       "title\n",
       "Aladdin                        35081\n",
       "Shawshank Redemption, The      32831\n",
       "Forrest Gump                   32383\n",
       "Pulp Fiction                   31697\n",
       "Silence of the Lambs, The      29444\n",
       "                               ...  \n",
       "Moonrunners                        1\n",
       "Moonshine County Express           1\n",
       "Moral Tales, Filmic Issues         1\n",
       "More Than a Secretary              1\n",
       "줄탁동시                               1\n",
       "Name: rating, Length: 45634, dtype: int64"
      ]
     },
     "execution_count": 62,
     "metadata": {},
     "output_type": "execute_result"
    }
   ],
   "source": [
    "# Looking at number of people that gave ratings to a specific movie sorting in ascending order\n",
    "\n",
    "df_movie_R.groupby(by='title')['rating'].count().sort_values(ascending=False)"
   ]
  },
  {
   "cell_type": "code",
   "execution_count": null,
   "metadata": {},
   "outputs": [],
   "source": []
  },
  {
   "cell_type": "markdown",
   "metadata": {},
   "source": [
    "### <a id=\"four.seven\"></a> 4.7  *Creating a dataframe to see visual relationship between mean rating and the number of people who rated it*"
   ]
  },
  {
   "cell_type": "code",
   "execution_count": null,
   "metadata": {},
   "outputs": [
    {
     "data": {
      "text/html": [
       "<div>\n",
       "<style scoped>\n",
       "    .dataframe tbody tr th:only-of-type {\n",
       "        vertical-align: middle;\n",
       "    }\n",
       "\n",
       "    .dataframe tbody tr th {\n",
       "        vertical-align: top;\n",
       "    }\n",
       "\n",
       "    .dataframe thead th {\n",
       "        text-align: right;\n",
       "    }\n",
       "</style>\n",
       "<table border=\"1\" class=\"dataframe\">\n",
       "  <thead>\n",
       "    <tr style=\"text-align: right;\">\n",
       "      <th></th>\n",
       "      <th>rating</th>\n",
       "    </tr>\n",
       "    <tr>\n",
       "      <th>title</th>\n",
       "      <th></th>\n",
       "    </tr>\n",
       "  </thead>\n",
       "  <tbody>\n",
       "    <tr>\n",
       "      <th>\"BLOW THE NIGHT!\" Let's Spend the Night Together</th>\n",
       "      <td>3.000000</td>\n",
       "    </tr>\n",
       "    <tr>\n",
       "      <th>\"Great Performances\" Cats</th>\n",
       "      <td>2.753731</td>\n",
       "    </tr>\n",
       "    <tr>\n",
       "      <th>#1 Cheerleader Camp</th>\n",
       "      <td>1.900000</td>\n",
       "    </tr>\n",
       "    <tr>\n",
       "      <th>#Female Pleasure</th>\n",
       "      <td>4.000000</td>\n",
       "    </tr>\n",
       "    <tr>\n",
       "      <th>#FollowMe</th>\n",
       "      <td>2.400000</td>\n",
       "    </tr>\n",
       "  </tbody>\n",
       "</table>\n",
       "</div>"
      ],
      "text/plain": [
       "                                                     rating\n",
       "title                                                      \n",
       "\"BLOW THE NIGHT!\" Let's Spend the Night Together   3.000000\n",
       "\"Great Performances\" Cats                          2.753731\n",
       "#1 Cheerleader Camp                                1.900000\n",
       "#Female Pleasure                                   4.000000\n",
       "#FollowMe                                          2.400000"
      ]
     },
     "execution_count": 63,
     "metadata": {},
     "output_type": "execute_result"
    }
   ],
   "source": [
    "# Creating a artings dataset\n",
    "\n",
    "rating_data = pd.DataFrame(df_movie_R.groupby(by='title')['rating'].mean())\n",
    "\n",
    "# Looking at first 5 rows of dataset\n",
    "rating_data.head()"
   ]
  },
  {
   "cell_type": "code",
   "execution_count": null,
   "metadata": {},
   "outputs": [
    {
     "data": {
      "text/html": [
       "<div>\n",
       "<style scoped>\n",
       "    .dataframe tbody tr th:only-of-type {\n",
       "        vertical-align: middle;\n",
       "    }\n",
       "\n",
       "    .dataframe tbody tr th {\n",
       "        vertical-align: top;\n",
       "    }\n",
       "\n",
       "    .dataframe thead th {\n",
       "        text-align: right;\n",
       "    }\n",
       "</style>\n",
       "<table border=\"1\" class=\"dataframe\">\n",
       "  <thead>\n",
       "    <tr style=\"text-align: right;\">\n",
       "      <th></th>\n",
       "      <th>rating</th>\n",
       "      <th>No. of people Rated</th>\n",
       "    </tr>\n",
       "    <tr>\n",
       "      <th>title</th>\n",
       "      <th></th>\n",
       "      <th></th>\n",
       "    </tr>\n",
       "  </thead>\n",
       "  <tbody>\n",
       "    <tr>\n",
       "      <th>\"BLOW THE NIGHT!\" Let's Spend the Night Together</th>\n",
       "      <td>3.000000</td>\n",
       "      <td>1</td>\n",
       "    </tr>\n",
       "    <tr>\n",
       "      <th>\"Great Performances\" Cats</th>\n",
       "      <td>2.753731</td>\n",
       "      <td>67</td>\n",
       "    </tr>\n",
       "    <tr>\n",
       "      <th>#1 Cheerleader Camp</th>\n",
       "      <td>1.900000</td>\n",
       "      <td>5</td>\n",
       "    </tr>\n",
       "    <tr>\n",
       "      <th>#Female Pleasure</th>\n",
       "      <td>4.000000</td>\n",
       "      <td>1</td>\n",
       "    </tr>\n",
       "    <tr>\n",
       "      <th>#FollowMe</th>\n",
       "      <td>2.400000</td>\n",
       "      <td>5</td>\n",
       "    </tr>\n",
       "  </tbody>\n",
       "</table>\n",
       "</div>"
      ],
      "text/plain": [
       "                                                     rating  \\\n",
       "title                                                         \n",
       "\"BLOW THE NIGHT!\" Let's Spend the Night Together   3.000000   \n",
       "\"Great Performances\" Cats                          2.753731   \n",
       "#1 Cheerleader Camp                                1.900000   \n",
       "#Female Pleasure                                   4.000000   \n",
       "#FollowMe                                          2.400000   \n",
       "\n",
       "                                                   No. of people Rated  \n",
       "title                                                                   \n",
       "\"BLOW THE NIGHT!\" Let's Spend the Night Together                     1  \n",
       "\"Great Performances\" Cats                                           67  \n",
       "#1 Cheerleader Camp                                                  5  \n",
       "#Female Pleasure                                                     1  \n",
       "#FollowMe                                                            5  "
      ]
     },
     "execution_count": 64,
     "metadata": {},
     "output_type": "execute_result"
    }
   ],
   "source": [
    "# Creating a dataset with count of people who rated movie\n",
    "rating_data['No. of people Rated'] = df_movie_R.groupby(by='title')['rating'].count()\n",
    "\n",
    "# Looking at first 5 rows of dataset\n",
    "rating_data.head()"
   ]
  },
  {
   "cell_type": "markdown",
   "metadata": {},
   "source": [
    "### <a id=\"four.eight\"></a> 4.8  *Looking at number of movies with 5 star reviews and movies with less than 1 star reviews*"
   ]
  },
  {
   "cell_type": "code",
   "execution_count": null,
   "metadata": {},
   "outputs": [
    {
     "name": "stdout",
     "output_type": "stream",
     "text": [
      "The Number of Movies that received 5 Star Reviews : 1449292\n",
      "Percentage of Movies Getting 5 Star Reviews : 0.14%\n"
     ]
    }
   ],
   "source": [
    "#  Number of Movies that got 5 Star Reviews \n",
    "\n",
    "print(\"The Number of Movies that received 5 Star Reviews :\", df_movie_R[df_movie_R['rating'] == 5]['title'].count())\n",
    "print(\"Percentage of Movies Getting 5 Star Reviews : {0:.2f}%\".format((df_movie_R[df_movie_R['rating'] == 5]['title'].count())/(df_movie_R.shape[0])))"
   ]
  },
  {
   "cell_type": "code",
   "execution_count": null,
   "metadata": {},
   "outputs": [
    {
     "name": "stdout",
     "output_type": "stream",
     "text": [
      "\n",
      "The Number of Movies that received less than 1 Star Reviews : 469938\n",
      "The Percentage of Movies Getting Less than 1 Star Reviews : 0.05%\n"
     ]
    }
   ],
   "source": [
    "# Number of Movies that got less than 1 Star Reviews \n",
    "print(\"\\nThe Number of Movies that received less than 1 Star Reviews :\", df_movie_R[df_movie_R['rating'] <= 1]['title'].count())\n",
    "print(\"The Percentage of Movies Getting Less than 1 Star Reviews : {0:.2f}%\".format((\n",
    "    df_movie_R[df_movie_R['rating'] <= 1]['title'].count())/(df_movie_R.shape[0])))"
   ]
  },
  {
   "cell_type": "markdown",
   "metadata": {},
   "source": [
    "### <a id=\"four.nin\"></a> 4.9  *Joint plot showing number of people vs ratings*\n",
    ">This clearly shows that the Movies with ratings in the range of 3 to 4.5 has the most number of ratings. Movies with almost 5 star ratings has around 100 or 200 number of ratings to it."
   ]
  },
  {
   "cell_type": "code",
   "execution_count": null,
   "metadata": {},
   "outputs": [
    {
     "data": {
      "image/png": "[encoded data removed]",
      "text/plain": [
       "<Figure size 432x432 with 3 Axes>"
      ]
     },
     "metadata": {
      "needs_background": "light"
     },
     "output_type": "display_data"
    }
   ],
   "source": [
    "sns.jointplot(x=rating_data['rating'],y=rating_data['No. of people Rated']);"
   ]
  },
  {
   "cell_type": "markdown",
   "metadata": {},
   "source": [
    ">The graph is bell shaped which means that the rating data is normally distributed\n"
   ]
  },
  {
   "cell_type": "code",
   "execution_count": null,
   "metadata": {},
   "outputs": [
    {
     "data": {
      "image/png": "[encoded data removed]",
      "text/plain": [
       "<Figure size 360x360 with 1 Axes>"
      ]
     },
     "metadata": {
      "needs_background": "light"
     },
     "output_type": "display_data"
    }
   ],
   "source": [
    "# lets look at the Distribution of Ratings across the Movies\n",
    "\n",
    "sns.displot(x=rating_data['rating'], color = 'black',kde=True,height=5)\n",
    "plt.title('Distribution of Ratings')\n",
    "plt.grid()"
   ]
  },
  {
   "cell_type": "markdown",
   "metadata": {},
   "source": [
    "### <a id=\"four.ten\"></a> 4.10  *Line Graph showing number of movies released by year*"
   ]
  },
  {
   "cell_type": "code",
   "execution_count": null,
   "metadata": {},
   "outputs": [
    {
     "data": {
      "image/png": "[encoded data removed]",
      "text/plain": [
       "<Figure size 648x504 with 1 Axes>"
      ]
     },
     "metadata": {
      "needs_background": "light"
     },
     "output_type": "display_data"
    }
   ],
   "source": [
    "release = df_movie_R['year'].value_counts()\n",
    "release = release.sort_index(ascending=True)\n",
    "\n",
    "plt.figure(figsize=(9,7))\n",
    "plt.plot(release[-11:-1])\n",
    "#plt.scatter(release[-11:-1].index, release[-11:-1].values, s=0.5*release[-11:-1].values, c='Red');\n",
    "plt.box(on=None);\n",
    "plt.xticks(rotation = 60)\n",
    "plt.xticks(release[-11:-1].index);\n",
    "plt.title('Number of Content Released by Year', fontsize=20)\n",
    "plt.xlabel('year')\n",
    "plt.ylabel('movies released');"
   ]
  },
  {
   "cell_type": "markdown",
   "metadata": {},
   "source": [
    "### <a id=\"four.eleven\"></a> 4.11  *Looking at run times of movies*"
   ]
  },
  {
   "cell_type": "code",
   "execution_count": null,
   "metadata": {},
   "outputs": [],
   "source": [
    "# Looking at the unique valuesof run time of movies\n",
    "df_imdb_data['runtime'].unique()\n",
    "\n",
    "runtimes = []\n",
    "\n",
    "for runtime in df_imdb_data['runtime']:\n",
    "    if runtime < 50:\n",
    "        runtimes.append('Short')\n",
    "    elif runtime < 80:\n",
    "        runtimes.append('Below minimum')\n",
    "    elif runtime < 180:\n",
    "        runtimes.append('Feature-length')\n",
    "    elif runtime < 300:\n",
    "        runtimes.append('Long')\n",
    "    elif runtime >= 300:\n",
    "        runtimes.append('VLMS')\n",
    "    else:\n",
    "        runtimes.append('No Info')\n",
    "        \n",
    "df_imdb_data['feature_length'] = runtimes\n",
    "\n",
    "\n"
   ]
  },
  {
   "cell_type": "code",
   "execution_count": null,
   "metadata": {},
   "outputs": [
    {
     "data": {
      "text/plain": [
       "(array([0, 1, 2, 3, 4]),\n",
       " [Text(0, 0, 'Feature-length'),\n",
       "  Text(1, 0, 'Long'),\n",
       "  Text(2, 0, 'Below minimum'),\n",
       "  Text(3, 0, 'VLMS'),\n",
       "  Text(4, 0, 'Short')])"
      ]
     },
     "execution_count": 71,
     "metadata": {},
     "output_type": "execute_result"
    },
    {
     "data": {
      "image/png": "[encoded data removed]",
      "text/plain": [
       "<Figure size 432x288 with 1 Axes>"
      ]
     },
     "metadata": {
      "needs_background": "light"
     },
     "output_type": "display_data"
    }
   ],
   "source": [
    "sns.countplot(df_imdb_data['feature_length'], palette='rainbow')\n",
    "plt.xticks(rotation=45)"
   ]
  },
  {
   "cell_type": "markdown",
   "metadata": {},
   "source": [
    "### <a id=\"four.twelve\"></a> 4.12  *Distribution of run time for feature length films*"
   ]
  },
  {
   "cell_type": "code",
   "execution_count": null,
   "metadata": {},
   "outputs": [
    {
     "data": {
      "text/plain": [
       "Text(0.5, 0, 'Runtime in Minutes')"
      ]
     },
     "execution_count": 72,
     "metadata": {},
     "output_type": "execute_result"
    },
    {
     "data": {
      "image/png": "[encoded data removed]",
      "text/plain": [
       "<Figure size 432x288 with 1 Axes>"
      ]
     },
     "metadata": {
      "needs_background": "light"
     },
     "output_type": "display_data"
    }
   ],
   "source": [
    "feature_length = df_imdb_data[df_imdb_data['feature_length'] == 'Feature-length']\n",
    "\n",
    "plt.hist(feature_length['runtime'])\n",
    "plt.axvline((feature_length['runtime'].median()), color='k', dashes=[5,5] , linewidth=1) #Create reference line\n",
    "plt.title('Distribution of Runtime for Feature-Length Films')\n",
    "plt.xlabel('Runtime in Minutes')"
   ]
  },
  {
   "cell_type": "markdown",
   "metadata": {},
   "source": [
    "<a id=\"five\"></a>\n",
    "\n",
    "# **5. Modelling**\n",
    "<a class=\"anchor\" id=\"1.1\"></a>\n",
    "<a href=#cont>Back to Table of Contents</a>\n",
    "\n",
    "---\n",
    "    \n",
    "| *Description: Modelling*  |\n",
    "| :--------------------------- |\n",
    "| \n",
    ">In this section models will be built,namley: . |\n",
    "\n",
    "---"
   ]
  },
  {
   "cell_type": "code",
   "execution_count": null,
   "metadata": {},
   "outputs": [],
   "source": [
    "# Load the 100k dataset\n",
    "df_train_c =df_train.copy()\n",
    "df_train_c.drop('timestamp', axis=1, inplace=True)\n",
    "train_subset = df_train_c[:100000]\n",
    "reader = Reader(rating_scale=(train_subset['rating'].min(), train_subset['rating'].max()))\n",
    "data = Dataset.load_from_df(train_subset[['userId', 'movieId', 'rating']], reader)\n",
    "trainset, testset = train_test_split(data, test_size=.25, random_state=42)"
   ]
  },
  {
   "cell_type": "code",
   "execution_count": null,
   "metadata": {},
   "outputs": [
    {
     "name": "stdout",
     "output_type": "stream",
     "text": [
      "RMSE: 0.9746\n"
     ]
    }
   ],
   "source": [
    "svd = SVD(n_epochs = 30, n_factors = 200, init_std_dev = 0.05, random_state=42)\n",
    "svd.fit(trainset)\n",
    "predictions = svd.test(testset)\n",
    "# Calculate RMSE\n",
    "svd_rmse = accuracy.rmse(predictions)"
   ]
  },
  {
   "cell_type": "code",
   "execution_count": null,
   "metadata": {},
   "outputs": [
    {
     "name": "stdout",
     "output_type": "stream",
     "text": [
      "RMSE: 1.4477\n"
     ]
    }
   ],
   "source": [
    "np_test = NormalPredictor()\n",
    "np_test.fit(trainset)\n",
    "predictions = np_test.test(testset)\n",
    "# Calculate RMSE\n",
    "np_rmse = accuracy.rmse(predictions)"
   ]
  },
  {
   "cell_type": "code",
   "execution_count": null,
   "metadata": {},
   "outputs": [],
   "source": [
    "# Create Kaggle submission file\n",
    "\n",
    "predictions = []\n",
    "for i, row in df_test.iterrows():\n",
    "    x = (svd.predict(row.userId, row.movieId))\n",
    "    pred = x[3]\n",
    "    predictions.append(pred)\n",
    "df_test['Id'] = df_test['userId'].map(str) +'_'+ df_test['movieId'].map(str)\n",
    "results = pd.DataFrame({\"Id\":df_test['Id'],\"rating\": predictions})\n",
    "results.to_csv(\"Team_ES2_submission.csv\", index=False)"
   ]
  },
  {
   "cell_type": "markdown",
   "metadata": {},
   "source": [
    "<a id=\"six\"></a>\n",
    "\n",
    "# **6.Model Performance**\n",
    "<a class=\"anchor\" id=\"1.1\"></a>\n",
    "<a href=#cont>Back to Table of Contents</a>\n",
    "\n",
    "---\n",
    "    \n",
    "| *Description: Model performance* |\n",
    "| :--------------------------- |\n",
    "| \n",
    ">In this section the models that were built will be compared relative to their performance and the best model will be selected. |\n",
    "\n",
    "---"
   ]
  },
  {
   "cell_type": "markdown",
   "metadata": {},
   "source": [
    "<a id=\"seven\"></a>\n",
    "\n",
    "# **7. Model Explanation**\n",
    "<a class=\"anchor\" id=\"1.1\"></a>\n",
    "<a href=#cont>Back to Table of Contents</a>\n",
    "\n",
    "---\n",
    "    \n",
    "|  *Description: Model explanation*  |\n",
    "| :--------------------------- |\n",
    "| \n",
    ">A brief explanation is given of which model preformed the best\n",
    "---\n",
    "\n",
    "![](https://imageio.forbes.com/specials-images/dam/imageserve/966248982/660x0.jpg?format=jpg&width=960)"
   ]
  },
  {
   "cell_type": "markdown",
   "metadata": {},
   "source": [
    "### <a id=\"seven.one\"></a> 7.1 *Best Performing Model:*"
   ]
  },
  {
   "cell_type": "markdown",
   "metadata": {},
   "source": [
    "### <a id=\"seven.two\"></a> 7.2 *Conclusion*"
   ]
  },
  {
   "cell_type": "markdown",
   "metadata": {},
   "source": [
    "### <a id=\"seven.three\"></a> 7.3 *Refrence list*"
   ]
  }
 ],
 "metadata": {
  "kernelspec": {
   "display_name": "Python 3.9.12 ('base')",
   "language": "python",
   "name": "python3"
  },
  "language_info": {
   "codemirror_mode": {
    "name": "ipython",
    "version": 3
   },
   "file_extension": ".py",
   "mimetype": "text/x-python",
   "name": "python",
   "nbconvert_exporter": "python",
   "pygments_lexer": "ipython3",
   "version": "3.9.12"
  },
  "orig_nbformat": 4,
  "vscode": {
   "interpreter": {
    "hash": "ca2bc8e3f39d2931ba3f946aae372e8bb6c1cec41de64bd0d3a80050e300b4f2"
   }
  }
 },
 "nbformat": 4,
 "nbformat_minor": 2
}
