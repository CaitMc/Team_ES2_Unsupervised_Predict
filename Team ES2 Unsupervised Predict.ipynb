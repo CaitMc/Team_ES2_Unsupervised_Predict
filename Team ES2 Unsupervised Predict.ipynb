{
 "cells": [
  {
   "cell_type": "markdown",
   "metadata": {},
   "source": [
    "# **Overview: Movie Recommendation** \n",
    "\n",
    "![](https://about.netflix.com/images/meta/netflix-symbol-black.png)"
   ]
  },
  {
   "cell_type": "markdown",
   "metadata": {},
   "source": [
    "#### In today’s technology driven world, recommender systems are socially and economically critical for ensuring that individuals can make appropriate choices surrounding the content they engage with on a daily basis. One application where this is especially true surrounds movie content recommendations; where intelligent algorithms can help viewers find great titles from tens of thousands of options.…ever wondered how Netflix, Amazon Prime, Showmax, Disney and the likes somehow know what to recommend to you?\n",
    "\n",
    "#### …it's not just a guess drawn out of the hat. There is an algorithm behind it.\n"
   ]
  },
  {
   "cell_type": "markdown",
   "metadata": {},
   "source": [
    "# **Problem Statement**"
   ]
  },
  {
   "cell_type": "markdown",
   "metadata": {},
   "source": [
    "#### With this context, EDSA is challenging you to construct a recommendation algorithm based on content or collaborative filtering, capable of accurately predicting how a user will rate a movie they have not yet viewed based on their historical preferences.\n",
    "\n",
    "#### What value is achieved through building a functional recommender system?Providing an accurate and robust solution to this challenge has immense economic potential, with users of the system being exposed to content they would like to view or purchase - generating revenue and platform affinity.\n",
    "\n",
    "\n",
    "#### This dataset consists of several million 5-star ratings obtained from users of the online MovieLens movie recommendation service. The MovieLens dataset has long been used by industry and academic researchers to improve the performance of explicitly-based recommender systems, and now you get to as well!\n",
    "\n",
    "#### For this Predict, we'll be using a special version of the MovieLens dataset which has enriched with additional data, and resampled for fair evaluation purposes."
   ]
  },
  {
   "cell_type": "markdown",
   "metadata": {},
   "source": [
    "<a id=\"cont\"></a>\n",
    "\n",
    "# **Table of Contents**\n",
    "\n",
    "<details>\n",
    "<summary><a href=#one>1. Importing Packages</a></summary>\n",
    "<br>\n",
    "<a href=#one.one>1.1 Importing python packages that will be used in the notebook </a>\n",
    "</details>\n",
    "\n",
    "<br>\n",
    "\n",
    "<details>\n",
    "<summary><a href=#two>2. Loading Data</a></summary>\n",
    "<br>\n",
    "<a href=#two.one>2.1 Loading the Train and Test datasets</a>\n",
    "</details>\n",
    "\n",
    "<br>\n",
    "\n",
    "<details>\n",
    "<summary><a href=#three>3. Exploratory Data Analysis (EDA)</a></summary>\n",
    "<br>\n",
    "<a href=#three.one>3.1 Why is EDA important?</a>\n",
    "<br>\n",
    "<a href=#three.two>3.2 Pandas profiling model</a>\n",
    "<br>\n",
    "<a href=#three.three>3.3 Generating a word cloud</a>\n",
    "<br>\n",
    "<a href=#three.four>3.4 Looking at the data types of the Train and Test datasets</a>\n",
    "<br>\n",
    "<a href=#three.five>3.5 Looking for null values in the Train and Test datasets</a>\n",
    "<br>\n",
    "<a href=#three.six>3.6 Investigating the distribution of categorical values</a>\n",
    "<br>\n",
    "<a href=#three.seven> 3.7  Hashtags for each sentiment</a>\n",
    "</details>\n",
    "\n",
    "<br>\n",
    "\n",
    "<details>\n",
    "<summary><a href=#four>4. Data Engineering</a></summary>\n",
    "<br>\n",
    "<a href=#four.one>4.1 A copy of each dataset </a>\n",
    "<br>\n",
    "<a href=#four.two>4.2 Function to make all text lowercase </a>\n",
    "<br>\n",
    "<a href=#four.three>4.3 Function to remove URLs </a>\n",
    "<br>\n",
    "<a href=#four.four>4.4 Removing special characters </a>\n",
    "<br>\n",
    "<a href=#four.five>4.5 Removing punctuation </a>\n",
    "<br>\n",
    "<a href=#four.six>4.6 Removing digits</a>\n",
    "<br>\n",
    "<a href=#four.seven>4.7 Removing stopwords </a>\n",
    "<br>\n",
    "<a href=#four.eight>4.8 Tokenization </a>\n",
    "<br>\n",
    "<a href=#four.nine>4.9 Lemmatization </a>\n",
    "<br>\n",
    "<a href=#four.ten>4.10 Datasets after cleaning </a>\n",
    "<br>\n",
    "<a href=#four.eleven>4.11 Analysis of data after cleaning </a>\n",
    "</details>\n",
    "\n",
    "<br>\n",
    "\n",
    "<details>\n",
    "<summary><a href=#four>5. Modeling</a></summary>\n",
    "<br>\n",
    "<a href=#five.one>5.1 Splitting the x variable from the tartget variable </a>\n",
    "<br>\n",
    "<a href=#five.two>5.2 Turning text into something the model can read </a>\n",
    "<br>\n",
    "<a href=#five.three>5.3 Splitting the data into Train and validation set </a>\n",
    "<br>\n",
    "<a href=#four.four>4.4 Training the model and evaluating the model with the validation set </a>\n",
    "<br>\n",
    "<a href=#five.five>5.5 Logistic Regression model </a>\n",
    "<br>\n",
    "<a href=#five.six>5.6 Random Forest model </a>\n",
    "<br>\n",
    "<a href=#five.seven>5.7 Naive model</a>\n",
    "<br>\n",
    "<a href=#five.eight>5.8 SVC model </a>\n",
    "<br>\n",
    "<a href=#five.nine>5.9 KNN model </a>\n",
    "<br>\n",
    "<a href=#five.ten>5.10 Test set preperation and saving the best model </a>\n",
    "<br>\n",
    "<a href=#five.eleven>5.11 Test predicitions </a>\n",
    "<br>\n",
    "<a href=#five.twelve>5.12 CSV conversion </a>\n",
    "</details>\n",
    "\n",
    "<br>\n",
    "\n",
    "<details>\n",
    "<summary><a href=#six>6. Model performance</a></summary>\n",
    "<br>\n",
    "<a href=#six.one>6.1 What is performance analysis in machine learning</a>\n",
    "<br>\n",
    "<a href=#six.two>6.2 Evaluation of model</a>\n",
    "<br>\n",
    "<a href=#six.three>6.3 Assesment of the F-1 score according to both Train and Test sets </a>\n",
    "<br>\n",
    "<a href=#six.four>6.4 Analysing the dataframe</a>\n",
    "<br>\n",
    "<a href=#six.five>6.5 Plotting the F-1 Test performance from the Test data </a>\n",
    "<br>\n",
    "<a href=#six.six>6.6 Confusion matrix of the various models </a>\n",
    "</details>\n",
    "\n",
    "<br>\n",
    "\n",
    "<details>\n",
    "<summary><a href=#six>7. Model Explanations</a></summary>\n",
    "<br>\n",
    "<a href=#seven.one>7.1 Best performing model</a>\n",
    "<br>\n",
    "<a href=#seven.two>7.2 Conclusion</a>"
   ]
  },
  {
   "cell_type": "markdown",
   "metadata": {},
   "source": [
    " \n",
    " <a id=\"one\"></a>\n",
    " \n",
    " # **1.Importing Packages**\n",
    "<a href=#cont>Back to Table of Contents</a>\n",
    "\n",
    "---\n",
    "    \n",
    "| *Description: Importing Packages*|\n",
    "| :--------------------------- |\n",
    ">In this section all the packages that may be needed during our analysis and the libraries that will be used throughout the analysis and modelling will be imported. \n",
    " |\n",
    "\n",
    "---"
   ]
  },
  {
   "cell_type": "markdown",
   "metadata": {},
   "source": [
    "### <a id=\"one.one\"></a>1.1 *Importing python packages that will be used in the notebook.*"
   ]
  },
  {
   "cell_type": "code",
   "execution_count": 35,
   "metadata": {},
   "outputs": [
    {
     "name": "stderr",
     "output_type": "stream",
     "text": [
      "[nltk_data] Downloading package punkt to C:\\Users\\PULENG\n",
      "[nltk_data]     MLANGENI\\AppData\\Roaming\\nltk_data...\n",
      "[nltk_data]   Package punkt is already up-to-date!\n",
      "[nltk_data] Downloading package stopwords to C:\\Users\\PULENG\n",
      "[nltk_data]     MLANGENI\\AppData\\Roaming\\nltk_data...\n",
      "[nltk_data]   Package stopwords is already up-to-date!\n",
      "[nltk_data] Downloading package wordnet to C:\\Users\\PULENG\n",
      "[nltk_data]     MLANGENI\\AppData\\Roaming\\nltk_data...\n",
      "[nltk_data]   Package wordnet is already up-to-date!\n"
     ]
    }
   ],
   "source": [
    "# Libraries for data loading, data manipulation and data visulisation\n",
    "import warnings\n",
    "import numpy as np\n",
    "import pandas as pd\n",
    "import seaborn as sns\n",
    "import matplotlib.pyplot as plt\n",
    "from mpl_toolkits.mplot3d import Axes3D\n",
    "from IPython.display import Image, HTML\n",
    "import json\n",
    "import datetime\n",
    "\n",
    "import nltk\n",
    "nltk.download([\"punkt\",\"stopwords\",\"wordnet\"])\n",
    "from nltk.stem import WordNetLemmatizer\n",
    "from wordcloud import WordCloud, STOPWORDS\n",
    "import re\n",
    "pd.set_option('display.max_rows', 1000)\n",
    "pd.set_option('Max_colwidth', 400)\n",
    "\n",
    "# suppress cell warnings\n",
    "warnings.filterwarnings(\"ignore\")\n",
    "\n",
    "# Setting global constants to ensure notebook results are reproducible\n",
    "# PARAMETER_CONSTANT = ###"
   ]
  },
  {
   "cell_type": "markdown",
   "metadata": {},
   "source": [
    "<a id=\"two\"></a>\n",
    "\n",
    " # **2. Loading the Data**\n",
    "<a class=\"anchor\" id=\"1.1\"></a>\n",
    "<a href=#cont>Back to Table of Contents</a>\n",
    "\n",
    "---\n",
    "    \n",
    "| *Description: Loading the data*  |\n",
    "| :--------------------------- |\n",
    "|\n",
    ">In this section the  `train.csv` and `test_with_no_lable.csv` will be loaded into the notebook.\n",
    " |"
   ]
  },
  {
   "cell_type": "markdown",
   "metadata": {},
   "source": [
    "### <a id=\"two.one\"></a> 2.1 *Loading the Train and Test datasets.*"
   ]
  },
  {
   "cell_type": "code",
   "execution_count": 4,
   "metadata": {},
   "outputs": [],
   "source": [
    "df_train = pd.read_csv(\"train.csv\")\n",
    "df_test = pd.read_csv(\"test.csv\")\n",
    "df_genome_tags = pd.read_csv(\"genome_tags.csv\")\n",
    "df_genome_score = pd.read_csv('genome_scores.csv')\n",
    "df_imdb = pd.read_csv(\"imdb_data.csv\")\n",
    "df_links = pd.read_csv(\"links.csv\")\n",
    "df_movies  = pd.read_csv('movies.csv')\n",
    "df_tags  = pd.read_csv('tags.csv')"
   ]
  },
  {
   "cell_type": "markdown",
   "metadata": {},
   "source": [
    "<a id=\"three\"></a>\n",
    "\n",
    "# **3. Data Preprocessing**\n",
    "<a class=\"anchor\" id=\"1.1\"></a>\n",
    "<a href=#cont>Back to Table of Contents</a>\n"
   ]
  },
  {
   "cell_type": "code",
   "execution_count": 3,
   "metadata": {
    "scrolled": true
   },
   "outputs": [
    {
     "data": {
      "text/html": [
       "<div>\n",
       "<style scoped>\n",
       "    .dataframe tbody tr th:only-of-type {\n",
       "        vertical-align: middle;\n",
       "    }\n",
       "\n",
       "    .dataframe tbody tr th {\n",
       "        vertical-align: top;\n",
       "    }\n",
       "\n",
       "    .dataframe thead th {\n",
       "        text-align: right;\n",
       "    }\n",
       "</style>\n",
       "<table border=\"1\" class=\"dataframe\">\n",
       "  <thead>\n",
       "    <tr style=\"text-align: right;\">\n",
       "      <th></th>\n",
       "      <th>userId</th>\n",
       "      <th>movieId</th>\n",
       "      <th>rating</th>\n",
       "      <th>timestamp</th>\n",
       "    </tr>\n",
       "  </thead>\n",
       "  <tbody>\n",
       "    <tr>\n",
       "      <th>0</th>\n",
       "      <td>5163</td>\n",
       "      <td>57669</td>\n",
       "      <td>4.0</td>\n",
       "      <td>1518349992</td>\n",
       "    </tr>\n",
       "    <tr>\n",
       "      <th>1</th>\n",
       "      <td>106343</td>\n",
       "      <td>5</td>\n",
       "      <td>4.5</td>\n",
       "      <td>1206238739</td>\n",
       "    </tr>\n",
       "    <tr>\n",
       "      <th>2</th>\n",
       "      <td>146790</td>\n",
       "      <td>5459</td>\n",
       "      <td>5.0</td>\n",
       "      <td>1076215539</td>\n",
       "    </tr>\n",
       "    <tr>\n",
       "      <th>3</th>\n",
       "      <td>106362</td>\n",
       "      <td>32296</td>\n",
       "      <td>2.0</td>\n",
       "      <td>1423042565</td>\n",
       "    </tr>\n",
       "    <tr>\n",
       "      <th>4</th>\n",
       "      <td>9041</td>\n",
       "      <td>366</td>\n",
       "      <td>3.0</td>\n",
       "      <td>833375837</td>\n",
       "    </tr>\n",
       "  </tbody>\n",
       "</table>\n",
       "</div>"
      ],
      "text/plain": [
       "   userId  movieId  rating   timestamp\n",
       "0    5163    57669     4.0  1518349992\n",
       "1  106343        5     4.5  1206238739\n",
       "2  146790     5459     5.0  1076215539\n",
       "3  106362    32296     2.0  1423042565\n",
       "4    9041      366     3.0   833375837"
      ]
     },
     "execution_count": 3,
     "metadata": {},
     "output_type": "execute_result"
    }
   ],
   "source": [
    "df_train.head() "
   ]
  },
  {
   "cell_type": "code",
   "execution_count": 4,
   "metadata": {},
   "outputs": [
    {
     "data": {
      "text/plain": [
       "userId       0\n",
       "movieId      0\n",
       "rating       0\n",
       "timestamp    0\n",
       "dtype: int64"
      ]
     },
     "execution_count": 4,
     "metadata": {},
     "output_type": "execute_result"
    }
   ],
   "source": [
    "df_train.isnull().sum()"
   ]
  },
  {
   "cell_type": "code",
   "execution_count": 5,
   "metadata": {
    "scrolled": false
   },
   "outputs": [
    {
     "data": {
      "text/html": [
       "<div>\n",
       "<style scoped>\n",
       "    .dataframe tbody tr th:only-of-type {\n",
       "        vertical-align: middle;\n",
       "    }\n",
       "\n",
       "    .dataframe tbody tr th {\n",
       "        vertical-align: top;\n",
       "    }\n",
       "\n",
       "    .dataframe thead th {\n",
       "        text-align: right;\n",
       "    }\n",
       "</style>\n",
       "<table border=\"1\" class=\"dataframe\">\n",
       "  <thead>\n",
       "    <tr style=\"text-align: right;\">\n",
       "      <th></th>\n",
       "      <th>movieId</th>\n",
       "      <th>title</th>\n",
       "      <th>genres</th>\n",
       "    </tr>\n",
       "  </thead>\n",
       "  <tbody>\n",
       "    <tr>\n",
       "      <th>0</th>\n",
       "      <td>1</td>\n",
       "      <td>Toy Story (1995)</td>\n",
       "      <td>Adventure|Animation|Children|Comedy|Fantasy</td>\n",
       "    </tr>\n",
       "    <tr>\n",
       "      <th>1</th>\n",
       "      <td>2</td>\n",
       "      <td>Jumanji (1995)</td>\n",
       "      <td>Adventure|Children|Fantasy</td>\n",
       "    </tr>\n",
       "    <tr>\n",
       "      <th>2</th>\n",
       "      <td>3</td>\n",
       "      <td>Grumpier Old Men (1995)</td>\n",
       "      <td>Comedy|Romance</td>\n",
       "    </tr>\n",
       "    <tr>\n",
       "      <th>3</th>\n",
       "      <td>4</td>\n",
       "      <td>Waiting to Exhale (1995)</td>\n",
       "      <td>Comedy|Drama|Romance</td>\n",
       "    </tr>\n",
       "    <tr>\n",
       "      <th>4</th>\n",
       "      <td>5</td>\n",
       "      <td>Father of the Bride Part II (1995)</td>\n",
       "      <td>Comedy</td>\n",
       "    </tr>\n",
       "  </tbody>\n",
       "</table>\n",
       "</div>"
      ],
      "text/plain": [
       "   movieId                               title  \\\n",
       "0        1                    Toy Story (1995)   \n",
       "1        2                      Jumanji (1995)   \n",
       "2        3             Grumpier Old Men (1995)   \n",
       "3        4            Waiting to Exhale (1995)   \n",
       "4        5  Father of the Bride Part II (1995)   \n",
       "\n",
       "                                        genres  \n",
       "0  Adventure|Animation|Children|Comedy|Fantasy  \n",
       "1                   Adventure|Children|Fantasy  \n",
       "2                               Comedy|Romance  \n",
       "3                         Comedy|Drama|Romance  \n",
       "4                                       Comedy  "
      ]
     },
     "execution_count": 5,
     "metadata": {},
     "output_type": "execute_result"
    }
   ],
   "source": [
    "df_movies.head()"
   ]
  },
  {
   "cell_type": "code",
   "execution_count": 5,
   "metadata": {},
   "outputs": [],
   "source": [
    "lemmatizer = WordNetLemmatizer()\n",
    "genres = df_movies[\"genres\"]\n",
    "li=[]\n",
    "for i in range(len(genres)):\n",
    "    temp = genres[i].lower()\n",
    "    temp = temp.split(\"|\")\n",
    "    temp = [lemmatizer.lemmatize(word) for word in temp]\n",
    "    li.append(\" \".join(temp))"
   ]
  },
  {
   "cell_type": "code",
   "execution_count": 6,
   "metadata": {},
   "outputs": [],
   "source": [
    "df_movies_data = pd.DataFrame(li,columns=[\"genres\"],index=df_movies[\"title\"])"
   ]
  },
  {
   "cell_type": "code",
   "execution_count": 7,
   "metadata": {
    "scrolled": true
   },
   "outputs": [
    {
     "data": {
      "text/html": [
       "<div>\n",
       "<style scoped>\n",
       "    .dataframe tbody tr th:only-of-type {\n",
       "        vertical-align: middle;\n",
       "    }\n",
       "\n",
       "    .dataframe tbody tr th {\n",
       "        vertical-align: top;\n",
       "    }\n",
       "\n",
       "    .dataframe thead th {\n",
       "        text-align: right;\n",
       "    }\n",
       "</style>\n",
       "<table border=\"1\" class=\"dataframe\">\n",
       "  <thead>\n",
       "    <tr style=\"text-align: right;\">\n",
       "      <th></th>\n",
       "      <th>genres</th>\n",
       "    </tr>\n",
       "    <tr>\n",
       "      <th>title</th>\n",
       "      <th></th>\n",
       "    </tr>\n",
       "  </thead>\n",
       "  <tbody>\n",
       "    <tr>\n",
       "      <th>Toy Story (1995)</th>\n",
       "      <td>adventure animation child comedy fantasy</td>\n",
       "    </tr>\n",
       "    <tr>\n",
       "      <th>Jumanji (1995)</th>\n",
       "      <td>adventure child fantasy</td>\n",
       "    </tr>\n",
       "    <tr>\n",
       "      <th>Grumpier Old Men (1995)</th>\n",
       "      <td>comedy romance</td>\n",
       "    </tr>\n",
       "    <tr>\n",
       "      <th>Waiting to Exhale (1995)</th>\n",
       "      <td>comedy drama romance</td>\n",
       "    </tr>\n",
       "    <tr>\n",
       "      <th>Father of the Bride Part II (1995)</th>\n",
       "      <td>comedy</td>\n",
       "    </tr>\n",
       "  </tbody>\n",
       "</table>\n",
       "</div>"
      ],
      "text/plain": [
       "                                                                      genres\n",
       "title                                                                       \n",
       "Toy Story (1995)                    adventure animation child comedy fantasy\n",
       "Jumanji (1995)                                       adventure child fantasy\n",
       "Grumpier Old Men (1995)                                       comedy romance\n",
       "Waiting to Exhale (1995)                                comedy drama romance\n",
       "Father of the Bride Part II (1995)                                    comedy"
      ]
     },
     "execution_count": 7,
     "metadata": {},
     "output_type": "execute_result"
    }
   ],
   "source": [
    "df_movies_data.head()"
   ]
  },
  {
   "cell_type": "code",
   "execution_count": 8,
   "metadata": {},
   "outputs": [],
   "source": [
    "df_movies = df_movies.drop('genres',axis=1)"
   ]
  },
  {
   "cell_type": "code",
   "execution_count": 9,
   "metadata": {},
   "outputs": [],
   "source": [
    "movies = pd.merge(df_movies,df_movies_data,on='title', how = 'inner')"
   ]
  },
  {
   "cell_type": "code",
   "execution_count": 10,
   "metadata": {},
   "outputs": [
    {
     "data": {
      "text/html": [
       "<div>\n",
       "<style scoped>\n",
       "    .dataframe tbody tr th:only-of-type {\n",
       "        vertical-align: middle;\n",
       "    }\n",
       "\n",
       "    .dataframe tbody tr th {\n",
       "        vertical-align: top;\n",
       "    }\n",
       "\n",
       "    .dataframe thead th {\n",
       "        text-align: right;\n",
       "    }\n",
       "</style>\n",
       "<table border=\"1\" class=\"dataframe\">\n",
       "  <thead>\n",
       "    <tr style=\"text-align: right;\">\n",
       "      <th></th>\n",
       "      <th>movieId</th>\n",
       "      <th>title</th>\n",
       "      <th>genres</th>\n",
       "    </tr>\n",
       "  </thead>\n",
       "  <tbody>\n",
       "    <tr>\n",
       "      <th>0</th>\n",
       "      <td>1</td>\n",
       "      <td>Toy Story (1995)</td>\n",
       "      <td>adventure animation child comedy fantasy</td>\n",
       "    </tr>\n",
       "    <tr>\n",
       "      <th>1</th>\n",
       "      <td>2</td>\n",
       "      <td>Jumanji (1995)</td>\n",
       "      <td>adventure child fantasy</td>\n",
       "    </tr>\n",
       "    <tr>\n",
       "      <th>2</th>\n",
       "      <td>3</td>\n",
       "      <td>Grumpier Old Men (1995)</td>\n",
       "      <td>comedy romance</td>\n",
       "    </tr>\n",
       "    <tr>\n",
       "      <th>3</th>\n",
       "      <td>4</td>\n",
       "      <td>Waiting to Exhale (1995)</td>\n",
       "      <td>comedy drama romance</td>\n",
       "    </tr>\n",
       "    <tr>\n",
       "      <th>4</th>\n",
       "      <td>5</td>\n",
       "      <td>Father of the Bride Part II (1995)</td>\n",
       "      <td>comedy</td>\n",
       "    </tr>\n",
       "  </tbody>\n",
       "</table>\n",
       "</div>"
      ],
      "text/plain": [
       "   movieId                               title  \\\n",
       "0        1                    Toy Story (1995)   \n",
       "1        2                      Jumanji (1995)   \n",
       "2        3             Grumpier Old Men (1995)   \n",
       "3        4            Waiting to Exhale (1995)   \n",
       "4        5  Father of the Bride Part II (1995)   \n",
       "\n",
       "                                     genres  \n",
       "0  adventure animation child comedy fantasy  \n",
       "1                   adventure child fantasy  \n",
       "2                            comedy romance  \n",
       "3                      comedy drama romance  \n",
       "4                                    comedy  "
      ]
     },
     "execution_count": 10,
     "metadata": {},
     "output_type": "execute_result"
    }
   ],
   "source": [
    "movies.head()"
   ]
  },
  {
   "cell_type": "code",
   "execution_count": 11,
   "metadata": {},
   "outputs": [],
   "source": [
    "df_movie_R = pd.merge(movies,df_train,on='movieId', how = 'inner')"
   ]
  },
  {
   "cell_type": "code",
   "execution_count": 12,
   "metadata": {
    "scrolled": true
   },
   "outputs": [
    {
     "data": {
      "text/html": [
       "<div>\n",
       "<style scoped>\n",
       "    .dataframe tbody tr th:only-of-type {\n",
       "        vertical-align: middle;\n",
       "    }\n",
       "\n",
       "    .dataframe tbody tr th {\n",
       "        vertical-align: top;\n",
       "    }\n",
       "\n",
       "    .dataframe thead th {\n",
       "        text-align: right;\n",
       "    }\n",
       "</style>\n",
       "<table border=\"1\" class=\"dataframe\">\n",
       "  <thead>\n",
       "    <tr style=\"text-align: right;\">\n",
       "      <th></th>\n",
       "      <th>movieId</th>\n",
       "      <th>title</th>\n",
       "      <th>genres</th>\n",
       "      <th>userId</th>\n",
       "      <th>rating</th>\n",
       "      <th>timestamp</th>\n",
       "    </tr>\n",
       "  </thead>\n",
       "  <tbody>\n",
       "    <tr>\n",
       "      <th>0</th>\n",
       "      <td>1</td>\n",
       "      <td>Toy Story (1995)</td>\n",
       "      <td>adventure animation child comedy fantasy</td>\n",
       "      <td>158849</td>\n",
       "      <td>5.0</td>\n",
       "      <td>994716786</td>\n",
       "    </tr>\n",
       "    <tr>\n",
       "      <th>1</th>\n",
       "      <td>1</td>\n",
       "      <td>Toy Story (1995)</td>\n",
       "      <td>adventure animation child comedy fantasy</td>\n",
       "      <td>97203</td>\n",
       "      <td>5.0</td>\n",
       "      <td>942683155</td>\n",
       "    </tr>\n",
       "    <tr>\n",
       "      <th>2</th>\n",
       "      <td>1</td>\n",
       "      <td>Toy Story (1995)</td>\n",
       "      <td>adventure animation child comedy fantasy</td>\n",
       "      <td>161871</td>\n",
       "      <td>3.0</td>\n",
       "      <td>833104576</td>\n",
       "    </tr>\n",
       "    <tr>\n",
       "      <th>3</th>\n",
       "      <td>1</td>\n",
       "      <td>Toy Story (1995)</td>\n",
       "      <td>adventure animation child comedy fantasy</td>\n",
       "      <td>45117</td>\n",
       "      <td>4.0</td>\n",
       "      <td>1442256969</td>\n",
       "    </tr>\n",
       "    <tr>\n",
       "      <th>4</th>\n",
       "      <td>1</td>\n",
       "      <td>Toy Story (1995)</td>\n",
       "      <td>adventure animation child comedy fantasy</td>\n",
       "      <td>27431</td>\n",
       "      <td>5.0</td>\n",
       "      <td>849667827</td>\n",
       "    </tr>\n",
       "  </tbody>\n",
       "</table>\n",
       "</div>"
      ],
      "text/plain": [
       "   movieId             title                                    genres  \\\n",
       "0        1  Toy Story (1995)  adventure animation child comedy fantasy   \n",
       "1        1  Toy Story (1995)  adventure animation child comedy fantasy   \n",
       "2        1  Toy Story (1995)  adventure animation child comedy fantasy   \n",
       "3        1  Toy Story (1995)  adventure animation child comedy fantasy   \n",
       "4        1  Toy Story (1995)  adventure animation child comedy fantasy   \n",
       "\n",
       "   userId  rating   timestamp  \n",
       "0  158849     5.0   994716786  \n",
       "1   97203     5.0   942683155  \n",
       "2  161871     3.0   833104576  \n",
       "3   45117     4.0  1442256969  \n",
       "4   27431     5.0   849667827  "
      ]
     },
     "execution_count": 12,
     "metadata": {},
     "output_type": "execute_result"
    }
   ],
   "source": [
    "df_movie_R.head()"
   ]
  },
  {
   "cell_type": "code",
   "execution_count": 13,
   "metadata": {},
   "outputs": [],
   "source": [
    "df_movie_R = df_movie_R[['movieId','userId','title','genres','rating','timestamp']]"
   ]
  },
  {
   "cell_type": "code",
   "execution_count": 14,
   "metadata": {},
   "outputs": [
    {
     "data": {
      "text/html": [
       "<div>\n",
       "<style scoped>\n",
       "    .dataframe tbody tr th:only-of-type {\n",
       "        vertical-align: middle;\n",
       "    }\n",
       "\n",
       "    .dataframe tbody tr th {\n",
       "        vertical-align: top;\n",
       "    }\n",
       "\n",
       "    .dataframe thead th {\n",
       "        text-align: right;\n",
       "    }\n",
       "</style>\n",
       "<table border=\"1\" class=\"dataframe\">\n",
       "  <thead>\n",
       "    <tr style=\"text-align: right;\">\n",
       "      <th></th>\n",
       "      <th>movieId</th>\n",
       "      <th>userId</th>\n",
       "      <th>title</th>\n",
       "      <th>genres</th>\n",
       "      <th>rating</th>\n",
       "      <th>timestamp</th>\n",
       "    </tr>\n",
       "  </thead>\n",
       "  <tbody>\n",
       "    <tr>\n",
       "      <th>0</th>\n",
       "      <td>1</td>\n",
       "      <td>158849</td>\n",
       "      <td>Toy Story (1995)</td>\n",
       "      <td>adventure animation child comedy fantasy</td>\n",
       "      <td>5.0</td>\n",
       "      <td>994716786</td>\n",
       "    </tr>\n",
       "    <tr>\n",
       "      <th>1</th>\n",
       "      <td>1</td>\n",
       "      <td>97203</td>\n",
       "      <td>Toy Story (1995)</td>\n",
       "      <td>adventure animation child comedy fantasy</td>\n",
       "      <td>5.0</td>\n",
       "      <td>942683155</td>\n",
       "    </tr>\n",
       "    <tr>\n",
       "      <th>2</th>\n",
       "      <td>1</td>\n",
       "      <td>161871</td>\n",
       "      <td>Toy Story (1995)</td>\n",
       "      <td>adventure animation child comedy fantasy</td>\n",
       "      <td>3.0</td>\n",
       "      <td>833104576</td>\n",
       "    </tr>\n",
       "    <tr>\n",
       "      <th>3</th>\n",
       "      <td>1</td>\n",
       "      <td>45117</td>\n",
       "      <td>Toy Story (1995)</td>\n",
       "      <td>adventure animation child comedy fantasy</td>\n",
       "      <td>4.0</td>\n",
       "      <td>1442256969</td>\n",
       "    </tr>\n",
       "    <tr>\n",
       "      <th>4</th>\n",
       "      <td>1</td>\n",
       "      <td>27431</td>\n",
       "      <td>Toy Story (1995)</td>\n",
       "      <td>adventure animation child comedy fantasy</td>\n",
       "      <td>5.0</td>\n",
       "      <td>849667827</td>\n",
       "    </tr>\n",
       "  </tbody>\n",
       "</table>\n",
       "</div>"
      ],
      "text/plain": [
       "   movieId  userId             title  \\\n",
       "0        1  158849  Toy Story (1995)   \n",
       "1        1   97203  Toy Story (1995)   \n",
       "2        1  161871  Toy Story (1995)   \n",
       "3        1   45117  Toy Story (1995)   \n",
       "4        1   27431  Toy Story (1995)   \n",
       "\n",
       "                                     genres  rating   timestamp  \n",
       "0  adventure animation child comedy fantasy     5.0   994716786  \n",
       "1  adventure animation child comedy fantasy     5.0   942683155  \n",
       "2  adventure animation child comedy fantasy     3.0   833104576  \n",
       "3  adventure animation child comedy fantasy     4.0  1442256969  \n",
       "4  adventure animation child comedy fantasy     5.0   849667827  "
      ]
     },
     "execution_count": 14,
     "metadata": {},
     "output_type": "execute_result"
    }
   ],
   "source": [
    "df_movie_R.head()"
   ]
  },
  {
   "cell_type": "code",
   "execution_count": 15,
   "metadata": {},
   "outputs": [],
   "source": [
    "def extract_year(string):\n",
    "    string = string.strip()\n",
    "    year = re.findall(r'\\s?\\((\\d{4})\\)$', string)\n",
    "    \n",
    "    try :\n",
    "        return year[0]\n",
    "    except IndexError:\n",
    "        return \"0\""
   ]
  },
  {
   "cell_type": "code",
   "execution_count": 16,
   "metadata": {},
   "outputs": [],
   "source": [
    "df_movie_R[\"year\"] = df_movie_R[\"title\"].apply(extract_year)\n",
    "df_movie_R[\"year\"] = df_movie_R[\"year\"].astype(\"int64\")\n",
    "df_movie_R['title'] = df_movie_R.title.str.replace('(\\(\\d\\d\\d\\d\\))', '')"
   ]
  },
  {
   "cell_type": "code",
   "execution_count": 17,
   "metadata": {},
   "outputs": [
    {
     "data": {
      "text/html": [
       "<div>\n",
       "<style scoped>\n",
       "    .dataframe tbody tr th:only-of-type {\n",
       "        vertical-align: middle;\n",
       "    }\n",
       "\n",
       "    .dataframe tbody tr th {\n",
       "        vertical-align: top;\n",
       "    }\n",
       "\n",
       "    .dataframe thead th {\n",
       "        text-align: right;\n",
       "    }\n",
       "</style>\n",
       "<table border=\"1\" class=\"dataframe\">\n",
       "  <thead>\n",
       "    <tr style=\"text-align: right;\">\n",
       "      <th></th>\n",
       "      <th>movieId</th>\n",
       "      <th>userId</th>\n",
       "      <th>title</th>\n",
       "      <th>genres</th>\n",
       "      <th>rating</th>\n",
       "      <th>timestamp</th>\n",
       "      <th>year</th>\n",
       "    </tr>\n",
       "  </thead>\n",
       "  <tbody>\n",
       "    <tr>\n",
       "      <th>0</th>\n",
       "      <td>1</td>\n",
       "      <td>158849</td>\n",
       "      <td>Toy Story</td>\n",
       "      <td>adventure animation child comedy fantasy</td>\n",
       "      <td>5.0</td>\n",
       "      <td>994716786</td>\n",
       "      <td>1995</td>\n",
       "    </tr>\n",
       "    <tr>\n",
       "      <th>1</th>\n",
       "      <td>1</td>\n",
       "      <td>97203</td>\n",
       "      <td>Toy Story</td>\n",
       "      <td>adventure animation child comedy fantasy</td>\n",
       "      <td>5.0</td>\n",
       "      <td>942683155</td>\n",
       "      <td>1995</td>\n",
       "    </tr>\n",
       "    <tr>\n",
       "      <th>2</th>\n",
       "      <td>1</td>\n",
       "      <td>161871</td>\n",
       "      <td>Toy Story</td>\n",
       "      <td>adventure animation child comedy fantasy</td>\n",
       "      <td>3.0</td>\n",
       "      <td>833104576</td>\n",
       "      <td>1995</td>\n",
       "    </tr>\n",
       "    <tr>\n",
       "      <th>3</th>\n",
       "      <td>1</td>\n",
       "      <td>45117</td>\n",
       "      <td>Toy Story</td>\n",
       "      <td>adventure animation child comedy fantasy</td>\n",
       "      <td>4.0</td>\n",
       "      <td>1442256969</td>\n",
       "      <td>1995</td>\n",
       "    </tr>\n",
       "    <tr>\n",
       "      <th>4</th>\n",
       "      <td>1</td>\n",
       "      <td>27431</td>\n",
       "      <td>Toy Story</td>\n",
       "      <td>adventure animation child comedy fantasy</td>\n",
       "      <td>5.0</td>\n",
       "      <td>849667827</td>\n",
       "      <td>1995</td>\n",
       "    </tr>\n",
       "  </tbody>\n",
       "</table>\n",
       "</div>"
      ],
      "text/plain": [
       "   movieId  userId       title                                    genres  \\\n",
       "0        1  158849  Toy Story   adventure animation child comedy fantasy   \n",
       "1        1   97203  Toy Story   adventure animation child comedy fantasy   \n",
       "2        1  161871  Toy Story   adventure animation child comedy fantasy   \n",
       "3        1   45117  Toy Story   adventure animation child comedy fantasy   \n",
       "4        1   27431  Toy Story   adventure animation child comedy fantasy   \n",
       "\n",
       "   rating   timestamp  year  \n",
       "0     5.0   994716786  1995  \n",
       "1     5.0   942683155  1995  \n",
       "2     3.0   833104576  1995  \n",
       "3     4.0  1442256969  1995  \n",
       "4     5.0   849667827  1995  "
      ]
     },
     "execution_count": 17,
     "metadata": {},
     "output_type": "execute_result"
    }
   ],
   "source": [
    "df_movie_R.head()"
   ]
  },
  {
   "cell_type": "code",
   "execution_count": 35,
   "metadata": {},
   "outputs": [
    {
     "name": "stdout",
     "output_type": "stream",
     "text": [
      "<class 'pandas.core.frame.DataFrame'>\n",
      "Int64Index: 10031668 entries, 0 to 10031667\n",
      "Data columns (total 7 columns):\n",
      " #   Column     Dtype  \n",
      "---  ------     -----  \n",
      " 0   movieId    int64  \n",
      " 1   userId     int64  \n",
      " 2   title      object \n",
      " 3   genres     object \n",
      " 4   rating     float64\n",
      " 5   timestamp  int64  \n",
      " 6   year       int64  \n",
      "dtypes: float64(1), int64(4), object(2)\n",
      "memory usage: 612.3+ MB\n"
     ]
    }
   ],
   "source": [
    "df_movie_R.info()"
   ]
  },
  {
   "cell_type": "code",
   "execution_count": 20,
   "metadata": {},
   "outputs": [],
   "source": [
    "df_movie_R = df_movie_R.drop('timestamp', axis = 1)"
   ]
  },
  {
   "cell_type": "code",
   "execution_count": 21,
   "metadata": {},
   "outputs": [
    {
     "data": {
      "text/html": [
       "<div>\n",
       "<style scoped>\n",
       "    .dataframe tbody tr th:only-of-type {\n",
       "        vertical-align: middle;\n",
       "    }\n",
       "\n",
       "    .dataframe tbody tr th {\n",
       "        vertical-align: top;\n",
       "    }\n",
       "\n",
       "    .dataframe thead th {\n",
       "        text-align: right;\n",
       "    }\n",
       "</style>\n",
       "<table border=\"1\" class=\"dataframe\">\n",
       "  <thead>\n",
       "    <tr style=\"text-align: right;\">\n",
       "      <th></th>\n",
       "      <th>movieId</th>\n",
       "      <th>userId</th>\n",
       "      <th>title</th>\n",
       "      <th>genres</th>\n",
       "      <th>rating</th>\n",
       "      <th>year</th>\n",
       "    </tr>\n",
       "  </thead>\n",
       "  <tbody>\n",
       "    <tr>\n",
       "      <th>0</th>\n",
       "      <td>1</td>\n",
       "      <td>158849</td>\n",
       "      <td>Toy Story</td>\n",
       "      <td>adventure animation child comedy fantasy</td>\n",
       "      <td>5.0</td>\n",
       "      <td>1995</td>\n",
       "    </tr>\n",
       "    <tr>\n",
       "      <th>1</th>\n",
       "      <td>1</td>\n",
       "      <td>97203</td>\n",
       "      <td>Toy Story</td>\n",
       "      <td>adventure animation child comedy fantasy</td>\n",
       "      <td>5.0</td>\n",
       "      <td>1995</td>\n",
       "    </tr>\n",
       "    <tr>\n",
       "      <th>2</th>\n",
       "      <td>1</td>\n",
       "      <td>161871</td>\n",
       "      <td>Toy Story</td>\n",
       "      <td>adventure animation child comedy fantasy</td>\n",
       "      <td>3.0</td>\n",
       "      <td>1995</td>\n",
       "    </tr>\n",
       "    <tr>\n",
       "      <th>3</th>\n",
       "      <td>1</td>\n",
       "      <td>45117</td>\n",
       "      <td>Toy Story</td>\n",
       "      <td>adventure animation child comedy fantasy</td>\n",
       "      <td>4.0</td>\n",
       "      <td>1995</td>\n",
       "    </tr>\n",
       "    <tr>\n",
       "      <th>4</th>\n",
       "      <td>1</td>\n",
       "      <td>27431</td>\n",
       "      <td>Toy Story</td>\n",
       "      <td>adventure animation child comedy fantasy</td>\n",
       "      <td>5.0</td>\n",
       "      <td>1995</td>\n",
       "    </tr>\n",
       "  </tbody>\n",
       "</table>\n",
       "</div>"
      ],
      "text/plain": [
       "   movieId  userId       title                                    genres  \\\n",
       "0        1  158849  Toy Story   adventure animation child comedy fantasy   \n",
       "1        1   97203  Toy Story   adventure animation child comedy fantasy   \n",
       "2        1  161871  Toy Story   adventure animation child comedy fantasy   \n",
       "3        1   45117  Toy Story   adventure animation child comedy fantasy   \n",
       "4        1   27431  Toy Story   adventure animation child comedy fantasy   \n",
       "\n",
       "   rating  year  \n",
       "0     5.0  1995  \n",
       "1     5.0  1995  \n",
       "2     3.0  1995  \n",
       "3     4.0  1995  \n",
       "4     5.0  1995  "
      ]
     },
     "execution_count": 21,
     "metadata": {},
     "output_type": "execute_result"
    }
   ],
   "source": [
    "df_movie_R.head()"
   ]
  },
  {
   "cell_type": "code",
   "execution_count": 9,
   "metadata": {
    "scrolled": true
   },
   "outputs": [
    {
     "data": {
      "text/html": [
       "<div>\n",
       "<style scoped>\n",
       "    .dataframe tbody tr th:only-of-type {\n",
       "        vertical-align: middle;\n",
       "    }\n",
       "\n",
       "    .dataframe tbody tr th {\n",
       "        vertical-align: top;\n",
       "    }\n",
       "\n",
       "    .dataframe thead th {\n",
       "        text-align: right;\n",
       "    }\n",
       "</style>\n",
       "<table border=\"1\" class=\"dataframe\">\n",
       "  <thead>\n",
       "    <tr style=\"text-align: right;\">\n",
       "      <th></th>\n",
       "      <th>movieId</th>\n",
       "      <th>title_cast</th>\n",
       "      <th>director</th>\n",
       "      <th>runtime</th>\n",
       "      <th>budget</th>\n",
       "      <th>plot_keywords</th>\n",
       "    </tr>\n",
       "  </thead>\n",
       "  <tbody>\n",
       "    <tr>\n",
       "      <th>0</th>\n",
       "      <td>1</td>\n",
       "      <td>Tom Hanks|Tim Allen|Don Rickles|Jim Varney|Wallace Shawn|John Ratzenberger|Annie Potts|John Morris|Erik von Detten|Laurie Metcalf|R. Lee Ermey|Sarah Freeman|Penn Jillette|Jack Angel|Spencer Aste</td>\n",
       "      <td>John Lasseter</td>\n",
       "      <td>81.0</td>\n",
       "      <td>$30,000,000</td>\n",
       "      <td>toy|rivalry|cowboy|cgi animation</td>\n",
       "    </tr>\n",
       "    <tr>\n",
       "      <th>1</th>\n",
       "      <td>2</td>\n",
       "      <td>Robin Williams|Jonathan Hyde|Kirsten Dunst|Bradley Pierce|Bonnie Hunt|Bebe Neuwirth|David Alan Grier|Patricia Clarkson|Adam Hann-Byrd|Laura Bell Bundy|James Handy|Gillian Barber|Brandon Obray|Cyrus Thiedeke|Gary Joseph Thorup</td>\n",
       "      <td>Jonathan Hensleigh</td>\n",
       "      <td>104.0</td>\n",
       "      <td>$65,000,000</td>\n",
       "      <td>board game|adventurer|fight|game</td>\n",
       "    </tr>\n",
       "    <tr>\n",
       "      <th>2</th>\n",
       "      <td>3</td>\n",
       "      <td>Walter Matthau|Jack Lemmon|Sophia Loren|Ann-Margret|Burgess Meredith|Daryl Hannah|Kevin Pollak|Katie Sagona|Ann Morgan Guilbert|James Andelin|Marcus Klemp|Max Wright|Cheryl Hawker|Wayne A. Evenson|Allison Levine</td>\n",
       "      <td>Mark Steven Johnson</td>\n",
       "      <td>101.0</td>\n",
       "      <td>$25,000,000</td>\n",
       "      <td>boat|lake|neighbor|rivalry</td>\n",
       "    </tr>\n",
       "    <tr>\n",
       "      <th>3</th>\n",
       "      <td>4</td>\n",
       "      <td>Whitney Houston|Angela Bassett|Loretta Devine|Lela Rochon|Gregory Hines|Dennis Haysbert|Mykelti Williamson|Michael Beach|Leon|Wendell Pierce|Donald Faison|Jeffrey D. Sams|Jazz Raycole|Brandon Hammond|Kenya Moore</td>\n",
       "      <td>Terry McMillan</td>\n",
       "      <td>124.0</td>\n",
       "      <td>$16,000,000</td>\n",
       "      <td>black american|husband wife relationship|betrayal|mother son relationship</td>\n",
       "    </tr>\n",
       "    <tr>\n",
       "      <th>4</th>\n",
       "      <td>5</td>\n",
       "      <td>Steve Martin|Diane Keaton|Martin Short|Kimberly Williams-Paisley|George Newbern|Kieran Culkin|BD Wong|Peter Michael Goetz|Kate McGregor-Stewart|Jane Adams|Eugene Levy|Rebecca Chambers|April Ortiz|Dulcy Rogers|Kathy Anthony</td>\n",
       "      <td>Albert Hackett</td>\n",
       "      <td>106.0</td>\n",
       "      <td>$30,000,000</td>\n",
       "      <td>fatherhood|doberman|dog|mansion</td>\n",
       "    </tr>\n",
       "  </tbody>\n",
       "</table>\n",
       "</div>"
      ],
      "text/plain": [
       "   movieId  \\\n",
       "0        1   \n",
       "1        2   \n",
       "2        3   \n",
       "3        4   \n",
       "4        5   \n",
       "\n",
       "                                                                                                                                                                                                                          title_cast  \\\n",
       "0                                 Tom Hanks|Tim Allen|Don Rickles|Jim Varney|Wallace Shawn|John Ratzenberger|Annie Potts|John Morris|Erik von Detten|Laurie Metcalf|R. Lee Ermey|Sarah Freeman|Penn Jillette|Jack Angel|Spencer Aste   \n",
       "1  Robin Williams|Jonathan Hyde|Kirsten Dunst|Bradley Pierce|Bonnie Hunt|Bebe Neuwirth|David Alan Grier|Patricia Clarkson|Adam Hann-Byrd|Laura Bell Bundy|James Handy|Gillian Barber|Brandon Obray|Cyrus Thiedeke|Gary Joseph Thorup   \n",
       "2                Walter Matthau|Jack Lemmon|Sophia Loren|Ann-Margret|Burgess Meredith|Daryl Hannah|Kevin Pollak|Katie Sagona|Ann Morgan Guilbert|James Andelin|Marcus Klemp|Max Wright|Cheryl Hawker|Wayne A. Evenson|Allison Levine   \n",
       "3                Whitney Houston|Angela Bassett|Loretta Devine|Lela Rochon|Gregory Hines|Dennis Haysbert|Mykelti Williamson|Michael Beach|Leon|Wendell Pierce|Donald Faison|Jeffrey D. Sams|Jazz Raycole|Brandon Hammond|Kenya Moore   \n",
       "4     Steve Martin|Diane Keaton|Martin Short|Kimberly Williams-Paisley|George Newbern|Kieran Culkin|BD Wong|Peter Michael Goetz|Kate McGregor-Stewart|Jane Adams|Eugene Levy|Rebecca Chambers|April Ortiz|Dulcy Rogers|Kathy Anthony   \n",
       "\n",
       "              director  runtime       budget  \\\n",
       "0        John Lasseter     81.0  $30,000,000   \n",
       "1   Jonathan Hensleigh    104.0  $65,000,000   \n",
       "2  Mark Steven Johnson    101.0  $25,000,000   \n",
       "3       Terry McMillan    124.0  $16,000,000   \n",
       "4       Albert Hackett    106.0  $30,000,000   \n",
       "\n",
       "                                                               plot_keywords  \n",
       "0                                           toy|rivalry|cowboy|cgi animation  \n",
       "1                                           board game|adventurer|fight|game  \n",
       "2                                                 boat|lake|neighbor|rivalry  \n",
       "3  black american|husband wife relationship|betrayal|mother son relationship  \n",
       "4                                            fatherhood|doberman|dog|mansion  "
      ]
     },
     "execution_count": 9,
     "metadata": {},
     "output_type": "execute_result"
    }
   ],
   "source": [
    "df_imdb.head()"
   ]
  },
  {
   "cell_type": "code",
   "execution_count": 65,
   "metadata": {},
   "outputs": [
    {
     "data": {
      "text/plain": [
       "movieId              0\n",
       "title_cast       10068\n",
       "director          9874\n",
       "runtime          12089\n",
       "budget           19372\n",
       "plot_keywords    11078\n",
       "dtype: int64"
      ]
     },
     "execution_count": 65,
     "metadata": {},
     "output_type": "execute_result"
    }
   ],
   "source": [
    "df_imdb.isnull().sum()"
   ]
  },
  {
   "cell_type": "code",
   "execution_count": null,
   "metadata": {},
   "outputs": [],
   "source": [
    "df_imdb.dropna(inplace=True)"
   ]
  },
  {
   "cell_type": "code",
   "execution_count": 76,
   "metadata": {},
   "outputs": [
    {
     "data": {
      "text/plain": [
       "(27278, 6)"
      ]
     },
     "execution_count": 76,
     "metadata": {},
     "output_type": "execute_result"
    }
   ],
   "source": [
    "df_imdb.shape"
   ]
  },
  {
   "cell_type": "code",
   "execution_count": 72,
   "metadata": {},
   "outputs": [
    {
     "data": {
      "text/html": [
       "<div>\n",
       "<style scoped>\n",
       "    .dataframe tbody tr th:only-of-type {\n",
       "        vertical-align: middle;\n",
       "    }\n",
       "\n",
       "    .dataframe tbody tr th {\n",
       "        vertical-align: top;\n",
       "    }\n",
       "\n",
       "    .dataframe thead th {\n",
       "        text-align: right;\n",
       "    }\n",
       "</style>\n",
       "<table border=\"1\" class=\"dataframe\">\n",
       "  <thead>\n",
       "    <tr style=\"text-align: right;\">\n",
       "      <th></th>\n",
       "      <th>userId</th>\n",
       "      <th>movieId</th>\n",
       "      <th>tag</th>\n",
       "      <th>timestamp</th>\n",
       "    </tr>\n",
       "  </thead>\n",
       "  <tbody>\n",
       "    <tr>\n",
       "      <th>0</th>\n",
       "      <td>3</td>\n",
       "      <td>260</td>\n",
       "      <td>classic</td>\n",
       "      <td>1439472355</td>\n",
       "    </tr>\n",
       "    <tr>\n",
       "      <th>1</th>\n",
       "      <td>3</td>\n",
       "      <td>260</td>\n",
       "      <td>sci-fi</td>\n",
       "      <td>1439472256</td>\n",
       "    </tr>\n",
       "    <tr>\n",
       "      <th>2</th>\n",
       "      <td>4</td>\n",
       "      <td>1732</td>\n",
       "      <td>dark comedy</td>\n",
       "      <td>1573943598</td>\n",
       "    </tr>\n",
       "    <tr>\n",
       "      <th>3</th>\n",
       "      <td>4</td>\n",
       "      <td>1732</td>\n",
       "      <td>great dialogue</td>\n",
       "      <td>1573943604</td>\n",
       "    </tr>\n",
       "    <tr>\n",
       "      <th>4</th>\n",
       "      <td>4</td>\n",
       "      <td>7569</td>\n",
       "      <td>so bad it's good</td>\n",
       "      <td>1573943455</td>\n",
       "    </tr>\n",
       "  </tbody>\n",
       "</table>\n",
       "</div>"
      ],
      "text/plain": [
       "   userId  movieId               tag   timestamp\n",
       "0       3      260           classic  1439472355\n",
       "1       3      260            sci-fi  1439472256\n",
       "2       4     1732       dark comedy  1573943598\n",
       "3       4     1732    great dialogue  1573943604\n",
       "4       4     7569  so bad it's good  1573943455"
      ]
     },
     "execution_count": 72,
     "metadata": {},
     "output_type": "execute_result"
    }
   ],
   "source": [
    "df_tags.head()"
   ]
  },
  {
   "cell_type": "code",
   "execution_count": 68,
   "metadata": {},
   "outputs": [
    {
     "data": {
      "text/plain": [
       "(10031668, 6)"
      ]
     },
     "execution_count": 68,
     "metadata": {},
     "output_type": "execute_result"
    }
   ],
   "source": [
    "df_movie_R.shape"
   ]
  },
  {
   "cell_type": "code",
   "execution_count": 71,
   "metadata": {
    "scrolled": true
   },
   "outputs": [
    {
     "data": {
      "text/html": [
       "<div>\n",
       "<style scoped>\n",
       "    .dataframe tbody tr th:only-of-type {\n",
       "        vertical-align: middle;\n",
       "    }\n",
       "\n",
       "    .dataframe tbody tr th {\n",
       "        vertical-align: top;\n",
       "    }\n",
       "\n",
       "    .dataframe thead th {\n",
       "        text-align: right;\n",
       "    }\n",
       "</style>\n",
       "<table border=\"1\" class=\"dataframe\">\n",
       "  <thead>\n",
       "    <tr style=\"text-align: right;\">\n",
       "      <th></th>\n",
       "      <th>tagId</th>\n",
       "      <th>tag</th>\n",
       "    </tr>\n",
       "  </thead>\n",
       "  <tbody>\n",
       "    <tr>\n",
       "      <th>0</th>\n",
       "      <td>1</td>\n",
       "      <td>007</td>\n",
       "    </tr>\n",
       "    <tr>\n",
       "      <th>1</th>\n",
       "      <td>2</td>\n",
       "      <td>007 (series)</td>\n",
       "    </tr>\n",
       "    <tr>\n",
       "      <th>2</th>\n",
       "      <td>3</td>\n",
       "      <td>18th century</td>\n",
       "    </tr>\n",
       "    <tr>\n",
       "      <th>3</th>\n",
       "      <td>4</td>\n",
       "      <td>1920s</td>\n",
       "    </tr>\n",
       "    <tr>\n",
       "      <th>4</th>\n",
       "      <td>5</td>\n",
       "      <td>1930s</td>\n",
       "    </tr>\n",
       "  </tbody>\n",
       "</table>\n",
       "</div>"
      ],
      "text/plain": [
       "   tagId           tag\n",
       "0      1           007\n",
       "1      2  007 (series)\n",
       "2      3  18th century\n",
       "3      4         1920s\n",
       "4      5         1930s"
      ]
     },
     "execution_count": 71,
     "metadata": {},
     "output_type": "execute_result"
    }
   ],
   "source": [
    "df_genome_tags.head()"
   ]
  },
  {
   "cell_type": "code",
   "execution_count": 42,
   "metadata": {},
   "outputs": [
    {
     "data": {
      "text/plain": [
       "array(['Toy Story ', 'Jumanji ', 'Grumpier Old Men ', ...,\n",
       "       'Window of the Soul ', 'A Girl Thing ', \"Women of Devil's Island \"],\n",
       "      dtype=object)"
      ]
     },
     "execution_count": 42,
     "metadata": {},
     "output_type": "execute_result"
    }
   ],
   "source": [
    "df_movie_R[''].unique()"
   ]
  },
  {
   "cell_type": "code",
   "execution_count": null,
   "metadata": {},
   "outputs": [],
   "source": []
  },
  {
   "cell_type": "markdown",
   "metadata": {},
   "source": [
    "<a id=\"three\"></a>\n",
    "\n",
    "# **3. Exploratory Data Analysis (EDA)**\n",
    "<a class=\"anchor\" id=\"1.1\"></a>\n",
    "<a href=#cont>Back to Table of Contents</a>\n",
    "\n",
    "---\n",
    "    \n",
    "|  *Description: Exploratory data analysis* |\n",
    "| :--------------------------- |\n",
    "| \n",
    ">In this section, there will be an in-depth analysis of all the variables in the dataframe. |\n",
    "\n",
    "---"
   ]
  },
  {
   "cell_type": "markdown",
   "metadata": {},
   "source": [
    "### <a id=\"three.one\"></a> 3.1 *Why is EDA important?* \n",
    "\n",
    "&#10148; It helps to prepare the dataset for analysis. </br>\n",
    "&#10148; It allows a machine learning model to predict the dataset better. </br>\n",
    "&#10148; It gives more accurate results.  </br>\n",
    "&#10148; It also helps with choosing a better machine learning model. </br>"
   ]
  },
  {
   "cell_type": "markdown",
   "metadata": {},
   "source": [
    "We are going to perform some pandas operations before doing visualisations. So lets just do that first."
   ]
  },
  {
   "cell_type": "code",
   "execution_count": null,
   "metadata": {},
   "outputs": [],
   "source": []
  },
  {
   "cell_type": "code",
   "execution_count": 18,
   "metadata": {
    "scrolled": true
   },
   "outputs": [
    {
     "data": {
      "text/plain": [
       "title\n",
       "\"BLOW THE NIGHT!\" Let's Spend the Night Together     3.000000\n",
       "\"Great Performances\" Cats                            2.753731\n",
       "#1 Cheerleader Camp                                  1.900000\n",
       "#Female Pleasure                                     4.000000\n",
       "#FollowMe                                            2.400000\n",
       "                                                       ...   \n",
       "به نام پدر                                           3.250000\n",
       "…And the Fifth Horseman Is Fear                      3.000000\n",
       "チェブラーシカ                                              2.000000\n",
       "貞子3D                                                 2.562500\n",
       "줄탁동시                                                 3.000000\n",
       "Name: rating, Length: 45634, dtype: float64"
      ]
     },
     "execution_count": 18,
     "metadata": {},
     "output_type": "execute_result"
    }
   ],
   "source": [
    "# This would produce means of all the ratings related to a specific title.\n",
    "df_movie_R.groupby('title')['rating'].mean()"
   ]
  },
  {
   "cell_type": "code",
   "execution_count": 19,
   "metadata": {},
   "outputs": [
    {
     "data": {
      "text/plain": [
       "title\n",
       "Den Brother                                  5.0\n",
       "Red Istanbul                                 5.0\n",
       "Madeline: Lost in Paris                      5.0\n",
       "The Old Fairy Tale: When the Sun Was God     5.0\n",
       "Adios Carmen                                 5.0\n",
       "                                            ... \n",
       "Webcast                                      0.5\n",
       "Mandrake                                     0.5\n",
       "Mandroid                                     0.5\n",
       "Weasels Rip My Flesh                         0.5\n",
       "Road House 2: Last Call                      0.5\n",
       "Name: rating, Length: 45634, dtype: float64"
      ]
     },
     "execution_count": 19,
     "metadata": {},
     "output_type": "execute_result"
    }
   ],
   "source": [
    "# Lets sort them and see which movie has the highest mean of ratings.\n",
    "df_movie_R.groupby(by='title')['rating'].mean().sort_values(ascending=False)"
   ]
  },
  {
   "cell_type": "markdown",
   "metadata": {},
   "source": [
    "Lets explore how many no. of people actually gave ratings to a specific movie."
   ]
  },
  {
   "cell_type": "code",
   "execution_count": 48,
   "metadata": {
    "scrolled": true
   },
   "outputs": [
    {
     "data": {
      "text/plain": [
       "title\n",
       "Aladdin                        35081\n",
       "Shawshank Redemption, The      32831\n",
       "Forrest Gump                   32383\n",
       "Pulp Fiction                   31697\n",
       "Silence of the Lambs, The      29444\n",
       "                               ...  \n",
       "Moonrunners                        1\n",
       "Moonshine County Express           1\n",
       "Moral Tales, Filmic Issues         1\n",
       "More Than a Secretary              1\n",
       "줄탁동시                               1\n",
       "Name: rating, Length: 45634, dtype: int64"
      ]
     },
     "execution_count": 48,
     "metadata": {},
     "output_type": "execute_result"
    }
   ],
   "source": [
    "df_movie_R.groupby(by='title')['rating'].count().sort_values(ascending=False)"
   ]
  },
  {
   "cell_type": "markdown",
   "metadata": {},
   "source": [
    "Lets first create a dataframe and then would probably build a joint plot to know the relationships between the Mean Ratings and the number of people rated it."
   ]
  },
  {
   "cell_type": "code",
   "execution_count": 54,
   "metadata": {},
   "outputs": [],
   "source": [
    "rating_data = pd.DataFrame(df_movie_R.groupby(by='title')['rating'].mean())"
   ]
  },
  {
   "cell_type": "code",
   "execution_count": 55,
   "metadata": {},
   "outputs": [
    {
     "data": {
      "text/html": [
       "<div>\n",
       "<style scoped>\n",
       "    .dataframe tbody tr th:only-of-type {\n",
       "        vertical-align: middle;\n",
       "    }\n",
       "\n",
       "    .dataframe tbody tr th {\n",
       "        vertical-align: top;\n",
       "    }\n",
       "\n",
       "    .dataframe thead th {\n",
       "        text-align: right;\n",
       "    }\n",
       "</style>\n",
       "<table border=\"1\" class=\"dataframe\">\n",
       "  <thead>\n",
       "    <tr style=\"text-align: right;\">\n",
       "      <th></th>\n",
       "      <th>rating</th>\n",
       "    </tr>\n",
       "    <tr>\n",
       "      <th>title</th>\n",
       "      <th></th>\n",
       "    </tr>\n",
       "  </thead>\n",
       "  <tbody>\n",
       "    <tr>\n",
       "      <th>\"BLOW THE NIGHT!\" Let's Spend the Night Together</th>\n",
       "      <td>3.000000</td>\n",
       "    </tr>\n",
       "    <tr>\n",
       "      <th>\"Great Performances\" Cats</th>\n",
       "      <td>2.753731</td>\n",
       "    </tr>\n",
       "    <tr>\n",
       "      <th>#1 Cheerleader Camp</th>\n",
       "      <td>1.900000</td>\n",
       "    </tr>\n",
       "    <tr>\n",
       "      <th>#Female Pleasure</th>\n",
       "      <td>4.000000</td>\n",
       "    </tr>\n",
       "    <tr>\n",
       "      <th>#FollowMe</th>\n",
       "      <td>2.400000</td>\n",
       "    </tr>\n",
       "  </tbody>\n",
       "</table>\n",
       "</div>"
      ],
      "text/plain": [
       "                                                     rating\n",
       "title                                                      \n",
       "\"BLOW THE NIGHT!\" Let's Spend the Night Together   3.000000\n",
       "\"Great Performances\" Cats                          2.753731\n",
       "#1 Cheerleader Camp                                1.900000\n",
       "#Female Pleasure                                   4.000000\n",
       "#FollowMe                                          2.400000"
      ]
     },
     "execution_count": 55,
     "metadata": {},
     "output_type": "execute_result"
    }
   ],
   "source": [
    "rating_data.head()"
   ]
  },
  {
   "cell_type": "code",
   "execution_count": 58,
   "metadata": {},
   "outputs": [],
   "source": [
    "rating_data['No. of people Rated'] = df_movie_R.groupby(by='title')['rating'].count()"
   ]
  },
  {
   "cell_type": "code",
   "execution_count": 59,
   "metadata": {
    "scrolled": true
   },
   "outputs": [
    {
     "data": {
      "text/html": [
       "<div>\n",
       "<style scoped>\n",
       "    .dataframe tbody tr th:only-of-type {\n",
       "        vertical-align: middle;\n",
       "    }\n",
       "\n",
       "    .dataframe tbody tr th {\n",
       "        vertical-align: top;\n",
       "    }\n",
       "\n",
       "    .dataframe thead th {\n",
       "        text-align: right;\n",
       "    }\n",
       "</style>\n",
       "<table border=\"1\" class=\"dataframe\">\n",
       "  <thead>\n",
       "    <tr style=\"text-align: right;\">\n",
       "      <th></th>\n",
       "      <th>rating</th>\n",
       "      <th>No. of people Rated</th>\n",
       "    </tr>\n",
       "    <tr>\n",
       "      <th>title</th>\n",
       "      <th></th>\n",
       "      <th></th>\n",
       "    </tr>\n",
       "  </thead>\n",
       "  <tbody>\n",
       "    <tr>\n",
       "      <th>\"BLOW THE NIGHT!\" Let's Spend the Night Together</th>\n",
       "      <td>3.000000</td>\n",
       "      <td>1</td>\n",
       "    </tr>\n",
       "    <tr>\n",
       "      <th>\"Great Performances\" Cats</th>\n",
       "      <td>2.753731</td>\n",
       "      <td>67</td>\n",
       "    </tr>\n",
       "    <tr>\n",
       "      <th>#1 Cheerleader Camp</th>\n",
       "      <td>1.900000</td>\n",
       "      <td>5</td>\n",
       "    </tr>\n",
       "    <tr>\n",
       "      <th>#Female Pleasure</th>\n",
       "      <td>4.000000</td>\n",
       "      <td>1</td>\n",
       "    </tr>\n",
       "    <tr>\n",
       "      <th>#FollowMe</th>\n",
       "      <td>2.400000</td>\n",
       "      <td>5</td>\n",
       "    </tr>\n",
       "  </tbody>\n",
       "</table>\n",
       "</div>"
      ],
      "text/plain": [
       "                                                     rating  \\\n",
       "title                                                         \n",
       "\"BLOW THE NIGHT!\" Let's Spend the Night Together   3.000000   \n",
       "\"Great Performances\" Cats                          2.753731   \n",
       "#1 Cheerleader Camp                                1.900000   \n",
       "#Female Pleasure                                   4.000000   \n",
       "#FollowMe                                          2.400000   \n",
       "\n",
       "                                                   No. of people Rated  \n",
       "title                                                                   \n",
       "\"BLOW THE NIGHT!\" Let's Spend the Night Together                     1  \n",
       "\"Great Performances\" Cats                                           67  \n",
       "#1 Cheerleader Camp                                                  5  \n",
       "#Female Pleasure                                                     1  \n",
       "#FollowMe                                                            5  "
      ]
     },
     "execution_count": 59,
     "metadata": {},
     "output_type": "execute_result"
    }
   ],
   "source": [
    "rating_data.head()"
   ]
  },
  {
   "cell_type": "code",
   "execution_count": 62,
   "metadata": {},
   "outputs": [
    {
     "name": "stdout",
     "output_type": "stream",
     "text": [
      "The Number of Movies that received 5 Star Reviews : 1449292\n",
      "Percentage of Movies Getting 5 Star Reviews : 0.14%\n"
     ]
    }
   ],
   "source": [
    "# lets Check the Number of Movies that got 5 Star Reviews and Less than 1 Star Reviews\n",
    "\n",
    "print(\"The Number of Movies that received 5 Star Reviews :\", df_movie_R[df_movie_R['rating'] == 5]['title'].count())\n",
    "print(\"Percentage of Movies Getting 5 Star Reviews : {0:.2f}%\".format((df_movie_R[df_movie_R['rating'] == 5]['title'].count())/(df_movie_R.shape[0])))"
   ]
  },
  {
   "cell_type": "code",
   "execution_count": 63,
   "metadata": {
    "scrolled": true
   },
   "outputs": [
    {
     "name": "stdout",
     "output_type": "stream",
     "text": [
      "\n",
      "The Number of Movies that received less than 1 Star Reviews : 469938\n",
      "The Percentage of Movies Getting Less than 1 Star Reviews : 0.05%\n"
     ]
    }
   ],
   "source": [
    "print(\"\\nThe Number of Movies that received less than 1 Star Reviews :\", df_movie_R[df_movie_R['rating'] <= 1]['title'].count())\n",
    "print(\"The Percentage of Movies Getting Less than 1 Star Reviews : {0:.2f}%\".format((\n",
    "    df_movie_R[df_movie_R['rating'] <= 1]['title'].count())/(df_movie_R.shape[0])))"
   ]
  },
  {
   "cell_type": "code",
   "execution_count": 65,
   "metadata": {
    "scrolled": true
   },
   "outputs": [
    {
     "data": {
      "image/png": "[encoded data removed]",
      "text/plain": [
       "<Figure size 432x432 with 3 Axes>"
      ]
     },
     "metadata": {
      "needs_background": "light"
     },
     "output_type": "display_data"
    }
   ],
   "source": [
    "sns.jointplot(x=rating_data['rating'],y=rating_data['No. of people Rated']);"
   ]
  },
  {
   "cell_type": "markdown",
   "metadata": {},
   "source": [
    "This clearly shows that the Movies with ratings in the range of 3 to 4.5 has the most number of ratings. Movies with almost 5 star ratings has around 100 or 200 number of ratings to it. Lets just plot a Densityplot to have a look at the dense regions."
   ]
  },
  {
   "cell_type": "code",
   "execution_count": 76,
   "metadata": {},
   "outputs": [
    {
     "data": {
      "image/png": "[encoded data removed]",
      "text/plain": [
       "<Figure size 648x504 with 1 Axes>"
      ]
     },
     "metadata": {
      "needs_background": "light"
     },
     "output_type": "display_data"
    }
   ],
   "source": [
    "release = df_movie_R['year'].value_counts()\n",
    "release = release.sort_index(ascending=True)\n",
    "\n",
    "plt.figure(figsize=(9,7))\n",
    "plt.plot(release[-11:-1])\n",
    "#plt.scatter(release[-11:-1].index, release[-11:-1].values, s=0.5*release[-11:-1].values, c='Red');\n",
    "plt.box(on=None);\n",
    "plt.xticks(rotation = 60)\n",
    "plt.xticks(release[-11:-1].index);\n",
    "plt.title('Number of Content Released by Year', fontsize=20)\n",
    "plt.xlabel('year')\n",
    "plt.ylabel('movies released');"
   ]
  },
  {
   "cell_type": "code",
   "execution_count": 60,
   "metadata": {},
   "outputs": [
    {
     "data": {
      "image/png": "[encoded data removed]",
      "text/plain": [
       "<Figure size 360x360 with 1 Axes>"
      ]
     },
     "metadata": {
      "needs_background": "light"
     },
     "output_type": "display_data"
    }
   ],
   "source": [
    "# lets check the Distribution of Ratings across the Movies\n",
    "\n",
    "sns.displot(x=rating_data['rating'], color = 'black',kde=True,height=5)\n",
    "plt.title('Distribution of Ratings')\n",
    "plt.grid()"
   ]
  },
  {
   "cell_type": "markdown",
   "metadata": {},
   "source": [
    "The graph is bell shaped which means that the rating data is **normally distributed"
   ]
  },
  {
   "cell_type": "markdown",
   "metadata": {},
   "source": [
    "## Link data"
   ]
  },
  {
   "cell_type": "markdown",
   "metadata": {},
   "source": [
    "Now lets look at the title and genre features we will plot word clouds to show most frequent words "
   ]
  },
  {
   "cell_type": "code",
   "execution_count": 21,
   "metadata": {
    "scrolled": false
   },
   "outputs": [
    {
     "data": {
      "text/html": [
       "<div>\n",
       "<style scoped>\n",
       "    .dataframe tbody tr th:only-of-type {\n",
       "        vertical-align: middle;\n",
       "    }\n",
       "\n",
       "    .dataframe tbody tr th {\n",
       "        vertical-align: top;\n",
       "    }\n",
       "\n",
       "    .dataframe thead th {\n",
       "        text-align: right;\n",
       "    }\n",
       "</style>\n",
       "<table border=\"1\" class=\"dataframe\">\n",
       "  <thead>\n",
       "    <tr style=\"text-align: right;\">\n",
       "      <th></th>\n",
       "      <th>movieId</th>\n",
       "      <th>imdbId</th>\n",
       "      <th>tmdbId</th>\n",
       "    </tr>\n",
       "  </thead>\n",
       "  <tbody>\n",
       "    <tr>\n",
       "      <th>0</th>\n",
       "      <td>1</td>\n",
       "      <td>114709</td>\n",
       "      <td>862.0</td>\n",
       "    </tr>\n",
       "    <tr>\n",
       "      <th>1</th>\n",
       "      <td>2</td>\n",
       "      <td>113497</td>\n",
       "      <td>8844.0</td>\n",
       "    </tr>\n",
       "    <tr>\n",
       "      <th>2</th>\n",
       "      <td>3</td>\n",
       "      <td>113228</td>\n",
       "      <td>15602.0</td>\n",
       "    </tr>\n",
       "    <tr>\n",
       "      <th>3</th>\n",
       "      <td>4</td>\n",
       "      <td>114885</td>\n",
       "      <td>31357.0</td>\n",
       "    </tr>\n",
       "    <tr>\n",
       "      <th>4</th>\n",
       "      <td>5</td>\n",
       "      <td>113041</td>\n",
       "      <td>11862.0</td>\n",
       "    </tr>\n",
       "  </tbody>\n",
       "</table>\n",
       "</div>"
      ],
      "text/plain": [
       "   movieId  imdbId   tmdbId\n",
       "0        1  114709    862.0\n",
       "1        2  113497   8844.0\n",
       "2        3  113228  15602.0\n",
       "3        4  114885  31357.0\n",
       "4        5  113041  11862.0"
      ]
     },
     "execution_count": 21,
     "metadata": {},
     "output_type": "execute_result"
    }
   ],
   "source": [
    "df_links.head()"
   ]
  },
  {
   "cell_type": "code",
   "execution_count": 22,
   "metadata": {},
   "outputs": [
    {
     "data": {
      "text/plain": [
       "(62423, 3)"
      ]
     },
     "execution_count": 22,
     "metadata": {},
     "output_type": "execute_result"
    }
   ],
   "source": [
    "df_links.shape"
   ]
  },
  {
   "cell_type": "code",
   "execution_count": null,
   "metadata": {},
   "outputs": [],
   "source": [
    "def fetch_poster(movie_id):\n",
    "    \"\"\"generate poster link based on id\"\"\"\n",
    "    try:\n",
    "        url = f\"https://api.themoviedb.org/3/movie/{movie_id}?api_key=8265bd1679663a7ea12ac168da84d2e8&language=en-US\"\n",
    "        data_link = requests.get(url)\n",
    "        data_link = data_link.json()\n",
    "        poster_path = data_link['poster_path']\n",
    "        base_poster_url = \"https://image.tmdb.org/t/p/w500/\" + poster_path\n",
    "        return base_poster_url\n",
    "    except :\n",
    "        return \"https://i5.walmartimages.com/asr/4add4de6-7b92-4846-8316-b7a0cbec4dc7_1.8e2f7305081b9284e56d112fe146dc90.png\"\n"
   ]
  },
  {
   "cell_type": "code",
   "execution_count": null,
   "metadata": {},
   "outputs": [],
   "source": [
    "# the following codes takes time to run, the results has been saved as Links_2.csv\n",
    "#links[\"images\"] = links[\"tmdbId\"].apply(fetch_poster)"
   ]
  },
  {
   "cell_type": "code",
   "execution_count": null,
   "metadata": {},
   "outputs": [],
   "source": [
    "def get_links(string):\n",
    "    length = len(str(string))\n",
    "    return \"https://www.imdb.com/title/tt\"+\"0\"*(7 - length)+str(string)+\"/\""
   ]
  },
  {
   "cell_type": "code",
   "execution_count": null,
   "metadata": {},
   "outputs": [],
   "source": [
    "#df_links[\"link\"] = df_links[\"imdbId\"].apply(get_links)"
   ]
  },
  {
   "cell_type": "code",
   "execution_count": null,
   "metadata": {},
   "outputs": [],
   "source": [
    "#df_links.to_csv('Links2.csv', index=False)"
   ]
  },
  {
   "cell_type": "code",
   "execution_count": 23,
   "metadata": {},
   "outputs": [],
   "source": [
    "df_link2 = pd.read_csv(\"Links2.csv\")"
   ]
  },
  {
   "cell_type": "code",
   "execution_count": 26,
   "metadata": {
    "scrolled": true
   },
   "outputs": [
    {
     "data": {
      "text/html": [
       "<div>\n",
       "<style scoped>\n",
       "    .dataframe tbody tr th:only-of-type {\n",
       "        vertical-align: middle;\n",
       "    }\n",
       "\n",
       "    .dataframe tbody tr th {\n",
       "        vertical-align: top;\n",
       "    }\n",
       "\n",
       "    .dataframe thead th {\n",
       "        text-align: right;\n",
       "    }\n",
       "</style>\n",
       "<table border=\"1\" class=\"dataframe\">\n",
       "  <thead>\n",
       "    <tr style=\"text-align: right;\">\n",
       "      <th></th>\n",
       "      <th>Unnamed: 0</th>\n",
       "      <th>movieId</th>\n",
       "      <th>imdbId</th>\n",
       "      <th>tmdbId</th>\n",
       "      <th>link</th>\n",
       "      <th>images</th>\n",
       "    </tr>\n",
       "  </thead>\n",
       "  <tbody>\n",
       "    <tr>\n",
       "      <th>0</th>\n",
       "      <td>0</td>\n",
       "      <td>1</td>\n",
       "      <td>114709</td>\n",
       "      <td>862.0</td>\n",
       "      <td>https://www.imdb.com/title/tt0114709/</td>\n",
       "      <td>https://image.tmdb.org/t/p/w500//uXDfjJbdP4ijW5hWSBrPrlKpxab.jpg</td>\n",
       "    </tr>\n",
       "    <tr>\n",
       "      <th>1</th>\n",
       "      <td>1</td>\n",
       "      <td>2</td>\n",
       "      <td>113497</td>\n",
       "      <td>8844.0</td>\n",
       "      <td>https://www.imdb.com/title/tt0113497/</td>\n",
       "      <td>https://image.tmdb.org/t/p/w500//vgpXmVaVyUL7GGiDeiK1mKEKzcX.jpg</td>\n",
       "    </tr>\n",
       "    <tr>\n",
       "      <th>2</th>\n",
       "      <td>2</td>\n",
       "      <td>3</td>\n",
       "      <td>113228</td>\n",
       "      <td>15602.0</td>\n",
       "      <td>https://www.imdb.com/title/tt0113228/</td>\n",
       "      <td>https://image.tmdb.org/t/p/w500//1FSXpj5e8l4KH6nVFO5SPUeraOt.jpg</td>\n",
       "    </tr>\n",
       "    <tr>\n",
       "      <th>3</th>\n",
       "      <td>3</td>\n",
       "      <td>4</td>\n",
       "      <td>114885</td>\n",
       "      <td>31357.0</td>\n",
       "      <td>https://www.imdb.com/title/tt0114885/</td>\n",
       "      <td>https://image.tmdb.org/t/p/w500//4uw6HKq4vlhrSVp0zkgd4zCy4Pf.jpg</td>\n",
       "    </tr>\n",
       "    <tr>\n",
       "      <th>4</th>\n",
       "      <td>4</td>\n",
       "      <td>5</td>\n",
       "      <td>113041</td>\n",
       "      <td>11862.0</td>\n",
       "      <td>https://www.imdb.com/title/tt0113041/</td>\n",
       "      <td>https://image.tmdb.org/t/p/w500//rj4LBtwQ0uGrpBnCELr716Qo3mw.jpg</td>\n",
       "    </tr>\n",
       "  </tbody>\n",
       "</table>\n",
       "</div>"
      ],
      "text/plain": [
       "   Unnamed: 0  movieId  imdbId   tmdbId  \\\n",
       "0           0        1  114709    862.0   \n",
       "1           1        2  113497   8844.0   \n",
       "2           2        3  113228  15602.0   \n",
       "3           3        4  114885  31357.0   \n",
       "4           4        5  113041  11862.0   \n",
       "\n",
       "                                    link  \\\n",
       "0  https://www.imdb.com/title/tt0114709/   \n",
       "1  https://www.imdb.com/title/tt0113497/   \n",
       "2  https://www.imdb.com/title/tt0113228/   \n",
       "3  https://www.imdb.com/title/tt0114885/   \n",
       "4  https://www.imdb.com/title/tt0113041/   \n",
       "\n",
       "                                                             images  \n",
       "0  https://image.tmdb.org/t/p/w500//uXDfjJbdP4ijW5hWSBrPrlKpxab.jpg  \n",
       "1  https://image.tmdb.org/t/p/w500//vgpXmVaVyUL7GGiDeiK1mKEKzcX.jpg  \n",
       "2  https://image.tmdb.org/t/p/w500//1FSXpj5e8l4KH6nVFO5SPUeraOt.jpg  \n",
       "3  https://image.tmdb.org/t/p/w500//4uw6HKq4vlhrSVp0zkgd4zCy4Pf.jpg  \n",
       "4  https://image.tmdb.org/t/p/w500//rj4LBtwQ0uGrpBnCELr716Qo3mw.jpg  "
      ]
     },
     "execution_count": 26,
     "metadata": {},
     "output_type": "execute_result"
    }
   ],
   "source": [
    "df_link2.head()"
   ]
  },
  {
   "cell_type": "code",
   "execution_count": 38,
   "metadata": {},
   "outputs": [],
   "source": [
    "df_link2['images'] = \"<img src='\" + df_link2['images'] + \"' style='height:100px;'>\""
   ]
  },
  {
   "cell_type": "code",
   "execution_count": 28,
   "metadata": {},
   "outputs": [],
   "source": [
    "df_link2 = df_link2.drop('Unnamed: 0',axis=1)"
   ]
  },
  {
   "cell_type": "code",
   "execution_count": 40,
   "metadata": {
    "scrolled": true
   },
   "outputs": [
    {
     "data": {
      "text/html": [
       "<div>\n",
       "<style scoped>\n",
       "    .dataframe tbody tr th:only-of-type {\n",
       "        vertical-align: middle;\n",
       "    }\n",
       "\n",
       "    .dataframe tbody tr th {\n",
       "        vertical-align: top;\n",
       "    }\n",
       "\n",
       "    .dataframe thead th {\n",
       "        text-align: right;\n",
       "    }\n",
       "</style>\n",
       "<table border=\"1\" class=\"dataframe\">\n",
       "  <thead>\n",
       "    <tr style=\"text-align: right;\">\n",
       "      <th></th>\n",
       "      <th>movieId</th>\n",
       "      <th>imdbId</th>\n",
       "      <th>tmdbId</th>\n",
       "      <th>link</th>\n",
       "      <th>images</th>\n",
       "    </tr>\n",
       "  </thead>\n",
       "  <tbody>\n",
       "    <tr>\n",
       "      <th>0</th>\n",
       "      <td>1</td>\n",
       "      <td>114709</td>\n",
       "      <td>862.0</td>\n",
       "      <td>https://www.imdb.com/title/tt0114709/</td>\n",
       "      <td>&lt;img src='https://image.tmdb.org/t/p/w500//uXDfjJbdP4ijW5hWSBrPrlKpxab.jpg' style='height:100px;'&gt;</td>\n",
       "    </tr>\n",
       "    <tr>\n",
       "      <th>1</th>\n",
       "      <td>2</td>\n",
       "      <td>113497</td>\n",
       "      <td>8844.0</td>\n",
       "      <td>https://www.imdb.com/title/tt0113497/</td>\n",
       "      <td>&lt;img src='https://image.tmdb.org/t/p/w500//vgpXmVaVyUL7GGiDeiK1mKEKzcX.jpg' style='height:100px;'&gt;</td>\n",
       "    </tr>\n",
       "    <tr>\n",
       "      <th>2</th>\n",
       "      <td>3</td>\n",
       "      <td>113228</td>\n",
       "      <td>15602.0</td>\n",
       "      <td>https://www.imdb.com/title/tt0113228/</td>\n",
       "      <td>&lt;img src='https://image.tmdb.org/t/p/w500//1FSXpj5e8l4KH6nVFO5SPUeraOt.jpg' style='height:100px;'&gt;</td>\n",
       "    </tr>\n",
       "    <tr>\n",
       "      <th>3</th>\n",
       "      <td>4</td>\n",
       "      <td>114885</td>\n",
       "      <td>31357.0</td>\n",
       "      <td>https://www.imdb.com/title/tt0114885/</td>\n",
       "      <td>&lt;img src='https://image.tmdb.org/t/p/w500//4uw6HKq4vlhrSVp0zkgd4zCy4Pf.jpg' style='height:100px;'&gt;</td>\n",
       "    </tr>\n",
       "    <tr>\n",
       "      <th>4</th>\n",
       "      <td>5</td>\n",
       "      <td>113041</td>\n",
       "      <td>11862.0</td>\n",
       "      <td>https://www.imdb.com/title/tt0113041/</td>\n",
       "      <td>&lt;img src='https://image.tmdb.org/t/p/w500//rj4LBtwQ0uGrpBnCELr716Qo3mw.jpg' style='height:100px;'&gt;</td>\n",
       "    </tr>\n",
       "  </tbody>\n",
       "</table>\n",
       "</div>"
      ],
      "text/plain": [
       "   movieId  imdbId   tmdbId                                   link  \\\n",
       "0        1  114709    862.0  https://www.imdb.com/title/tt0114709/   \n",
       "1        2  113497   8844.0  https://www.imdb.com/title/tt0113497/   \n",
       "2        3  113228  15602.0  https://www.imdb.com/title/tt0113228/   \n",
       "3        4  114885  31357.0  https://www.imdb.com/title/tt0114885/   \n",
       "4        5  113041  11862.0  https://www.imdb.com/title/tt0113041/   \n",
       "\n",
       "                                                                                               images  \n",
       "0  <img src='https://image.tmdb.org/t/p/w500//uXDfjJbdP4ijW5hWSBrPrlKpxab.jpg' style='height:100px;'>  \n",
       "1  <img src='https://image.tmdb.org/t/p/w500//vgpXmVaVyUL7GGiDeiK1mKEKzcX.jpg' style='height:100px;'>  \n",
       "2  <img src='https://image.tmdb.org/t/p/w500//1FSXpj5e8l4KH6nVFO5SPUeraOt.jpg' style='height:100px;'>  \n",
       "3  <img src='https://image.tmdb.org/t/p/w500//4uw6HKq4vlhrSVp0zkgd4zCy4Pf.jpg' style='height:100px;'>  \n",
       "4  <img src='https://image.tmdb.org/t/p/w500//rj4LBtwQ0uGrpBnCELr716Qo3mw.jpg' style='height:100px;'>  "
      ]
     },
     "execution_count": 40,
     "metadata": {},
     "output_type": "execute_result"
    }
   ],
   "source": [
    "df_link2.head()"
   ]
  },
  {
   "cell_type": "code",
   "execution_count": 41,
   "metadata": {},
   "outputs": [],
   "source": [
    "df_combined = pd.merge(df_movie_R,df_link2,on='movieId', how = 'inner')"
   ]
  },
  {
   "cell_type": "code",
   "execution_count": 42,
   "metadata": {},
   "outputs": [
    {
     "data": {
      "text/html": [
       "<div>\n",
       "<style scoped>\n",
       "    .dataframe tbody tr th:only-of-type {\n",
       "        vertical-align: middle;\n",
       "    }\n",
       "\n",
       "    .dataframe tbody tr th {\n",
       "        vertical-align: top;\n",
       "    }\n",
       "\n",
       "    .dataframe thead th {\n",
       "        text-align: right;\n",
       "    }\n",
       "</style>\n",
       "<table border=\"1\" class=\"dataframe\">\n",
       "  <thead>\n",
       "    <tr style=\"text-align: right;\">\n",
       "      <th></th>\n",
       "      <th>movieId</th>\n",
       "      <th>userId</th>\n",
       "      <th>title</th>\n",
       "      <th>genres</th>\n",
       "      <th>rating</th>\n",
       "      <th>timestamp</th>\n",
       "      <th>year</th>\n",
       "      <th>imdbId</th>\n",
       "      <th>tmdbId</th>\n",
       "      <th>link</th>\n",
       "      <th>images</th>\n",
       "    </tr>\n",
       "  </thead>\n",
       "  <tbody>\n",
       "    <tr>\n",
       "      <th>0</th>\n",
       "      <td>1</td>\n",
       "      <td>158849</td>\n",
       "      <td>Toy Story</td>\n",
       "      <td>adventure animation child comedy fantasy</td>\n",
       "      <td>5.0</td>\n",
       "      <td>994716786</td>\n",
       "      <td>1995</td>\n",
       "      <td>114709</td>\n",
       "      <td>862.0</td>\n",
       "      <td>https://www.imdb.com/title/tt0114709/</td>\n",
       "      <td>&lt;img src='https://image.tmdb.org/t/p/w500//uXDfjJbdP4ijW5hWSBrPrlKpxab.jpg' style='height:100px;'&gt;</td>\n",
       "    </tr>\n",
       "    <tr>\n",
       "      <th>1</th>\n",
       "      <td>1</td>\n",
       "      <td>97203</td>\n",
       "      <td>Toy Story</td>\n",
       "      <td>adventure animation child comedy fantasy</td>\n",
       "      <td>5.0</td>\n",
       "      <td>942683155</td>\n",
       "      <td>1995</td>\n",
       "      <td>114709</td>\n",
       "      <td>862.0</td>\n",
       "      <td>https://www.imdb.com/title/tt0114709/</td>\n",
       "      <td>&lt;img src='https://image.tmdb.org/t/p/w500//uXDfjJbdP4ijW5hWSBrPrlKpxab.jpg' style='height:100px;'&gt;</td>\n",
       "    </tr>\n",
       "    <tr>\n",
       "      <th>2</th>\n",
       "      <td>1</td>\n",
       "      <td>161871</td>\n",
       "      <td>Toy Story</td>\n",
       "      <td>adventure animation child comedy fantasy</td>\n",
       "      <td>3.0</td>\n",
       "      <td>833104576</td>\n",
       "      <td>1995</td>\n",
       "      <td>114709</td>\n",
       "      <td>862.0</td>\n",
       "      <td>https://www.imdb.com/title/tt0114709/</td>\n",
       "      <td>&lt;img src='https://image.tmdb.org/t/p/w500//uXDfjJbdP4ijW5hWSBrPrlKpxab.jpg' style='height:100px;'&gt;</td>\n",
       "    </tr>\n",
       "    <tr>\n",
       "      <th>3</th>\n",
       "      <td>1</td>\n",
       "      <td>45117</td>\n",
       "      <td>Toy Story</td>\n",
       "      <td>adventure animation child comedy fantasy</td>\n",
       "      <td>4.0</td>\n",
       "      <td>1442256969</td>\n",
       "      <td>1995</td>\n",
       "      <td>114709</td>\n",
       "      <td>862.0</td>\n",
       "      <td>https://www.imdb.com/title/tt0114709/</td>\n",
       "      <td>&lt;img src='https://image.tmdb.org/t/p/w500//uXDfjJbdP4ijW5hWSBrPrlKpxab.jpg' style='height:100px;'&gt;</td>\n",
       "    </tr>\n",
       "    <tr>\n",
       "      <th>4</th>\n",
       "      <td>1</td>\n",
       "      <td>27431</td>\n",
       "      <td>Toy Story</td>\n",
       "      <td>adventure animation child comedy fantasy</td>\n",
       "      <td>5.0</td>\n",
       "      <td>849667827</td>\n",
       "      <td>1995</td>\n",
       "      <td>114709</td>\n",
       "      <td>862.0</td>\n",
       "      <td>https://www.imdb.com/title/tt0114709/</td>\n",
       "      <td>&lt;img src='https://image.tmdb.org/t/p/w500//uXDfjJbdP4ijW5hWSBrPrlKpxab.jpg' style='height:100px;'&gt;</td>\n",
       "    </tr>\n",
       "  </tbody>\n",
       "</table>\n",
       "</div>"
      ],
      "text/plain": [
       "   movieId  userId       title                                    genres  \\\n",
       "0        1  158849  Toy Story   adventure animation child comedy fantasy   \n",
       "1        1   97203  Toy Story   adventure animation child comedy fantasy   \n",
       "2        1  161871  Toy Story   adventure animation child comedy fantasy   \n",
       "3        1   45117  Toy Story   adventure animation child comedy fantasy   \n",
       "4        1   27431  Toy Story   adventure animation child comedy fantasy   \n",
       "\n",
       "   rating   timestamp  year  imdbId  tmdbId  \\\n",
       "0     5.0   994716786  1995  114709   862.0   \n",
       "1     5.0   942683155  1995  114709   862.0   \n",
       "2     3.0   833104576  1995  114709   862.0   \n",
       "3     4.0  1442256969  1995  114709   862.0   \n",
       "4     5.0   849667827  1995  114709   862.0   \n",
       "\n",
       "                                    link  \\\n",
       "0  https://www.imdb.com/title/tt0114709/   \n",
       "1  https://www.imdb.com/title/tt0114709/   \n",
       "2  https://www.imdb.com/title/tt0114709/   \n",
       "3  https://www.imdb.com/title/tt0114709/   \n",
       "4  https://www.imdb.com/title/tt0114709/   \n",
       "\n",
       "                                                                                               images  \n",
       "0  <img src='https://image.tmdb.org/t/p/w500//uXDfjJbdP4ijW5hWSBrPrlKpxab.jpg' style='height:100px;'>  \n",
       "1  <img src='https://image.tmdb.org/t/p/w500//uXDfjJbdP4ijW5hWSBrPrlKpxab.jpg' style='height:100px;'>  \n",
       "2  <img src='https://image.tmdb.org/t/p/w500//uXDfjJbdP4ijW5hWSBrPrlKpxab.jpg' style='height:100px;'>  \n",
       "3  <img src='https://image.tmdb.org/t/p/w500//uXDfjJbdP4ijW5hWSBrPrlKpxab.jpg' style='height:100px;'>  \n",
       "4  <img src='https://image.tmdb.org/t/p/w500//uXDfjJbdP4ijW5hWSBrPrlKpxab.jpg' style='height:100px;'>  "
      ]
     },
     "execution_count": 42,
     "metadata": {},
     "output_type": "execute_result"
    }
   ],
   "source": [
    "df_combined.head()"
   ]
  },
  {
   "cell_type": "code",
   "execution_count": 46,
   "metadata": {},
   "outputs": [
    {
     "data": {
      "text/html": [
       "<table border=\"1\" class=\"dataframe\">\n",
       "  <thead>\n",
       "    <tr style=\"text-align: right;\">\n",
       "      <th></th>\n",
       "      <th>movieId</th>\n",
       "      <th>images</th>\n",
       "      <th>title</th>\n",
       "      <th>genres</th>\n",
       "      <th>rating</th>\n",
       "      <th>year</th>\n",
       "    </tr>\n",
       "  </thead>\n",
       "  <tbody>\n",
       "    <tr>\n",
       "      <th>0</th>\n",
       "      <td>1</td>\n",
       "      <td><img src='https://image.tmdb.org/t/p/w500//uXDfjJbdP4ijW5hWSBrPrlKpxab.jpg' style='height:100px;'></td>\n",
       "      <td>Toy Story</td>\n",
       "      <td>adventure animation child comedy fantasy</td>\n",
       "      <td>5.0</td>\n",
       "      <td>1995</td>\n",
       "    </tr>\n",
       "    <tr>\n",
       "      <th>3191108</th>\n",
       "      <td>1391</td>\n",
       "      <td><img src='https://image.tmdb.org/t/p/w500//hll4O5vSAfnZDb6JbnP06GPtz7b.jpg' style='height:100px;'></td>\n",
       "      <td>Mars Attacks!</td>\n",
       "      <td>action comedy sci-fi</td>\n",
       "      <td>5.0</td>\n",
       "      <td>1996</td>\n",
       "    </tr>\n",
       "    <tr>\n",
       "      <th>3191124</th>\n",
       "      <td>1391</td>\n",
       "      <td><img src='https://image.tmdb.org/t/p/w500//hll4O5vSAfnZDb6JbnP06GPtz7b.jpg' style='height:100px;'></td>\n",
       "      <td>Mars Attacks!</td>\n",
       "      <td>action comedy sci-fi</td>\n",
       "      <td>5.0</td>\n",
       "      <td>1996</td>\n",
       "    </tr>\n",
       "    <tr>\n",
       "      <th>3191153</th>\n",
       "      <td>1391</td>\n",
       "      <td><img src='https://image.tmdb.org/t/p/w500//hll4O5vSAfnZDb6JbnP06GPtz7b.jpg' style='height:100px;'></td>\n",
       "      <td>Mars Attacks!</td>\n",
       "      <td>action comedy sci-fi</td>\n",
       "      <td>5.0</td>\n",
       "      <td>1996</td>\n",
       "    </tr>\n",
       "    <tr>\n",
       "      <th>3191171</th>\n",
       "      <td>1391</td>\n",
       "      <td><img src='https://image.tmdb.org/t/p/w500//hll4O5vSAfnZDb6JbnP06GPtz7b.jpg' style='height:100px;'></td>\n",
       "      <td>Mars Attacks!</td>\n",
       "      <td>action comedy sci-fi</td>\n",
       "      <td>5.0</td>\n",
       "      <td>1996</td>\n",
       "    </tr>\n",
       "    <tr>\n",
       "      <th>3191181</th>\n",
       "      <td>1391</td>\n",
       "      <td><img src='https://image.tmdb.org/t/p/w500//hll4O5vSAfnZDb6JbnP06GPtz7b.jpg' style='height:100px;'></td>\n",
       "      <td>Mars Attacks!</td>\n",
       "      <td>action comedy sci-fi</td>\n",
       "      <td>5.0</td>\n",
       "      <td>1996</td>\n",
       "    </tr>\n",
       "    <tr>\n",
       "      <th>3191195</th>\n",
       "      <td>1391</td>\n",
       "      <td><img src='https://image.tmdb.org/t/p/w500//hll4O5vSAfnZDb6JbnP06GPtz7b.jpg' style='height:100px;'></td>\n",
       "      <td>Mars Attacks!</td>\n",
       "      <td>action comedy sci-fi</td>\n",
       "      <td>5.0</td>\n",
       "      <td>1996</td>\n",
       "    </tr>\n",
       "    <tr>\n",
       "      <th>3191217</th>\n",
       "      <td>1391</td>\n",
       "      <td><img src='https://image.tmdb.org/t/p/w500//hll4O5vSAfnZDb6JbnP06GPtz7b.jpg' style='height:100px;'></td>\n",
       "      <td>Mars Attacks!</td>\n",
       "      <td>action comedy sci-fi</td>\n",
       "      <td>5.0</td>\n",
       "      <td>1996</td>\n",
       "    </tr>\n",
       "    <tr>\n",
       "      <th>3191219</th>\n",
       "      <td>1391</td>\n",
       "      <td><img src='https://image.tmdb.org/t/p/w500//hll4O5vSAfnZDb6JbnP06GPtz7b.jpg' style='height:100px;'></td>\n",
       "      <td>Mars Attacks!</td>\n",
       "      <td>action comedy sci-fi</td>\n",
       "      <td>5.0</td>\n",
       "      <td>1996</td>\n",
       "    </tr>\n",
       "    <tr>\n",
       "      <th>3191246</th>\n",
       "      <td>1391</td>\n",
       "      <td><img src='https://image.tmdb.org/t/p/w500//hll4O5vSAfnZDb6JbnP06GPtz7b.jpg' style='height:100px;'></td>\n",
       "      <td>Mars Attacks!</td>\n",
       "      <td>action comedy sci-fi</td>\n",
       "      <td>5.0</td>\n",
       "      <td>1996</td>\n",
       "    </tr>\n",
       "  </tbody>\n",
       "</table>"
      ],
      "text/plain": [
       "<IPython.core.display.HTML object>"
      ]
     },
     "execution_count": 46,
     "metadata": {},
     "output_type": "execute_result"
    }
   ],
   "source": [
    "movies_by_year = df_combined[['movieId','images', 'title', 'genres', 'rating', 'year']].sort_values('rating', ascending=False).head(10)\n",
    "pd.set_option('display.max_colwidth', 100)\n",
    "HTML(movies_by_year.to_html(escape=False))"
   ]
  },
  {
   "cell_type": "code",
   "execution_count": null,
   "metadata": {},
   "outputs": [],
   "source": []
  },
  {
   "cell_type": "code",
   "execution_count": null,
   "metadata": {},
   "outputs": [],
   "source": []
  },
  {
   "cell_type": "code",
   "execution_count": null,
   "metadata": {},
   "outputs": [],
   "source": []
  },
  {
   "cell_type": "code",
   "execution_count": null,
   "metadata": {},
   "outputs": [],
   "source": []
  },
  {
   "cell_type": "code",
   "execution_count": null,
   "metadata": {},
   "outputs": [],
   "source": []
  },
  {
   "cell_type": "markdown",
   "metadata": {},
   "source": [
    "<a id=\"four\"></a>\n",
    "\n",
    "# **4. Data Engineering**\n",
    "<a class=\"anchor\" id=\"1.1\"></a>\n",
    "<a href=#cont>Back to Table of Contents</a>\n",
    "\n",
    "---\n",
    "    \n",
    "|  *Description: Data engineering*  |\n",
    "| :--------------------------- |\n",
    "| \n",
    ">In this section the dataset will be cleaned and possible new new features created - as identified in the EDA phase. |\n",
    "\n",
    "---\n"
   ]
  },
  {
   "cell_type": "markdown",
   "metadata": {},
   "source": [
    "<a id=\"five\"></a>\n",
    "\n",
    "# **5. Modelling**\n",
    "<a class=\"anchor\" id=\"1.1\"></a>\n",
    "<a href=#cont>Back to Table of Contents</a>\n",
    "\n",
    "---\n",
    "    \n",
    "| *Description: Modelling*  |\n",
    "| :--------------------------- |\n",
    "| \n",
    ">In this section models will be built,namley: . |\n",
    "\n",
    "---"
   ]
  },
  {
   "cell_type": "markdown",
   "metadata": {},
   "source": [
    "<a id=\"six\"></a>\n",
    "\n",
    "# **6.Model Performance**\n",
    "<a class=\"anchor\" id=\"1.1\"></a>\n",
    "<a href=#cont>Back to Table of Contents</a>\n",
    "\n",
    "---\n",
    "    \n",
    "| *Description: Model performance* |\n",
    "| :--------------------------- |\n",
    "| \n",
    ">In this section the models that were built will be compared relative to their performance and the best model will be selected. |\n",
    "\n",
    "---"
   ]
  },
  {
   "cell_type": "markdown",
   "metadata": {},
   "source": [
    "<a id=\"seven\"></a>\n",
    "\n",
    "# **7. Model Explanation**\n",
    "<a class=\"anchor\" id=\"1.1\"></a>\n",
    "<a href=#cont>Back to Table of Contents</a>\n",
    "\n",
    "---\n",
    "    \n",
    "|  *Description: Model explanation*  |\n",
    "| :--------------------------- |\n",
    "| \n",
    ">A brief explanation is given of which model preformed the best\n",
    "---\n",
    "\n",
    "![](https://imageio.forbes.com/specials-images/dam/imageserve/966248982/660x0.jpg?format=jpg&width=960)"
   ]
  },
  {
   "cell_type": "markdown",
   "metadata": {},
   "source": []
  }
 ],
 "metadata": {
  "kernelspec": {
   "display_name": "Python 3 (ipykernel)",
   "language": "python",
   "name": "python3"
  },
  "language_info": {
   "codemirror_mode": {
    "name": "ipython",
    "version": 3
   },
   "file_extension": ".py",
   "mimetype": "text/x-python",
   "name": "python",
   "nbconvert_exporter": "python",
   "pygments_lexer": "ipython3",
   "version": "3.9.12"
  },
  "vscode": {
   "interpreter": {
    "hash": "ca2bc8e3f39d2931ba3f946aae372e8bb6c1cec41de64bd0d3a80050e300b4f2"
   }
  }
 },
 "nbformat": 4,
 "nbformat_minor": 2
}
